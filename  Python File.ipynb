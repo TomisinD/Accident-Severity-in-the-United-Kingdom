{
 "cells": [
  {
   "cell_type": "markdown",
   "id": "336e2d8f-3384-44dd-8e87-5a00f5d146c2",
   "metadata": {},
   "source": [
    "### Importing Libraries"
   ]
  },
  {
   "cell_type": "code",
   "execution_count": 1,
   "id": "5ccfe19a-3e9b-4a9c-bc70-84cda7433d17",
   "metadata": {},
   "outputs": [],
   "source": [
    "import pandas as pd\n",
    "import numpy as np\n",
    "import scipy.stats as stats\n",
    "import datetime\n",
    "import matplotlib.pyplot as plt\n",
    "import seaborn as sns\n",
    "#import plotly.express as px\n",
    "import datetime\n",
    "from sklearn.preprocessing import StandardScaler\n",
    "from sklearn.model_selection import train_test_split\n",
    "from sklearn.metrics import confusion_matrix, accuracy_score\n",
    "from sklearn.metrics import accuracy_score, confusion_matrix, classification_report, f1_score, precision_score, recall_score, roc_auc_score, roc_curve\n",
    "import tensorflow as tf\n",
    "import lightgbm as gbm\n",
    "from tensorflow import keras\n",
    "from keras.models import Sequential\n",
    "from keras.layers import Dropout,Dense, Flatten\n",
    "from keras.utils import to_categorical\n",
    "from keras.layers.convolutional import Conv1D,MaxPooling1D\n",
    "from keras.optimizers import SGD\n",
    "from tensorflow.keras.layers import LSTM\n",
    "import warnings\n",
    "warnings.filterwarnings('ignore')\n"
   ]
  },
  {
   "cell_type": "markdown",
   "id": "915be978-bc2f-4956-89b7-712c0c9657ac",
   "metadata": {},
   "source": [
    "### importing the First Dataset"
   ]
  },
  {
   "cell_type": "code",
   "execution_count": 2,
   "id": "fab38a51-db44-4802-a4ca-e61951f9cf61",
   "metadata": {},
   "outputs": [],
   "source": [
    "df1=pd.read_csv('dft-road-casualty-statistics-vehicle-1979-2020.csv',low_memory=False).dropna()\n",
    "df2=pd.read_csv('dft-road-casualty-statistics-vehicle-2021.csv',low_memory=False).dropna()\n",
    "df3=pd.read_csv('dft-road-casualty-statistics-vehicle-2022.csv',low_memory=False).dropna()"
   ]
  },
  {
   "cell_type": "markdown",
   "id": "8f19bfcb-7826-4d96-a4ea-b3de89082ce2",
   "metadata": {},
   "source": [
    "### importing the Second Dataset"
   ]
  },
  {
   "cell_type": "code",
   "execution_count": 3,
   "id": "255fcf88-c0dc-4d8c-a2e5-fbad80062cd1",
   "metadata": {},
   "outputs": [],
   "source": [
    "df4=pd.read_csv('dft-road-casualty-statistics-collision-2021.csv',low_memory=False).dropna()\n",
    "df5=pd.read_csv('dft-road-casualty-statistics-collision-2022.csv',low_memory=False).dropna()"
   ]
  },
  {
   "cell_type": "markdown",
   "id": "9a179d7d-03cb-4f72-b41f-f87410af83b5",
   "metadata": {},
   "source": [
    "### Checking First Five Rows of DF1"
   ]
  },
  {
   "cell_type": "code",
   "execution_count": 4,
   "id": "74dc03f2-2d62-4ff9-a799-86346f1d1d13",
   "metadata": {},
   "outputs": [
    {
     "data": {
      "text/html": [
       "<div>\n",
       "<style scoped>\n",
       "    .dataframe tbody tr th:only-of-type {\n",
       "        vertical-align: middle;\n",
       "    }\n",
       "\n",
       "    .dataframe tbody tr th {\n",
       "        vertical-align: top;\n",
       "    }\n",
       "\n",
       "    .dataframe thead th {\n",
       "        text-align: right;\n",
       "    }\n",
       "</style>\n",
       "<table border=\"1\" class=\"dataframe\">\n",
       "  <thead>\n",
       "    <tr style=\"text-align: right;\">\n",
       "      <th></th>\n",
       "      <th>accident_index</th>\n",
       "      <th>accident_year</th>\n",
       "      <th>accident_reference</th>\n",
       "      <th>vehicle_reference</th>\n",
       "      <th>vehicle_type</th>\n",
       "      <th>towing_and_articulation</th>\n",
       "      <th>vehicle_manoeuvre</th>\n",
       "      <th>vehicle_direction_from</th>\n",
       "      <th>vehicle_direction_to</th>\n",
       "      <th>vehicle_location_restricted_lane</th>\n",
       "      <th>...</th>\n",
       "      <th>journey_purpose_of_driver</th>\n",
       "      <th>sex_of_driver</th>\n",
       "      <th>age_of_driver</th>\n",
       "      <th>age_band_of_driver</th>\n",
       "      <th>engine_capacity_cc</th>\n",
       "      <th>propulsion_code</th>\n",
       "      <th>age_of_vehicle</th>\n",
       "      <th>generic_make_model</th>\n",
       "      <th>driver_imd_decile</th>\n",
       "      <th>driver_home_area_type</th>\n",
       "    </tr>\n",
       "  </thead>\n",
       "  <tbody>\n",
       "    <tr>\n",
       "      <th>0</th>\n",
       "      <td>197901A11AD14</td>\n",
       "      <td>1979.0</td>\n",
       "      <td>01A11AD14</td>\n",
       "      <td>1.0</td>\n",
       "      <td>109.0</td>\n",
       "      <td>0.0</td>\n",
       "      <td>18.0</td>\n",
       "      <td>-1.0</td>\n",
       "      <td>-1.0</td>\n",
       "      <td>-1.0</td>\n",
       "      <td>...</td>\n",
       "      <td>-1.0</td>\n",
       "      <td>1.0</td>\n",
       "      <td>44.0</td>\n",
       "      <td>7.0</td>\n",
       "      <td>-1.0</td>\n",
       "      <td>-1.0</td>\n",
       "      <td>-1.0</td>\n",
       "      <td>-1.0</td>\n",
       "      <td>-1.0</td>\n",
       "      <td>-1.0</td>\n",
       "    </tr>\n",
       "    <tr>\n",
       "      <th>1</th>\n",
       "      <td>197901A11AD14</td>\n",
       "      <td>1979.0</td>\n",
       "      <td>01A11AD14</td>\n",
       "      <td>2.0</td>\n",
       "      <td>104.0</td>\n",
       "      <td>0.0</td>\n",
       "      <td>13.0</td>\n",
       "      <td>-1.0</td>\n",
       "      <td>-1.0</td>\n",
       "      <td>-1.0</td>\n",
       "      <td>...</td>\n",
       "      <td>-1.0</td>\n",
       "      <td>1.0</td>\n",
       "      <td>-1.0</td>\n",
       "      <td>-1.0</td>\n",
       "      <td>-1.0</td>\n",
       "      <td>-1.0</td>\n",
       "      <td>-1.0</td>\n",
       "      <td>-1.0</td>\n",
       "      <td>-1.0</td>\n",
       "      <td>-1.0</td>\n",
       "    </tr>\n",
       "    <tr>\n",
       "      <th>2</th>\n",
       "      <td>197901A1BAW34</td>\n",
       "      <td>1979.0</td>\n",
       "      <td>01A1BAW34</td>\n",
       "      <td>1.0</td>\n",
       "      <td>109.0</td>\n",
       "      <td>0.0</td>\n",
       "      <td>18.0</td>\n",
       "      <td>-1.0</td>\n",
       "      <td>-1.0</td>\n",
       "      <td>-1.0</td>\n",
       "      <td>...</td>\n",
       "      <td>-1.0</td>\n",
       "      <td>1.0</td>\n",
       "      <td>-1.0</td>\n",
       "      <td>-1.0</td>\n",
       "      <td>-1.0</td>\n",
       "      <td>-1.0</td>\n",
       "      <td>-1.0</td>\n",
       "      <td>-1.0</td>\n",
       "      <td>-1.0</td>\n",
       "      <td>-1.0</td>\n",
       "    </tr>\n",
       "    <tr>\n",
       "      <th>3</th>\n",
       "      <td>197901A1BFD77</td>\n",
       "      <td>1979.0</td>\n",
       "      <td>01A1BFD77</td>\n",
       "      <td>1.0</td>\n",
       "      <td>109.0</td>\n",
       "      <td>0.0</td>\n",
       "      <td>18.0</td>\n",
       "      <td>-1.0</td>\n",
       "      <td>-1.0</td>\n",
       "      <td>-1.0</td>\n",
       "      <td>...</td>\n",
       "      <td>-1.0</td>\n",
       "      <td>1.0</td>\n",
       "      <td>21.0</td>\n",
       "      <td>5.0</td>\n",
       "      <td>-1.0</td>\n",
       "      <td>-1.0</td>\n",
       "      <td>-1.0</td>\n",
       "      <td>-1.0</td>\n",
       "      <td>-1.0</td>\n",
       "      <td>-1.0</td>\n",
       "    </tr>\n",
       "    <tr>\n",
       "      <th>4</th>\n",
       "      <td>197901A1BFD77</td>\n",
       "      <td>1979.0</td>\n",
       "      <td>01A1BFD77</td>\n",
       "      <td>2.0</td>\n",
       "      <td>109.0</td>\n",
       "      <td>0.0</td>\n",
       "      <td>18.0</td>\n",
       "      <td>-1.0</td>\n",
       "      <td>-1.0</td>\n",
       "      <td>-1.0</td>\n",
       "      <td>...</td>\n",
       "      <td>-1.0</td>\n",
       "      <td>1.0</td>\n",
       "      <td>44.0</td>\n",
       "      <td>7.0</td>\n",
       "      <td>-1.0</td>\n",
       "      <td>-1.0</td>\n",
       "      <td>-1.0</td>\n",
       "      <td>-1.0</td>\n",
       "      <td>-1.0</td>\n",
       "      <td>-1.0</td>\n",
       "    </tr>\n",
       "  </tbody>\n",
       "</table>\n",
       "<p>5 rows × 27 columns</p>\n",
       "</div>"
      ],
      "text/plain": [
       "  accident_index  accident_year accident_reference  vehicle_reference  \\\n",
       "0  197901A11AD14         1979.0          01A11AD14                1.0   \n",
       "1  197901A11AD14         1979.0          01A11AD14                2.0   \n",
       "2  197901A1BAW34         1979.0          01A1BAW34                1.0   \n",
       "3  197901A1BFD77         1979.0          01A1BFD77                1.0   \n",
       "4  197901A1BFD77         1979.0          01A1BFD77                2.0   \n",
       "\n",
       "   vehicle_type  towing_and_articulation  vehicle_manoeuvre  \\\n",
       "0         109.0                      0.0               18.0   \n",
       "1         104.0                      0.0               13.0   \n",
       "2         109.0                      0.0               18.0   \n",
       "3         109.0                      0.0               18.0   \n",
       "4         109.0                      0.0               18.0   \n",
       "\n",
       "   vehicle_direction_from  vehicle_direction_to  \\\n",
       "0                    -1.0                  -1.0   \n",
       "1                    -1.0                  -1.0   \n",
       "2                    -1.0                  -1.0   \n",
       "3                    -1.0                  -1.0   \n",
       "4                    -1.0                  -1.0   \n",
       "\n",
       "   vehicle_location_restricted_lane  ...  journey_purpose_of_driver  \\\n",
       "0                              -1.0  ...                       -1.0   \n",
       "1                              -1.0  ...                       -1.0   \n",
       "2                              -1.0  ...                       -1.0   \n",
       "3                              -1.0  ...                       -1.0   \n",
       "4                              -1.0  ...                       -1.0   \n",
       "\n",
       "   sex_of_driver  age_of_driver  age_band_of_driver  engine_capacity_cc  \\\n",
       "0            1.0           44.0                 7.0                -1.0   \n",
       "1            1.0           -1.0                -1.0                -1.0   \n",
       "2            1.0           -1.0                -1.0                -1.0   \n",
       "3            1.0           21.0                 5.0                -1.0   \n",
       "4            1.0           44.0                 7.0                -1.0   \n",
       "\n",
       "   propulsion_code  age_of_vehicle  generic_make_model  driver_imd_decile  \\\n",
       "0             -1.0            -1.0                -1.0               -1.0   \n",
       "1             -1.0            -1.0                -1.0               -1.0   \n",
       "2             -1.0            -1.0                -1.0               -1.0   \n",
       "3             -1.0            -1.0                -1.0               -1.0   \n",
       "4             -1.0            -1.0                -1.0               -1.0   \n",
       "\n",
       "   driver_home_area_type  \n",
       "0                   -1.0  \n",
       "1                   -1.0  \n",
       "2                   -1.0  \n",
       "3                   -1.0  \n",
       "4                   -1.0  \n",
       "\n",
       "[5 rows x 27 columns]"
      ]
     },
     "execution_count": 4,
     "metadata": {},
     "output_type": "execute_result"
    }
   ],
   "source": [
    "df1.head()"
   ]
  },
  {
   "cell_type": "markdown",
   "id": "aef86c65-6369-4610-a3ec-5f9a5c70e77b",
   "metadata": {},
   "source": [
    "### Checking Data Info of DF1"
   ]
  },
  {
   "cell_type": "code",
   "execution_count": 5,
   "id": "cb9f3c61-1360-4732-b542-2df5b6a05d32",
   "metadata": {},
   "outputs": [
    {
     "name": "stdout",
     "output_type": "stream",
     "text": [
      "<class 'pandas.core.frame.DataFrame'>\n",
      "Int64Index: 723397 entries, 0 to 723396\n",
      "Data columns (total 27 columns):\n",
      " #   Column                            Non-Null Count   Dtype  \n",
      "---  ------                            --------------   -----  \n",
      " 0   accident_index                    723397 non-null  object \n",
      " 1   accident_year                     723397 non-null  float64\n",
      " 2   accident_reference                723397 non-null  object \n",
      " 3   vehicle_reference                 723397 non-null  float64\n",
      " 4   vehicle_type                      723397 non-null  float64\n",
      " 5   towing_and_articulation           723397 non-null  float64\n",
      " 6   vehicle_manoeuvre                 723397 non-null  float64\n",
      " 7   vehicle_direction_from            723397 non-null  float64\n",
      " 8   vehicle_direction_to              723397 non-null  float64\n",
      " 9   vehicle_location_restricted_lane  723397 non-null  float64\n",
      " 10  junction_location                 723397 non-null  float64\n",
      " 11  skidding_and_overturning          723397 non-null  float64\n",
      " 12  hit_object_in_carriageway         723397 non-null  float64\n",
      " 13  vehicle_leaving_carriageway       723397 non-null  float64\n",
      " 14  hit_object_off_carriageway        723397 non-null  float64\n",
      " 15  first_point_of_impact             723397 non-null  float64\n",
      " 16  vehicle_left_hand_drive           723397 non-null  float64\n",
      " 17  journey_purpose_of_driver         723397 non-null  float64\n",
      " 18  sex_of_driver                     723397 non-null  float64\n",
      " 19  age_of_driver                     723397 non-null  float64\n",
      " 20  age_band_of_driver                723397 non-null  float64\n",
      " 21  engine_capacity_cc                723397 non-null  float64\n",
      " 22  propulsion_code                   723397 non-null  float64\n",
      " 23  age_of_vehicle                    723397 non-null  float64\n",
      " 24  generic_make_model                723397 non-null  float64\n",
      " 25  driver_imd_decile                 723397 non-null  float64\n",
      " 26  driver_home_area_type             723397 non-null  float64\n",
      "dtypes: float64(25), object(2)\n",
      "memory usage: 154.5+ MB\n"
     ]
    }
   ],
   "source": [
    "df1.info()"
   ]
  },
  {
   "cell_type": "markdown",
   "id": "00dbd12b-4a07-4f61-aec2-25586321e68d",
   "metadata": {},
   "source": [
    "### Combining Dataset"
   ]
  },
  {
   "cell_type": "code",
   "execution_count": 6,
   "id": "e4e761e3-3dfb-42ad-934b-fccdc465d2b0",
   "metadata": {},
   "outputs": [],
   "source": [
    "## Vehicle\n",
    "vehicle_df = pd.concat([df1,df2,df3])\n",
    "## combined\n",
    "casuality_df = pd.concat([df4,df5])"
   ]
  },
  {
   "cell_type": "markdown",
   "id": "dce62b59-665e-4dff-b401-cfbe3e434763",
   "metadata": {},
   "source": [
    "### Checking First Five Rows of Vehicle_df"
   ]
  },
  {
   "cell_type": "code",
   "execution_count": 7,
   "id": "105ebeff-ffe1-4552-884f-86a8586f7736",
   "metadata": {},
   "outputs": [
    {
     "data": {
      "text/html": [
       "<div>\n",
       "<style scoped>\n",
       "    .dataframe tbody tr th:only-of-type {\n",
       "        vertical-align: middle;\n",
       "    }\n",
       "\n",
       "    .dataframe tbody tr th {\n",
       "        vertical-align: top;\n",
       "    }\n",
       "\n",
       "    .dataframe thead th {\n",
       "        text-align: right;\n",
       "    }\n",
       "</style>\n",
       "<table border=\"1\" class=\"dataframe\">\n",
       "  <thead>\n",
       "    <tr style=\"text-align: right;\">\n",
       "      <th></th>\n",
       "      <th>accident_index</th>\n",
       "      <th>accident_year</th>\n",
       "      <th>accident_reference</th>\n",
       "      <th>vehicle_reference</th>\n",
       "      <th>vehicle_type</th>\n",
       "      <th>towing_and_articulation</th>\n",
       "      <th>vehicle_manoeuvre</th>\n",
       "      <th>vehicle_direction_from</th>\n",
       "      <th>vehicle_direction_to</th>\n",
       "      <th>vehicle_location_restricted_lane</th>\n",
       "      <th>...</th>\n",
       "      <th>sex_of_driver</th>\n",
       "      <th>age_of_driver</th>\n",
       "      <th>age_band_of_driver</th>\n",
       "      <th>engine_capacity_cc</th>\n",
       "      <th>propulsion_code</th>\n",
       "      <th>age_of_vehicle</th>\n",
       "      <th>generic_make_model</th>\n",
       "      <th>driver_imd_decile</th>\n",
       "      <th>driver_home_area_type</th>\n",
       "      <th>lsoa_of_driver</th>\n",
       "    </tr>\n",
       "  </thead>\n",
       "  <tbody>\n",
       "    <tr>\n",
       "      <th>0</th>\n",
       "      <td>197901A11AD14</td>\n",
       "      <td>1979.0</td>\n",
       "      <td>01A11AD14</td>\n",
       "      <td>1.0</td>\n",
       "      <td>109.0</td>\n",
       "      <td>0.0</td>\n",
       "      <td>18.0</td>\n",
       "      <td>-1.0</td>\n",
       "      <td>-1.0</td>\n",
       "      <td>-1.0</td>\n",
       "      <td>...</td>\n",
       "      <td>1.0</td>\n",
       "      <td>44.0</td>\n",
       "      <td>7.0</td>\n",
       "      <td>-1.0</td>\n",
       "      <td>-1.0</td>\n",
       "      <td>-1.0</td>\n",
       "      <td>-1.0</td>\n",
       "      <td>-1.0</td>\n",
       "      <td>-1.0</td>\n",
       "      <td>NaN</td>\n",
       "    </tr>\n",
       "    <tr>\n",
       "      <th>1</th>\n",
       "      <td>197901A11AD14</td>\n",
       "      <td>1979.0</td>\n",
       "      <td>01A11AD14</td>\n",
       "      <td>2.0</td>\n",
       "      <td>104.0</td>\n",
       "      <td>0.0</td>\n",
       "      <td>13.0</td>\n",
       "      <td>-1.0</td>\n",
       "      <td>-1.0</td>\n",
       "      <td>-1.0</td>\n",
       "      <td>...</td>\n",
       "      <td>1.0</td>\n",
       "      <td>-1.0</td>\n",
       "      <td>-1.0</td>\n",
       "      <td>-1.0</td>\n",
       "      <td>-1.0</td>\n",
       "      <td>-1.0</td>\n",
       "      <td>-1.0</td>\n",
       "      <td>-1.0</td>\n",
       "      <td>-1.0</td>\n",
       "      <td>NaN</td>\n",
       "    </tr>\n",
       "    <tr>\n",
       "      <th>2</th>\n",
       "      <td>197901A1BAW34</td>\n",
       "      <td>1979.0</td>\n",
       "      <td>01A1BAW34</td>\n",
       "      <td>1.0</td>\n",
       "      <td>109.0</td>\n",
       "      <td>0.0</td>\n",
       "      <td>18.0</td>\n",
       "      <td>-1.0</td>\n",
       "      <td>-1.0</td>\n",
       "      <td>-1.0</td>\n",
       "      <td>...</td>\n",
       "      <td>1.0</td>\n",
       "      <td>-1.0</td>\n",
       "      <td>-1.0</td>\n",
       "      <td>-1.0</td>\n",
       "      <td>-1.0</td>\n",
       "      <td>-1.0</td>\n",
       "      <td>-1.0</td>\n",
       "      <td>-1.0</td>\n",
       "      <td>-1.0</td>\n",
       "      <td>NaN</td>\n",
       "    </tr>\n",
       "    <tr>\n",
       "      <th>3</th>\n",
       "      <td>197901A1BFD77</td>\n",
       "      <td>1979.0</td>\n",
       "      <td>01A1BFD77</td>\n",
       "      <td>1.0</td>\n",
       "      <td>109.0</td>\n",
       "      <td>0.0</td>\n",
       "      <td>18.0</td>\n",
       "      <td>-1.0</td>\n",
       "      <td>-1.0</td>\n",
       "      <td>-1.0</td>\n",
       "      <td>...</td>\n",
       "      <td>1.0</td>\n",
       "      <td>21.0</td>\n",
       "      <td>5.0</td>\n",
       "      <td>-1.0</td>\n",
       "      <td>-1.0</td>\n",
       "      <td>-1.0</td>\n",
       "      <td>-1.0</td>\n",
       "      <td>-1.0</td>\n",
       "      <td>-1.0</td>\n",
       "      <td>NaN</td>\n",
       "    </tr>\n",
       "    <tr>\n",
       "      <th>4</th>\n",
       "      <td>197901A1BFD77</td>\n",
       "      <td>1979.0</td>\n",
       "      <td>01A1BFD77</td>\n",
       "      <td>2.0</td>\n",
       "      <td>109.0</td>\n",
       "      <td>0.0</td>\n",
       "      <td>18.0</td>\n",
       "      <td>-1.0</td>\n",
       "      <td>-1.0</td>\n",
       "      <td>-1.0</td>\n",
       "      <td>...</td>\n",
       "      <td>1.0</td>\n",
       "      <td>44.0</td>\n",
       "      <td>7.0</td>\n",
       "      <td>-1.0</td>\n",
       "      <td>-1.0</td>\n",
       "      <td>-1.0</td>\n",
       "      <td>-1.0</td>\n",
       "      <td>-1.0</td>\n",
       "      <td>-1.0</td>\n",
       "      <td>NaN</td>\n",
       "    </tr>\n",
       "  </tbody>\n",
       "</table>\n",
       "<p>5 rows × 28 columns</p>\n",
       "</div>"
      ],
      "text/plain": [
       "  accident_index  accident_year accident_reference  vehicle_reference  \\\n",
       "0  197901A11AD14         1979.0          01A11AD14                1.0   \n",
       "1  197901A11AD14         1979.0          01A11AD14                2.0   \n",
       "2  197901A1BAW34         1979.0          01A1BAW34                1.0   \n",
       "3  197901A1BFD77         1979.0          01A1BFD77                1.0   \n",
       "4  197901A1BFD77         1979.0          01A1BFD77                2.0   \n",
       "\n",
       "   vehicle_type  towing_and_articulation  vehicle_manoeuvre  \\\n",
       "0         109.0                      0.0               18.0   \n",
       "1         104.0                      0.0               13.0   \n",
       "2         109.0                      0.0               18.0   \n",
       "3         109.0                      0.0               18.0   \n",
       "4         109.0                      0.0               18.0   \n",
       "\n",
       "   vehicle_direction_from  vehicle_direction_to  \\\n",
       "0                    -1.0                  -1.0   \n",
       "1                    -1.0                  -1.0   \n",
       "2                    -1.0                  -1.0   \n",
       "3                    -1.0                  -1.0   \n",
       "4                    -1.0                  -1.0   \n",
       "\n",
       "   vehicle_location_restricted_lane  ...  sex_of_driver  age_of_driver  \\\n",
       "0                              -1.0  ...            1.0           44.0   \n",
       "1                              -1.0  ...            1.0           -1.0   \n",
       "2                              -1.0  ...            1.0           -1.0   \n",
       "3                              -1.0  ...            1.0           21.0   \n",
       "4                              -1.0  ...            1.0           44.0   \n",
       "\n",
       "   age_band_of_driver  engine_capacity_cc  propulsion_code  age_of_vehicle  \\\n",
       "0                 7.0                -1.0             -1.0            -1.0   \n",
       "1                -1.0                -1.0             -1.0            -1.0   \n",
       "2                -1.0                -1.0             -1.0            -1.0   \n",
       "3                 5.0                -1.0             -1.0            -1.0   \n",
       "4                 7.0                -1.0             -1.0            -1.0   \n",
       "\n",
       "   generic_make_model  driver_imd_decile  driver_home_area_type  \\\n",
       "0                -1.0               -1.0                   -1.0   \n",
       "1                -1.0               -1.0                   -1.0   \n",
       "2                -1.0               -1.0                   -1.0   \n",
       "3                -1.0               -1.0                   -1.0   \n",
       "4                -1.0               -1.0                   -1.0   \n",
       "\n",
       "   lsoa_of_driver  \n",
       "0             NaN  \n",
       "1             NaN  \n",
       "2             NaN  \n",
       "3             NaN  \n",
       "4             NaN  \n",
       "\n",
       "[5 rows x 28 columns]"
      ]
     },
     "execution_count": 7,
     "metadata": {},
     "output_type": "execute_result"
    }
   ],
   "source": [
    "vehicle_df.head()"
   ]
  },
  {
   "cell_type": "code",
   "execution_count": 8,
   "id": "6dd09847",
   "metadata": {},
   "outputs": [
    {
     "data": {
      "text/plain": [
       "(1103385, 28)"
      ]
     },
     "execution_count": 8,
     "metadata": {},
     "output_type": "execute_result"
    }
   ],
   "source": [
    "vehicle_df.shape"
   ]
  },
  {
   "cell_type": "code",
   "execution_count": 9,
   "id": "fe37d5b3-93f4-49df-ace7-3f6f5a055999",
   "metadata": {},
   "outputs": [],
   "source": [
    "### Checking First Five Rows of Casualty_df"
   ]
  },
  {
   "cell_type": "code",
   "execution_count": 10,
   "id": "3df0720b-ba42-420f-be2c-1db7ff0eb4ac",
   "metadata": {},
   "outputs": [
    {
     "data": {
      "text/html": [
       "<div>\n",
       "<style scoped>\n",
       "    .dataframe tbody tr th:only-of-type {\n",
       "        vertical-align: middle;\n",
       "    }\n",
       "\n",
       "    .dataframe tbody tr th {\n",
       "        vertical-align: top;\n",
       "    }\n",
       "\n",
       "    .dataframe thead th {\n",
       "        text-align: right;\n",
       "    }\n",
       "</style>\n",
       "<table border=\"1\" class=\"dataframe\">\n",
       "  <thead>\n",
       "    <tr style=\"text-align: right;\">\n",
       "      <th></th>\n",
       "      <th>accident_index</th>\n",
       "      <th>accident_year</th>\n",
       "      <th>accident_reference</th>\n",
       "      <th>location_easting_osgr</th>\n",
       "      <th>location_northing_osgr</th>\n",
       "      <th>longitude</th>\n",
       "      <th>latitude</th>\n",
       "      <th>police_force</th>\n",
       "      <th>accident_severity</th>\n",
       "      <th>number_of_vehicles</th>\n",
       "      <th>...</th>\n",
       "      <th>pedestrian_crossing_physical_facilities</th>\n",
       "      <th>light_conditions</th>\n",
       "      <th>weather_conditions</th>\n",
       "      <th>road_surface_conditions</th>\n",
       "      <th>special_conditions_at_site</th>\n",
       "      <th>carriageway_hazards</th>\n",
       "      <th>urban_or_rural_area</th>\n",
       "      <th>did_police_officer_attend_scene_of_accident</th>\n",
       "      <th>trunk_road_flag</th>\n",
       "      <th>lsoa_of_accident_location</th>\n",
       "    </tr>\n",
       "  </thead>\n",
       "  <tbody>\n",
       "    <tr>\n",
       "      <th>0</th>\n",
       "      <td>2021010287148</td>\n",
       "      <td>2021</td>\n",
       "      <td>010287148</td>\n",
       "      <td>521508.0</td>\n",
       "      <td>193079.0</td>\n",
       "      <td>-0.246102</td>\n",
       "      <td>51.623425</td>\n",
       "      <td>1</td>\n",
       "      <td>3</td>\n",
       "      <td>3</td>\n",
       "      <td>...</td>\n",
       "      <td>0</td>\n",
       "      <td>4</td>\n",
       "      <td>7</td>\n",
       "      <td>4</td>\n",
       "      <td>1</td>\n",
       "      <td>0</td>\n",
       "      <td>1</td>\n",
       "      <td>1</td>\n",
       "      <td>2</td>\n",
       "      <td>E01000263</td>\n",
       "    </tr>\n",
       "    <tr>\n",
       "      <th>1</th>\n",
       "      <td>2021010287149</td>\n",
       "      <td>2021</td>\n",
       "      <td>010287149</td>\n",
       "      <td>535379.0</td>\n",
       "      <td>180783.0</td>\n",
       "      <td>-0.050574</td>\n",
       "      <td>51.509767</td>\n",
       "      <td>1</td>\n",
       "      <td>2</td>\n",
       "      <td>2</td>\n",
       "      <td>...</td>\n",
       "      <td>5</td>\n",
       "      <td>4</td>\n",
       "      <td>1</td>\n",
       "      <td>1</td>\n",
       "      <td>0</td>\n",
       "      <td>0</td>\n",
       "      <td>1</td>\n",
       "      <td>1</td>\n",
       "      <td>2</td>\n",
       "      <td>E01004303</td>\n",
       "    </tr>\n",
       "    <tr>\n",
       "      <th>2</th>\n",
       "      <td>2021010287151</td>\n",
       "      <td>2021</td>\n",
       "      <td>010287151</td>\n",
       "      <td>529701.0</td>\n",
       "      <td>170398.0</td>\n",
       "      <td>-0.136152</td>\n",
       "      <td>51.417769</td>\n",
       "      <td>1</td>\n",
       "      <td>2</td>\n",
       "      <td>2</td>\n",
       "      <td>...</td>\n",
       "      <td>5</td>\n",
       "      <td>4</td>\n",
       "      <td>1</td>\n",
       "      <td>1</td>\n",
       "      <td>0</td>\n",
       "      <td>0</td>\n",
       "      <td>1</td>\n",
       "      <td>1</td>\n",
       "      <td>2</td>\n",
       "      <td>E01003146</td>\n",
       "    </tr>\n",
       "    <tr>\n",
       "      <th>3</th>\n",
       "      <td>2021010287155</td>\n",
       "      <td>2021</td>\n",
       "      <td>010287155</td>\n",
       "      <td>525312.0</td>\n",
       "      <td>178385.0</td>\n",
       "      <td>-0.196411</td>\n",
       "      <td>51.490536</td>\n",
       "      <td>1</td>\n",
       "      <td>1</td>\n",
       "      <td>1</td>\n",
       "      <td>...</td>\n",
       "      <td>4</td>\n",
       "      <td>4</td>\n",
       "      <td>1</td>\n",
       "      <td>1</td>\n",
       "      <td>0</td>\n",
       "      <td>0</td>\n",
       "      <td>1</td>\n",
       "      <td>1</td>\n",
       "      <td>2</td>\n",
       "      <td>E01002847</td>\n",
       "    </tr>\n",
       "    <tr>\n",
       "      <th>4</th>\n",
       "      <td>2021010287157</td>\n",
       "      <td>2021</td>\n",
       "      <td>010287157</td>\n",
       "      <td>512144.0</td>\n",
       "      <td>171526.0</td>\n",
       "      <td>-0.388169</td>\n",
       "      <td>51.431649</td>\n",
       "      <td>1</td>\n",
       "      <td>3</td>\n",
       "      <td>4</td>\n",
       "      <td>...</td>\n",
       "      <td>0</td>\n",
       "      <td>4</td>\n",
       "      <td>1</td>\n",
       "      <td>1</td>\n",
       "      <td>0</td>\n",
       "      <td>0</td>\n",
       "      <td>1</td>\n",
       "      <td>1</td>\n",
       "      <td>2</td>\n",
       "      <td>E01002608</td>\n",
       "    </tr>\n",
       "  </tbody>\n",
       "</table>\n",
       "<p>5 rows × 36 columns</p>\n",
       "</div>"
      ],
      "text/plain": [
       "  accident_index  accident_year accident_reference  location_easting_osgr  \\\n",
       "0  2021010287148           2021          010287148               521508.0   \n",
       "1  2021010287149           2021          010287149               535379.0   \n",
       "2  2021010287151           2021          010287151               529701.0   \n",
       "3  2021010287155           2021          010287155               525312.0   \n",
       "4  2021010287157           2021          010287157               512144.0   \n",
       "\n",
       "   location_northing_osgr  longitude   latitude  police_force  \\\n",
       "0                193079.0  -0.246102  51.623425             1   \n",
       "1                180783.0  -0.050574  51.509767             1   \n",
       "2                170398.0  -0.136152  51.417769             1   \n",
       "3                178385.0  -0.196411  51.490536             1   \n",
       "4                171526.0  -0.388169  51.431649             1   \n",
       "\n",
       "   accident_severity  number_of_vehicles  ...  \\\n",
       "0                  3                   3  ...   \n",
       "1                  2                   2  ...   \n",
       "2                  2                   2  ...   \n",
       "3                  1                   1  ...   \n",
       "4                  3                   4  ...   \n",
       "\n",
       "   pedestrian_crossing_physical_facilities light_conditions  \\\n",
       "0                                        0                4   \n",
       "1                                        5                4   \n",
       "2                                        5                4   \n",
       "3                                        4                4   \n",
       "4                                        0                4   \n",
       "\n",
       "   weather_conditions road_surface_conditions  special_conditions_at_site  \\\n",
       "0                   7                       4                           1   \n",
       "1                   1                       1                           0   \n",
       "2                   1                       1                           0   \n",
       "3                   1                       1                           0   \n",
       "4                   1                       1                           0   \n",
       "\n",
       "  carriageway_hazards urban_or_rural_area  \\\n",
       "0                   0                   1   \n",
       "1                   0                   1   \n",
       "2                   0                   1   \n",
       "3                   0                   1   \n",
       "4                   0                   1   \n",
       "\n",
       "   did_police_officer_attend_scene_of_accident  trunk_road_flag  \\\n",
       "0                                            1                2   \n",
       "1                                            1                2   \n",
       "2                                            1                2   \n",
       "3                                            1                2   \n",
       "4                                            1                2   \n",
       "\n",
       "   lsoa_of_accident_location  \n",
       "0                  E01000263  \n",
       "1                  E01004303  \n",
       "2                  E01003146  \n",
       "3                  E01002847  \n",
       "4                  E01002608  \n",
       "\n",
       "[5 rows x 36 columns]"
      ]
     },
     "execution_count": 10,
     "metadata": {},
     "output_type": "execute_result"
    }
   ],
   "source": [
    "casuality_df.head()"
   ]
  },
  {
   "cell_type": "code",
   "execution_count": 11,
   "id": "2e7adf51",
   "metadata": {},
   "outputs": [
    {
     "data": {
      "text/plain": [
       "(207052, 36)"
      ]
     },
     "execution_count": 11,
     "metadata": {},
     "output_type": "execute_result"
    }
   ],
   "source": [
    "casuality_df.shape"
   ]
  },
  {
   "cell_type": "markdown",
   "id": "f10a2a65-9a50-4693-8a17-d60558d94475",
   "metadata": {},
   "source": [
    "### Checking For Unique Value of Accident Year"
   ]
  },
  {
   "cell_type": "code",
   "execution_count": 12,
   "id": "498c8550-2a02-4a3f-9ac2-605a2c3adc99",
   "metadata": {},
   "outputs": [
    {
     "data": {
      "text/plain": [
       "array([1979., 1980., 2021., 2022.])"
      ]
     },
     "execution_count": 12,
     "metadata": {},
     "output_type": "execute_result"
    }
   ],
   "source": [
    "vehicle_df['accident_year'].unique()"
   ]
  },
  {
   "cell_type": "markdown",
   "id": "be71b751-9d27-4352-9e87-1f863275ccf5",
   "metadata": {},
   "source": [
    "### Data Cleaning"
   ]
  },
  {
   "cell_type": "code",
   "execution_count": 13,
   "id": "01b522e0-9f1e-4fd7-84b0-0b9cfc0f4267",
   "metadata": {},
   "outputs": [
    {
     "data": {
      "text/plain": [
       "Index(['accident_index', 'accident_year', 'accident_reference',\n",
       "       'vehicle_reference', 'vehicle_type', 'towing_and_articulation',\n",
       "       'vehicle_manoeuvre', 'vehicle_direction_from', 'vehicle_direction_to',\n",
       "       'vehicle_location_restricted_lane', 'junction_location',\n",
       "       'skidding_and_overturning', 'hit_object_in_carriageway',\n",
       "       'vehicle_leaving_carriageway', 'hit_object_off_carriageway',\n",
       "       'first_point_of_impact', 'vehicle_left_hand_drive',\n",
       "       'journey_purpose_of_driver', 'sex_of_driver', 'age_of_driver',\n",
       "       'age_band_of_driver', 'engine_capacity_cc', 'propulsion_code',\n",
       "       'age_of_vehicle', 'generic_make_model', 'driver_imd_decile',\n",
       "       'driver_home_area_type', 'lsoa_of_driver'],\n",
       "      dtype='object')"
      ]
     },
     "execution_count": 13,
     "metadata": {},
     "output_type": "execute_result"
    }
   ],
   "source": [
    "vehicle_df.columns"
   ]
  },
  {
   "cell_type": "code",
   "execution_count": 14,
   "id": "3e245a22-390b-4654-b02c-cfcfd2638f60",
   "metadata": {},
   "outputs": [
    {
     "data": {
      "text/plain": [
       "Index(['accident_index', 'accident_year', 'accident_reference',\n",
       "       'location_easting_osgr', 'location_northing_osgr', 'longitude',\n",
       "       'latitude', 'police_force', 'accident_severity', 'number_of_vehicles',\n",
       "       'number_of_casualties', 'date', 'day_of_week', 'time',\n",
       "       'local_authority_district', 'local_authority_ons_district',\n",
       "       'local_authority_highway', 'first_road_class', 'first_road_number',\n",
       "       'road_type', 'speed_limit', 'junction_detail', 'junction_control',\n",
       "       'second_road_class', 'second_road_number',\n",
       "       'pedestrian_crossing_human_control',\n",
       "       'pedestrian_crossing_physical_facilities', 'light_conditions',\n",
       "       'weather_conditions', 'road_surface_conditions',\n",
       "       'special_conditions_at_site', 'carriageway_hazards',\n",
       "       'urban_or_rural_area', 'did_police_officer_attend_scene_of_accident',\n",
       "       'trunk_road_flag', 'lsoa_of_accident_location'],\n",
       "      dtype='object')"
      ]
     },
     "execution_count": 14,
     "metadata": {},
     "output_type": "execute_result"
    }
   ],
   "source": [
    "casuality_df.columns"
   ]
  },
  {
   "cell_type": "markdown",
   "id": "8b8c40e3-bfe6-4a91-b33e-8a4f38a2a3cc",
   "metadata": {},
   "source": [
    "### Extracting the Needed Columns"
   ]
  },
  {
   "cell_type": "code",
   "execution_count": 15,
   "id": "36f7c618-19d4-4f9e-bfd7-72a414fa0b3c",
   "metadata": {},
   "outputs": [],
   "source": [
    "vehicle_df = vehicle_df.loc[:,['accident_index','sex_of_driver',\n",
    "       'age_band_of_driver','vehicle_type','age_of_vehicle','journey_purpose_of_driver']]"
   ]
  },
  {
   "cell_type": "code",
   "execution_count": 16,
   "id": "20df2448-c4a9-4868-92be-fef4857e6d72",
   "metadata": {},
   "outputs": [],
   "source": [
    "casuality_df = casuality_df.loc[:, ['accident_index','police_force',\"accident_severity\",'number_of_vehicles','number_of_casualties',\n",
    "                                    'date', \"day_of_week\", \"time\",'local_authority_district','road_type',\"speed_limit\", \n",
    "                         \"light_conditions\", \"weather_conditions\", \"road_surface_conditions\",\n",
    "                        \"carriageway_hazards\", \"urban_or_rural_area\",'did_police_officer_attend_scene_of_accident']]"
   ]
  },
  {
   "cell_type": "markdown",
   "id": "68f33f87-2c06-4674-a12d-6431118be5e9",
   "metadata": {},
   "source": [
    "### Assessment of Data Quality"
   ]
  },
  {
   "cell_type": "code",
   "execution_count": 17,
   "id": "38d24be8-1fe2-4ca0-91ba-9ad99fcb369b",
   "metadata": {},
   "outputs": [
    {
     "data": {
      "text/plain": [
       " 1.0    821648\n",
       " 2.0    205911\n",
       " 3.0     63949\n",
       "-1.0     11877\n",
       "Name: sex_of_driver, dtype: int64"
      ]
     },
     "execution_count": 17,
     "metadata": {},
     "output_type": "execute_result"
    }
   ],
   "source": [
    "vehicle_df['sex_of_driver'].value_counts()"
   ]
  },
  {
   "cell_type": "code",
   "execution_count": 18,
   "id": "bc82ab50-6692-4497-a2c3-b8dc34053d74",
   "metadata": {},
   "outputs": [
    {
     "data": {
      "text/plain": [
       " 1    168565\n",
       " 2     20431\n",
       " 8      6507\n",
       " 9      5701\n",
       " 5      1943\n",
       " 4      1845\n",
       " 7       978\n",
       " 3       918\n",
       " 6       152\n",
       "-1        12\n",
       "Name: weather_conditions, dtype: int64"
      ]
     },
     "execution_count": 18,
     "metadata": {},
     "output_type": "execute_result"
    }
   ],
   "source": [
    "casuality_df['weather_conditions'].value_counts()"
   ]
  },
  {
   "cell_type": "code",
   "execution_count": 19,
   "id": "84ba42da-4f5a-4945-a78d-4dadc72ad022",
   "metadata": {},
   "outputs": [
    {
     "data": {
      "text/plain": [
       " 1    149558\n",
       " 4     41879\n",
       " 6     10430\n",
       " 7      3694\n",
       " 5      1479\n",
       "-1        12\n",
       "Name: light_conditions, dtype: int64"
      ]
     },
     "execution_count": 19,
     "metadata": {},
     "output_type": "execute_result"
    }
   ],
   "source": [
    "casuality_df['light_conditions'].value_counts()"
   ]
  },
  {
   "cell_type": "code",
   "execution_count": 20,
   "id": "6fc6b3dd-648d-4088-a721-e71852f78412",
   "metadata": {},
   "outputs": [],
   "source": [
    "### cleaning the -1 up \n",
    "## Removing Rows with -1\n",
    "casuality_df[['road_type','light_conditions','carriageway_hazards',\n",
    "                'road_surface_conditions','weather_conditions',\n",
    "                'urban_or_rural_area','local_authority_district','did_police_officer_attend_scene_of_accident']]= casuality_df[['road_type','light_conditions','road_surface_conditions',\n",
    "                                                                                    'carriageway_hazards','weather_conditions','urban_or_rural_area','local_authority_district',\n",
    "                                                                                                    'did_police_officer_attend_scene_of_accident']][casuality_df[['road_type','light_conditions',\n",
    "                                                                                    'road_surface_conditions','carriageway_hazards',\n",
    "                                                                                                                                                                                              'weather_conditions','urban_or_rural_area','did_police_officer_attend_scene_of_accident']]>0]"
   ]
  },
  {
   "cell_type": "code",
   "execution_count": 21,
   "id": "e6768602-f8f5-45f4-9489-b8711e6008ec",
   "metadata": {},
   "outputs": [],
   "source": [
    "## Removing Rows with -1\n",
    "vehicle_df[['sex_of_driver','age_band_of_driver','vehicle_type','age_of_vehicle',\n",
    "                'journey_purpose_of_driver']]= vehicle_df[['sex_of_driver','age_band_of_driver','vehicle_type','age_of_vehicle',\n",
    "                                                                'journey_purpose_of_driver']][vehicle_df[['sex_of_driver','age_band_of_driver',\n",
    "                                                                                                               'vehicle_type','age_of_vehicle', 'journey_purpose_of_driver']]>0]"
   ]
  },
  {
   "cell_type": "code",
   "execution_count": 22,
   "id": "94853f57-4aef-42d5-9a67-b9d895b63873",
   "metadata": {},
   "outputs": [
    {
     "data": {
      "text/plain": [
       "1.0    821648\n",
       "2.0    205911\n",
       "3.0     63949\n",
       "Name: sex_of_driver, dtype: int64"
      ]
     },
     "execution_count": 22,
     "metadata": {},
     "output_type": "execute_result"
    }
   ],
   "source": [
    "vehicle_df['sex_of_driver'].value_counts()"
   ]
  },
  {
   "cell_type": "markdown",
   "id": "c7c8c2e3-fe2b-4b13-a4e3-9e86e9e000fb",
   "metadata": {},
   "source": [
    "### Merging the Dataset"
   ]
  },
  {
   "cell_type": "code",
   "execution_count": 23,
   "id": "54a1eac3-119b-4410-b3e1-8205e0116ef0",
   "metadata": {},
   "outputs": [],
   "source": [
    "\n",
    "combined_data  = casuality_df.merge(vehicle_df, on='accident_index') "
   ]
  },
  {
   "cell_type": "code",
   "execution_count": 24,
   "id": "a24bcfea-585b-40a9-a570-c925c9bdc5bb",
   "metadata": {},
   "outputs": [
    {
     "data": {
      "text/html": [
       "<div>\n",
       "<style scoped>\n",
       "    .dataframe tbody tr th:only-of-type {\n",
       "        vertical-align: middle;\n",
       "    }\n",
       "\n",
       "    .dataframe tbody tr th {\n",
       "        vertical-align: top;\n",
       "    }\n",
       "\n",
       "    .dataframe thead th {\n",
       "        text-align: right;\n",
       "    }\n",
       "</style>\n",
       "<table border=\"1\" class=\"dataframe\">\n",
       "  <thead>\n",
       "    <tr style=\"text-align: right;\">\n",
       "      <th></th>\n",
       "      <th>accident_index</th>\n",
       "      <th>police_force</th>\n",
       "      <th>accident_severity</th>\n",
       "      <th>number_of_vehicles</th>\n",
       "      <th>number_of_casualties</th>\n",
       "      <th>date</th>\n",
       "      <th>day_of_week</th>\n",
       "      <th>time</th>\n",
       "      <th>local_authority_district</th>\n",
       "      <th>road_type</th>\n",
       "      <th>...</th>\n",
       "      <th>weather_conditions</th>\n",
       "      <th>road_surface_conditions</th>\n",
       "      <th>carriageway_hazards</th>\n",
       "      <th>urban_or_rural_area</th>\n",
       "      <th>did_police_officer_attend_scene_of_accident</th>\n",
       "      <th>sex_of_driver</th>\n",
       "      <th>age_band_of_driver</th>\n",
       "      <th>vehicle_type</th>\n",
       "      <th>age_of_vehicle</th>\n",
       "      <th>journey_purpose_of_driver</th>\n",
       "    </tr>\n",
       "  </thead>\n",
       "  <tbody>\n",
       "    <tr>\n",
       "      <th>0</th>\n",
       "      <td>2021010287148</td>\n",
       "      <td>1</td>\n",
       "      <td>3</td>\n",
       "      <td>3</td>\n",
       "      <td>1</td>\n",
       "      <td>01/01/2021</td>\n",
       "      <td>6</td>\n",
       "      <td>02:05</td>\n",
       "      <td>NaN</td>\n",
       "      <td>6</td>\n",
       "      <td>...</td>\n",
       "      <td>7.0</td>\n",
       "      <td>NaN</td>\n",
       "      <td>4.0</td>\n",
       "      <td>1</td>\n",
       "      <td>1</td>\n",
       "      <td>1.0</td>\n",
       "      <td>4.0</td>\n",
       "      <td>9.0</td>\n",
       "      <td>3.0</td>\n",
       "      <td>6.0</td>\n",
       "    </tr>\n",
       "    <tr>\n",
       "      <th>1</th>\n",
       "      <td>2021010287148</td>\n",
       "      <td>1</td>\n",
       "      <td>3</td>\n",
       "      <td>3</td>\n",
       "      <td>1</td>\n",
       "      <td>01/01/2021</td>\n",
       "      <td>6</td>\n",
       "      <td>02:05</td>\n",
       "      <td>NaN</td>\n",
       "      <td>6</td>\n",
       "      <td>...</td>\n",
       "      <td>7.0</td>\n",
       "      <td>NaN</td>\n",
       "      <td>4.0</td>\n",
       "      <td>1</td>\n",
       "      <td>1</td>\n",
       "      <td>3.0</td>\n",
       "      <td>NaN</td>\n",
       "      <td>9.0</td>\n",
       "      <td>2.0</td>\n",
       "      <td>6.0</td>\n",
       "    </tr>\n",
       "    <tr>\n",
       "      <th>2</th>\n",
       "      <td>2021010287148</td>\n",
       "      <td>1</td>\n",
       "      <td>3</td>\n",
       "      <td>3</td>\n",
       "      <td>1</td>\n",
       "      <td>01/01/2021</td>\n",
       "      <td>6</td>\n",
       "      <td>02:05</td>\n",
       "      <td>NaN</td>\n",
       "      <td>6</td>\n",
       "      <td>...</td>\n",
       "      <td>7.0</td>\n",
       "      <td>NaN</td>\n",
       "      <td>4.0</td>\n",
       "      <td>1</td>\n",
       "      <td>1</td>\n",
       "      <td>3.0</td>\n",
       "      <td>NaN</td>\n",
       "      <td>9.0</td>\n",
       "      <td>1.0</td>\n",
       "      <td>6.0</td>\n",
       "    </tr>\n",
       "    <tr>\n",
       "      <th>3</th>\n",
       "      <td>2021010287149</td>\n",
       "      <td>1</td>\n",
       "      <td>2</td>\n",
       "      <td>2</td>\n",
       "      <td>3</td>\n",
       "      <td>01/01/2021</td>\n",
       "      <td>6</td>\n",
       "      <td>03:30</td>\n",
       "      <td>NaN</td>\n",
       "      <td>3</td>\n",
       "      <td>...</td>\n",
       "      <td>1.0</td>\n",
       "      <td>NaN</td>\n",
       "      <td>1.0</td>\n",
       "      <td>1</td>\n",
       "      <td>1</td>\n",
       "      <td>1.0</td>\n",
       "      <td>6.0</td>\n",
       "      <td>9.0</td>\n",
       "      <td>11.0</td>\n",
       "      <td>6.0</td>\n",
       "    </tr>\n",
       "    <tr>\n",
       "      <th>4</th>\n",
       "      <td>2021010287149</td>\n",
       "      <td>1</td>\n",
       "      <td>2</td>\n",
       "      <td>2</td>\n",
       "      <td>3</td>\n",
       "      <td>01/01/2021</td>\n",
       "      <td>6</td>\n",
       "      <td>03:30</td>\n",
       "      <td>NaN</td>\n",
       "      <td>3</td>\n",
       "      <td>...</td>\n",
       "      <td>1.0</td>\n",
       "      <td>NaN</td>\n",
       "      <td>1.0</td>\n",
       "      <td>1</td>\n",
       "      <td>1</td>\n",
       "      <td>1.0</td>\n",
       "      <td>5.0</td>\n",
       "      <td>9.0</td>\n",
       "      <td>11.0</td>\n",
       "      <td>6.0</td>\n",
       "    </tr>\n",
       "  </tbody>\n",
       "</table>\n",
       "<p>5 rows × 22 columns</p>\n",
       "</div>"
      ],
      "text/plain": [
       "  accident_index  police_force  accident_severity  number_of_vehicles  \\\n",
       "0  2021010287148             1                  3                   3   \n",
       "1  2021010287148             1                  3                   3   \n",
       "2  2021010287148             1                  3                   3   \n",
       "3  2021010287149             1                  2                   2   \n",
       "4  2021010287149             1                  2                   2   \n",
       "\n",
       "   number_of_casualties        date  day_of_week   time  \\\n",
       "0                     1  01/01/2021            6  02:05   \n",
       "1                     1  01/01/2021            6  02:05   \n",
       "2                     1  01/01/2021            6  02:05   \n",
       "3                     3  01/01/2021            6  03:30   \n",
       "4                     3  01/01/2021            6  03:30   \n",
       "\n",
       "   local_authority_district  road_type  ...  weather_conditions  \\\n",
       "0                       NaN          6  ...                 7.0   \n",
       "1                       NaN          6  ...                 7.0   \n",
       "2                       NaN          6  ...                 7.0   \n",
       "3                       NaN          3  ...                 1.0   \n",
       "4                       NaN          3  ...                 1.0   \n",
       "\n",
       "   road_surface_conditions  carriageway_hazards  urban_or_rural_area  \\\n",
       "0                      NaN                  4.0                    1   \n",
       "1                      NaN                  4.0                    1   \n",
       "2                      NaN                  4.0                    1   \n",
       "3                      NaN                  1.0                    1   \n",
       "4                      NaN                  1.0                    1   \n",
       "\n",
       "   did_police_officer_attend_scene_of_accident  sex_of_driver  \\\n",
       "0                                            1            1.0   \n",
       "1                                            1            3.0   \n",
       "2                                            1            3.0   \n",
       "3                                            1            1.0   \n",
       "4                                            1            1.0   \n",
       "\n",
       "   age_band_of_driver  vehicle_type  age_of_vehicle  journey_purpose_of_driver  \n",
       "0                 4.0           9.0             3.0                        6.0  \n",
       "1                 NaN           9.0             2.0                        6.0  \n",
       "2                 NaN           9.0             1.0                        6.0  \n",
       "3                 6.0           9.0            11.0                        6.0  \n",
       "4                 5.0           9.0            11.0                        6.0  \n",
       "\n",
       "[5 rows x 22 columns]"
      ]
     },
     "execution_count": 24,
     "metadata": {},
     "output_type": "execute_result"
    }
   ],
   "source": [
    "combined_data.head()"
   ]
  },
  {
   "cell_type": "code",
   "execution_count": 25,
   "id": "52ea1c96-9019-4b8f-9e21-acbc77872f16",
   "metadata": {},
   "outputs": [
    {
     "data": {
      "text/html": [
       "<div>\n",
       "<style scoped>\n",
       "    .dataframe tbody tr th:only-of-type {\n",
       "        vertical-align: middle;\n",
       "    }\n",
       "\n",
       "    .dataframe tbody tr th {\n",
       "        vertical-align: top;\n",
       "    }\n",
       "\n",
       "    .dataframe thead th {\n",
       "        text-align: right;\n",
       "    }\n",
       "</style>\n",
       "<table border=\"1\" class=\"dataframe\">\n",
       "  <thead>\n",
       "    <tr style=\"text-align: right;\">\n",
       "      <th></th>\n",
       "      <th>accident_index</th>\n",
       "      <th>police_force</th>\n",
       "      <th>accident_severity</th>\n",
       "      <th>number_of_vehicles</th>\n",
       "      <th>number_of_casualties</th>\n",
       "      <th>date</th>\n",
       "      <th>day_of_week</th>\n",
       "      <th>time</th>\n",
       "      <th>local_authority_district</th>\n",
       "      <th>road_type</th>\n",
       "      <th>...</th>\n",
       "      <th>weather_conditions</th>\n",
       "      <th>road_surface_conditions</th>\n",
       "      <th>carriageway_hazards</th>\n",
       "      <th>urban_or_rural_area</th>\n",
       "      <th>did_police_officer_attend_scene_of_accident</th>\n",
       "      <th>sex_of_driver</th>\n",
       "      <th>age_band_of_driver</th>\n",
       "      <th>vehicle_type</th>\n",
       "      <th>age_of_vehicle</th>\n",
       "      <th>journey_purpose_of_driver</th>\n",
       "    </tr>\n",
       "  </thead>\n",
       "  <tbody>\n",
       "    <tr>\n",
       "      <th>379907</th>\n",
       "      <td>2022991312498</td>\n",
       "      <td>99</td>\n",
       "      <td>2</td>\n",
       "      <td>3</td>\n",
       "      <td>1</td>\n",
       "      <td>12/11/2022</td>\n",
       "      <td>7</td>\n",
       "      <td>21:35</td>\n",
       "      <td>NaN</td>\n",
       "      <td>6</td>\n",
       "      <td>...</td>\n",
       "      <td>1.0</td>\n",
       "      <td>NaN</td>\n",
       "      <td>1.0</td>\n",
       "      <td>2</td>\n",
       "      <td>1</td>\n",
       "      <td>1.0</td>\n",
       "      <td>7.0</td>\n",
       "      <td>19.0</td>\n",
       "      <td>NaN</td>\n",
       "      <td>5.0</td>\n",
       "    </tr>\n",
       "    <tr>\n",
       "      <th>379908</th>\n",
       "      <td>2022991312498</td>\n",
       "      <td>99</td>\n",
       "      <td>2</td>\n",
       "      <td>3</td>\n",
       "      <td>1</td>\n",
       "      <td>12/11/2022</td>\n",
       "      <td>7</td>\n",
       "      <td>21:35</td>\n",
       "      <td>NaN</td>\n",
       "      <td>6</td>\n",
       "      <td>...</td>\n",
       "      <td>1.0</td>\n",
       "      <td>NaN</td>\n",
       "      <td>1.0</td>\n",
       "      <td>2</td>\n",
       "      <td>1</td>\n",
       "      <td>1.0</td>\n",
       "      <td>9.0</td>\n",
       "      <td>9.0</td>\n",
       "      <td>12.0</td>\n",
       "      <td>5.0</td>\n",
       "    </tr>\n",
       "    <tr>\n",
       "      <th>379909</th>\n",
       "      <td>2022991315177</td>\n",
       "      <td>99</td>\n",
       "      <td>3</td>\n",
       "      <td>1</td>\n",
       "      <td>1</td>\n",
       "      <td>01/07/2022</td>\n",
       "      <td>6</td>\n",
       "      <td>11:44</td>\n",
       "      <td>NaN</td>\n",
       "      <td>6</td>\n",
       "      <td>...</td>\n",
       "      <td>1.0</td>\n",
       "      <td>NaN</td>\n",
       "      <td>1.0</td>\n",
       "      <td>1</td>\n",
       "      <td>2</td>\n",
       "      <td>1.0</td>\n",
       "      <td>9.0</td>\n",
       "      <td>9.0</td>\n",
       "      <td>10.0</td>\n",
       "      <td>6.0</td>\n",
       "    </tr>\n",
       "    <tr>\n",
       "      <th>379910</th>\n",
       "      <td>2022991321308</td>\n",
       "      <td>99</td>\n",
       "      <td>2</td>\n",
       "      <td>1</td>\n",
       "      <td>1</td>\n",
       "      <td>02/12/2022</td>\n",
       "      <td>6</td>\n",
       "      <td>16:45</td>\n",
       "      <td>NaN</td>\n",
       "      <td>6</td>\n",
       "      <td>...</td>\n",
       "      <td>1.0</td>\n",
       "      <td>NaN</td>\n",
       "      <td>1.0</td>\n",
       "      <td>1</td>\n",
       "      <td>1</td>\n",
       "      <td>1.0</td>\n",
       "      <td>11.0</td>\n",
       "      <td>9.0</td>\n",
       "      <td>17.0</td>\n",
       "      <td>5.0</td>\n",
       "    </tr>\n",
       "    <tr>\n",
       "      <th>379911</th>\n",
       "      <td>2022991322411</td>\n",
       "      <td>99</td>\n",
       "      <td>2</td>\n",
       "      <td>1</td>\n",
       "      <td>1</td>\n",
       "      <td>23/11/2022</td>\n",
       "      <td>4</td>\n",
       "      <td>19:05</td>\n",
       "      <td>NaN</td>\n",
       "      <td>3</td>\n",
       "      <td>...</td>\n",
       "      <td>1.0</td>\n",
       "      <td>NaN</td>\n",
       "      <td>2.0</td>\n",
       "      <td>1</td>\n",
       "      <td>1</td>\n",
       "      <td>1.0</td>\n",
       "      <td>9.0</td>\n",
       "      <td>8.0</td>\n",
       "      <td>7.0</td>\n",
       "      <td>1.0</td>\n",
       "    </tr>\n",
       "  </tbody>\n",
       "</table>\n",
       "<p>5 rows × 22 columns</p>\n",
       "</div>"
      ],
      "text/plain": [
       "       accident_index  police_force  accident_severity  number_of_vehicles  \\\n",
       "379907  2022991312498            99                  2                   3   \n",
       "379908  2022991312498            99                  2                   3   \n",
       "379909  2022991315177            99                  3                   1   \n",
       "379910  2022991321308            99                  2                   1   \n",
       "379911  2022991322411            99                  2                   1   \n",
       "\n",
       "        number_of_casualties        date  day_of_week   time  \\\n",
       "379907                     1  12/11/2022            7  21:35   \n",
       "379908                     1  12/11/2022            7  21:35   \n",
       "379909                     1  01/07/2022            6  11:44   \n",
       "379910                     1  02/12/2022            6  16:45   \n",
       "379911                     1  23/11/2022            4  19:05   \n",
       "\n",
       "        local_authority_district  road_type  ...  weather_conditions  \\\n",
       "379907                       NaN          6  ...                 1.0   \n",
       "379908                       NaN          6  ...                 1.0   \n",
       "379909                       NaN          6  ...                 1.0   \n",
       "379910                       NaN          6  ...                 1.0   \n",
       "379911                       NaN          3  ...                 1.0   \n",
       "\n",
       "        road_surface_conditions  carriageway_hazards  urban_or_rural_area  \\\n",
       "379907                      NaN                  1.0                    2   \n",
       "379908                      NaN                  1.0                    2   \n",
       "379909                      NaN                  1.0                    1   \n",
       "379910                      NaN                  1.0                    1   \n",
       "379911                      NaN                  2.0                    1   \n",
       "\n",
       "        did_police_officer_attend_scene_of_accident  sex_of_driver  \\\n",
       "379907                                            1            1.0   \n",
       "379908                                            1            1.0   \n",
       "379909                                            2            1.0   \n",
       "379910                                            1            1.0   \n",
       "379911                                            1            1.0   \n",
       "\n",
       "        age_band_of_driver  vehicle_type  age_of_vehicle  \\\n",
       "379907                 7.0          19.0             NaN   \n",
       "379908                 9.0           9.0            12.0   \n",
       "379909                 9.0           9.0            10.0   \n",
       "379910                11.0           9.0            17.0   \n",
       "379911                 9.0           8.0             7.0   \n",
       "\n",
       "        journey_purpose_of_driver  \n",
       "379907                        5.0  \n",
       "379908                        5.0  \n",
       "379909                        6.0  \n",
       "379910                        5.0  \n",
       "379911                        1.0  \n",
       "\n",
       "[5 rows x 22 columns]"
      ]
     },
     "execution_count": 25,
     "metadata": {},
     "output_type": "execute_result"
    }
   ],
   "source": [
    "combined_data.tail()"
   ]
  },
  {
   "cell_type": "code",
   "execution_count": 26,
   "id": "6b1eefae-fb64-49f1-b12c-73580977eeb9",
   "metadata": {},
   "outputs": [
    {
     "data": {
      "text/plain": [
       "(379912, 22)"
      ]
     },
     "execution_count": 26,
     "metadata": {},
     "output_type": "execute_result"
    }
   ],
   "source": [
    "combined_data.shape"
   ]
  },
  {
   "cell_type": "code",
   "execution_count": 27,
   "id": "f0814197",
   "metadata": {},
   "outputs": [
    {
     "data": {
      "text/plain": [
       "accident_index                                  object\n",
       "police_force                                     int64\n",
       "accident_severity                                int64\n",
       "number_of_vehicles                               int64\n",
       "number_of_casualties                             int64\n",
       "date                                            object\n",
       "day_of_week                                      int64\n",
       "time                                            object\n",
       "local_authority_district                       float64\n",
       "road_type                                        int64\n",
       "speed_limit                                      int64\n",
       "light_conditions                               float64\n",
       "weather_conditions                             float64\n",
       "road_surface_conditions                        float64\n",
       "carriageway_hazards                            float64\n",
       "urban_or_rural_area                              int64\n",
       "did_police_officer_attend_scene_of_accident      int64\n",
       "sex_of_driver                                  float64\n",
       "age_band_of_driver                             float64\n",
       "vehicle_type                                   float64\n",
       "age_of_vehicle                                 float64\n",
       "journey_purpose_of_driver                      float64\n",
       "dtype: object"
      ]
     },
     "execution_count": 27,
     "metadata": {},
     "output_type": "execute_result"
    }
   ],
   "source": [
    "combined_data.dtypes"
   ]
  },
  {
   "cell_type": "code",
   "execution_count": 28,
   "id": "8283cf20-be56-4899-8653-bb72fa0dc4fa",
   "metadata": {},
   "outputs": [
    {
     "data": {
      "text/html": [
       "<div>\n",
       "<style scoped>\n",
       "    .dataframe tbody tr th:only-of-type {\n",
       "        vertical-align: middle;\n",
       "    }\n",
       "\n",
       "    .dataframe tbody tr th {\n",
       "        vertical-align: top;\n",
       "    }\n",
       "\n",
       "    .dataframe thead th {\n",
       "        text-align: right;\n",
       "    }\n",
       "</style>\n",
       "<table border=\"1\" class=\"dataframe\">\n",
       "  <thead>\n",
       "    <tr style=\"text-align: right;\">\n",
       "      <th></th>\n",
       "      <th>police_force</th>\n",
       "      <th>accident_severity</th>\n",
       "      <th>number_of_vehicles</th>\n",
       "      <th>number_of_casualties</th>\n",
       "      <th>day_of_week</th>\n",
       "      <th>local_authority_district</th>\n",
       "      <th>road_type</th>\n",
       "      <th>speed_limit</th>\n",
       "      <th>light_conditions</th>\n",
       "      <th>weather_conditions</th>\n",
       "      <th>road_surface_conditions</th>\n",
       "      <th>carriageway_hazards</th>\n",
       "      <th>urban_or_rural_area</th>\n",
       "      <th>did_police_officer_attend_scene_of_accident</th>\n",
       "      <th>sex_of_driver</th>\n",
       "      <th>age_band_of_driver</th>\n",
       "      <th>vehicle_type</th>\n",
       "      <th>age_of_vehicle</th>\n",
       "      <th>journey_purpose_of_driver</th>\n",
       "    </tr>\n",
       "  </thead>\n",
       "  <tbody>\n",
       "    <tr>\n",
       "      <th>count</th>\n",
       "      <td>379912.000000</td>\n",
       "      <td>379912.000000</td>\n",
       "      <td>379912.00000</td>\n",
       "      <td>379912.000000</td>\n",
       "      <td>379912.000000</td>\n",
       "      <td>0.0</td>\n",
       "      <td>379912.000000</td>\n",
       "      <td>379912.000000</td>\n",
       "      <td>379888.000000</td>\n",
       "      <td>379886.000000</td>\n",
       "      <td>13036.000000</td>\n",
       "      <td>377900.000000</td>\n",
       "      <td>379912.000000</td>\n",
       "      <td>379912.000000</td>\n",
       "      <td>379910.000000</td>\n",
       "      <td>324533.000000</td>\n",
       "      <td>379590.000000</td>\n",
       "      <td>281292.000000</td>\n",
       "      <td>379910.000000</td>\n",
       "    </tr>\n",
       "    <tr>\n",
       "      <th>mean</th>\n",
       "      <td>27.181271</td>\n",
       "      <td>2.766388</td>\n",
       "      <td>2.09021</td>\n",
       "      <td>1.327750</td>\n",
       "      <td>4.154375</td>\n",
       "      <td>NaN</td>\n",
       "      <td>5.213973</td>\n",
       "      <td>36.419776</td>\n",
       "      <td>1.951433</td>\n",
       "      <td>1.618249</td>\n",
       "      <td>5.572645</td>\n",
       "      <td>1.346795</td>\n",
       "      <td>1.326878</td>\n",
       "      <td>1.463299</td>\n",
       "      <td>1.501958</td>\n",
       "      <td>6.929619</td>\n",
       "      <td>10.496625</td>\n",
       "      <td>8.688303</td>\n",
       "      <td>4.687671</td>\n",
       "    </tr>\n",
       "    <tr>\n",
       "      <th>std</th>\n",
       "      <td>23.989873</td>\n",
       "      <td>0.455940</td>\n",
       "      <td>0.82749</td>\n",
       "      <td>0.766101</td>\n",
       "      <td>1.937424</td>\n",
       "      <td>NaN</td>\n",
       "      <td>1.717988</td>\n",
       "      <td>14.414090</td>\n",
       "      <td>1.651119</td>\n",
       "      <td>1.814362</td>\n",
       "      <td>3.330097</td>\n",
       "      <td>0.934109</td>\n",
       "      <td>0.469073</td>\n",
       "      <td>0.750713</td>\n",
       "      <td>0.705462</td>\n",
       "      <td>1.792990</td>\n",
       "      <td>12.691233</td>\n",
       "      <td>5.632000</td>\n",
       "      <td>1.916590</td>\n",
       "    </tr>\n",
       "    <tr>\n",
       "      <th>min</th>\n",
       "      <td>1.000000</td>\n",
       "      <td>1.000000</td>\n",
       "      <td>1.00000</td>\n",
       "      <td>1.000000</td>\n",
       "      <td>1.000000</td>\n",
       "      <td>NaN</td>\n",
       "      <td>1.000000</td>\n",
       "      <td>20.000000</td>\n",
       "      <td>1.000000</td>\n",
       "      <td>1.000000</td>\n",
       "      <td>1.000000</td>\n",
       "      <td>1.000000</td>\n",
       "      <td>1.000000</td>\n",
       "      <td>1.000000</td>\n",
       "      <td>1.000000</td>\n",
       "      <td>1.000000</td>\n",
       "      <td>1.000000</td>\n",
       "      <td>1.000000</td>\n",
       "      <td>1.000000</td>\n",
       "    </tr>\n",
       "    <tr>\n",
       "      <th>25%</th>\n",
       "      <td>4.000000</td>\n",
       "      <td>3.000000</td>\n",
       "      <td>2.00000</td>\n",
       "      <td>1.000000</td>\n",
       "      <td>3.000000</td>\n",
       "      <td>NaN</td>\n",
       "      <td>6.000000</td>\n",
       "      <td>30.000000</td>\n",
       "      <td>1.000000</td>\n",
       "      <td>1.000000</td>\n",
       "      <td>2.000000</td>\n",
       "      <td>1.000000</td>\n",
       "      <td>1.000000</td>\n",
       "      <td>1.000000</td>\n",
       "      <td>1.000000</td>\n",
       "      <td>6.000000</td>\n",
       "      <td>9.000000</td>\n",
       "      <td>4.000000</td>\n",
       "      <td>3.000000</td>\n",
       "    </tr>\n",
       "    <tr>\n",
       "      <th>50%</th>\n",
       "      <td>22.000000</td>\n",
       "      <td>3.000000</td>\n",
       "      <td>2.00000</td>\n",
       "      <td>1.000000</td>\n",
       "      <td>4.000000</td>\n",
       "      <td>NaN</td>\n",
       "      <td>6.000000</td>\n",
       "      <td>30.000000</td>\n",
       "      <td>1.000000</td>\n",
       "      <td>1.000000</td>\n",
       "      <td>7.000000</td>\n",
       "      <td>1.000000</td>\n",
       "      <td>1.000000</td>\n",
       "      <td>1.000000</td>\n",
       "      <td>1.000000</td>\n",
       "      <td>7.000000</td>\n",
       "      <td>9.000000</td>\n",
       "      <td>8.000000</td>\n",
       "      <td>6.000000</td>\n",
       "    </tr>\n",
       "    <tr>\n",
       "      <th>75%</th>\n",
       "      <td>45.000000</td>\n",
       "      <td>3.000000</td>\n",
       "      <td>2.00000</td>\n",
       "      <td>1.000000</td>\n",
       "      <td>6.000000</td>\n",
       "      <td>NaN</td>\n",
       "      <td>6.000000</td>\n",
       "      <td>40.000000</td>\n",
       "      <td>4.000000</td>\n",
       "      <td>1.000000</td>\n",
       "      <td>9.000000</td>\n",
       "      <td>1.000000</td>\n",
       "      <td>2.000000</td>\n",
       "      <td>2.000000</td>\n",
       "      <td>2.000000</td>\n",
       "      <td>8.000000</td>\n",
       "      <td>9.000000</td>\n",
       "      <td>13.000000</td>\n",
       "      <td>6.000000</td>\n",
       "    </tr>\n",
       "    <tr>\n",
       "      <th>max</th>\n",
       "      <td>99.000000</td>\n",
       "      <td>3.000000</td>\n",
       "      <td>16.00000</td>\n",
       "      <td>22.000000</td>\n",
       "      <td>7.000000</td>\n",
       "      <td>NaN</td>\n",
       "      <td>9.000000</td>\n",
       "      <td>70.000000</td>\n",
       "      <td>7.000000</td>\n",
       "      <td>9.000000</td>\n",
       "      <td>9.000000</td>\n",
       "      <td>9.000000</td>\n",
       "      <td>2.000000</td>\n",
       "      <td>3.000000</td>\n",
       "      <td>3.000000</td>\n",
       "      <td>11.000000</td>\n",
       "      <td>99.000000</td>\n",
       "      <td>122.000000</td>\n",
       "      <td>6.000000</td>\n",
       "    </tr>\n",
       "  </tbody>\n",
       "</table>\n",
       "</div>"
      ],
      "text/plain": [
       "        police_force  accident_severity  number_of_vehicles  \\\n",
       "count  379912.000000      379912.000000        379912.00000   \n",
       "mean       27.181271           2.766388             2.09021   \n",
       "std        23.989873           0.455940             0.82749   \n",
       "min         1.000000           1.000000             1.00000   \n",
       "25%         4.000000           3.000000             2.00000   \n",
       "50%        22.000000           3.000000             2.00000   \n",
       "75%        45.000000           3.000000             2.00000   \n",
       "max        99.000000           3.000000            16.00000   \n",
       "\n",
       "       number_of_casualties    day_of_week  local_authority_district  \\\n",
       "count         379912.000000  379912.000000                       0.0   \n",
       "mean               1.327750       4.154375                       NaN   \n",
       "std                0.766101       1.937424                       NaN   \n",
       "min                1.000000       1.000000                       NaN   \n",
       "25%                1.000000       3.000000                       NaN   \n",
       "50%                1.000000       4.000000                       NaN   \n",
       "75%                1.000000       6.000000                       NaN   \n",
       "max               22.000000       7.000000                       NaN   \n",
       "\n",
       "           road_type    speed_limit  light_conditions  weather_conditions  \\\n",
       "count  379912.000000  379912.000000     379888.000000       379886.000000   \n",
       "mean        5.213973      36.419776          1.951433            1.618249   \n",
       "std         1.717988      14.414090          1.651119            1.814362   \n",
       "min         1.000000      20.000000          1.000000            1.000000   \n",
       "25%         6.000000      30.000000          1.000000            1.000000   \n",
       "50%         6.000000      30.000000          1.000000            1.000000   \n",
       "75%         6.000000      40.000000          4.000000            1.000000   \n",
       "max         9.000000      70.000000          7.000000            9.000000   \n",
       "\n",
       "       road_surface_conditions  carriageway_hazards  urban_or_rural_area  \\\n",
       "count             13036.000000        377900.000000        379912.000000   \n",
       "mean                  5.572645             1.346795             1.326878   \n",
       "std                   3.330097             0.934109             0.469073   \n",
       "min                   1.000000             1.000000             1.000000   \n",
       "25%                   2.000000             1.000000             1.000000   \n",
       "50%                   7.000000             1.000000             1.000000   \n",
       "75%                   9.000000             1.000000             2.000000   \n",
       "max                   9.000000             9.000000             2.000000   \n",
       "\n",
       "       did_police_officer_attend_scene_of_accident  sex_of_driver  \\\n",
       "count                                379912.000000  379910.000000   \n",
       "mean                                      1.463299       1.501958   \n",
       "std                                       0.750713       0.705462   \n",
       "min                                       1.000000       1.000000   \n",
       "25%                                       1.000000       1.000000   \n",
       "50%                                       1.000000       1.000000   \n",
       "75%                                       2.000000       2.000000   \n",
       "max                                       3.000000       3.000000   \n",
       "\n",
       "       age_band_of_driver   vehicle_type  age_of_vehicle  \\\n",
       "count       324533.000000  379590.000000   281292.000000   \n",
       "mean             6.929619      10.496625        8.688303   \n",
       "std              1.792990      12.691233        5.632000   \n",
       "min              1.000000       1.000000        1.000000   \n",
       "25%              6.000000       9.000000        4.000000   \n",
       "50%              7.000000       9.000000        8.000000   \n",
       "75%              8.000000       9.000000       13.000000   \n",
       "max             11.000000      99.000000      122.000000   \n",
       "\n",
       "       journey_purpose_of_driver  \n",
       "count              379910.000000  \n",
       "mean                    4.687671  \n",
       "std                     1.916590  \n",
       "min                     1.000000  \n",
       "25%                     3.000000  \n",
       "50%                     6.000000  \n",
       "75%                     6.000000  \n",
       "max                     6.000000  "
      ]
     },
     "execution_count": 28,
     "metadata": {},
     "output_type": "execute_result"
    }
   ],
   "source": [
    "combined_data.describe()"
   ]
  },
  {
   "cell_type": "markdown",
   "id": "4d1e8cf0",
   "metadata": {},
   "source": [
    "### Data Cleaning"
   ]
  },
  {
   "cell_type": "markdown",
   "id": "ae215066-20ac-4931-85e3-1dc995ae8b2b",
   "metadata": {},
   "source": [
    "#### Removing Duplicate Values"
   ]
  },
  {
   "cell_type": "code",
   "execution_count": 29,
   "id": "96727148-fb12-4c3d-bbf5-9f06439e98d7",
   "metadata": {},
   "outputs": [
    {
     "data": {
      "text/plain": [
       "1203"
      ]
     },
     "execution_count": 29,
     "metadata": {},
     "output_type": "execute_result"
    }
   ],
   "source": [
    "combined_data.duplicated().sum()"
   ]
  },
  {
   "cell_type": "code",
   "execution_count": 30,
   "id": "55614329-5682-45fb-a617-cc7ac7dd9001",
   "metadata": {},
   "outputs": [],
   "source": [
    "combined_data_clean = combined_data[~combined_data.duplicated()]"
   ]
  },
  {
   "cell_type": "markdown",
   "id": "0ff3904e",
   "metadata": {},
   "source": [
    "##### Rechecking for Duplicate Values"
   ]
  },
  {
   "cell_type": "code",
   "execution_count": 31,
   "id": "ab95994b-c9ae-4e7d-b8c4-8beb1ec55b17",
   "metadata": {},
   "outputs": [
    {
     "data": {
      "text/plain": [
       "0"
      ]
     },
     "execution_count": 31,
     "metadata": {},
     "output_type": "execute_result"
    }
   ],
   "source": [
    "combined_data_clean.duplicated().sum()"
   ]
  },
  {
   "cell_type": "code",
   "execution_count": 32,
   "id": "863b9bb6-07cc-4fb7-aaf3-bce5212c01e3",
   "metadata": {},
   "outputs": [
    {
     "data": {
      "text/plain": [
       "(379912, 22)"
      ]
     },
     "execution_count": 32,
     "metadata": {},
     "output_type": "execute_result"
    }
   ],
   "source": [
    "combined_data.shape"
   ]
  },
  {
   "cell_type": "code",
   "execution_count": 33,
   "id": "b81612ed-4b61-4438-beae-cfc2f3c75ff7",
   "metadata": {},
   "outputs": [
    {
     "data": {
      "text/html": [
       "<div>\n",
       "<style scoped>\n",
       "    .dataframe tbody tr th:only-of-type {\n",
       "        vertical-align: middle;\n",
       "    }\n",
       "\n",
       "    .dataframe tbody tr th {\n",
       "        vertical-align: top;\n",
       "    }\n",
       "\n",
       "    .dataframe thead th {\n",
       "        text-align: right;\n",
       "    }\n",
       "</style>\n",
       "<table border=\"1\" class=\"dataframe\">\n",
       "  <thead>\n",
       "    <tr style=\"text-align: right;\">\n",
       "      <th></th>\n",
       "      <th>police_force</th>\n",
       "      <th>accident_severity</th>\n",
       "      <th>number_of_vehicles</th>\n",
       "      <th>number_of_casualties</th>\n",
       "      <th>day_of_week</th>\n",
       "      <th>local_authority_district</th>\n",
       "      <th>road_type</th>\n",
       "      <th>speed_limit</th>\n",
       "      <th>light_conditions</th>\n",
       "      <th>weather_conditions</th>\n",
       "      <th>road_surface_conditions</th>\n",
       "      <th>carriageway_hazards</th>\n",
       "      <th>urban_or_rural_area</th>\n",
       "      <th>did_police_officer_attend_scene_of_accident</th>\n",
       "      <th>sex_of_driver</th>\n",
       "      <th>age_band_of_driver</th>\n",
       "      <th>vehicle_type</th>\n",
       "      <th>age_of_vehicle</th>\n",
       "      <th>journey_purpose_of_driver</th>\n",
       "    </tr>\n",
       "  </thead>\n",
       "  <tbody>\n",
       "    <tr>\n",
       "      <th>count</th>\n",
       "      <td>379912.000000</td>\n",
       "      <td>379912.000000</td>\n",
       "      <td>379912.00000</td>\n",
       "      <td>379912.000000</td>\n",
       "      <td>379912.000000</td>\n",
       "      <td>0.0</td>\n",
       "      <td>379912.000000</td>\n",
       "      <td>379912.000000</td>\n",
       "      <td>379888.000000</td>\n",
       "      <td>379886.000000</td>\n",
       "      <td>13036.000000</td>\n",
       "      <td>377900.000000</td>\n",
       "      <td>379912.000000</td>\n",
       "      <td>379912.000000</td>\n",
       "      <td>379910.000000</td>\n",
       "      <td>324533.000000</td>\n",
       "      <td>379590.000000</td>\n",
       "      <td>281292.000000</td>\n",
       "      <td>379910.000000</td>\n",
       "    </tr>\n",
       "    <tr>\n",
       "      <th>mean</th>\n",
       "      <td>27.181271</td>\n",
       "      <td>2.766388</td>\n",
       "      <td>2.09021</td>\n",
       "      <td>1.327750</td>\n",
       "      <td>4.154375</td>\n",
       "      <td>NaN</td>\n",
       "      <td>5.213973</td>\n",
       "      <td>36.419776</td>\n",
       "      <td>1.951433</td>\n",
       "      <td>1.618249</td>\n",
       "      <td>5.572645</td>\n",
       "      <td>1.346795</td>\n",
       "      <td>1.326878</td>\n",
       "      <td>1.463299</td>\n",
       "      <td>1.501958</td>\n",
       "      <td>6.929619</td>\n",
       "      <td>10.496625</td>\n",
       "      <td>8.688303</td>\n",
       "      <td>4.687671</td>\n",
       "    </tr>\n",
       "    <tr>\n",
       "      <th>std</th>\n",
       "      <td>23.989873</td>\n",
       "      <td>0.455940</td>\n",
       "      <td>0.82749</td>\n",
       "      <td>0.766101</td>\n",
       "      <td>1.937424</td>\n",
       "      <td>NaN</td>\n",
       "      <td>1.717988</td>\n",
       "      <td>14.414090</td>\n",
       "      <td>1.651119</td>\n",
       "      <td>1.814362</td>\n",
       "      <td>3.330097</td>\n",
       "      <td>0.934109</td>\n",
       "      <td>0.469073</td>\n",
       "      <td>0.750713</td>\n",
       "      <td>0.705462</td>\n",
       "      <td>1.792990</td>\n",
       "      <td>12.691233</td>\n",
       "      <td>5.632000</td>\n",
       "      <td>1.916590</td>\n",
       "    </tr>\n",
       "    <tr>\n",
       "      <th>min</th>\n",
       "      <td>1.000000</td>\n",
       "      <td>1.000000</td>\n",
       "      <td>1.00000</td>\n",
       "      <td>1.000000</td>\n",
       "      <td>1.000000</td>\n",
       "      <td>NaN</td>\n",
       "      <td>1.000000</td>\n",
       "      <td>20.000000</td>\n",
       "      <td>1.000000</td>\n",
       "      <td>1.000000</td>\n",
       "      <td>1.000000</td>\n",
       "      <td>1.000000</td>\n",
       "      <td>1.000000</td>\n",
       "      <td>1.000000</td>\n",
       "      <td>1.000000</td>\n",
       "      <td>1.000000</td>\n",
       "      <td>1.000000</td>\n",
       "      <td>1.000000</td>\n",
       "      <td>1.000000</td>\n",
       "    </tr>\n",
       "    <tr>\n",
       "      <th>25%</th>\n",
       "      <td>4.000000</td>\n",
       "      <td>3.000000</td>\n",
       "      <td>2.00000</td>\n",
       "      <td>1.000000</td>\n",
       "      <td>3.000000</td>\n",
       "      <td>NaN</td>\n",
       "      <td>6.000000</td>\n",
       "      <td>30.000000</td>\n",
       "      <td>1.000000</td>\n",
       "      <td>1.000000</td>\n",
       "      <td>2.000000</td>\n",
       "      <td>1.000000</td>\n",
       "      <td>1.000000</td>\n",
       "      <td>1.000000</td>\n",
       "      <td>1.000000</td>\n",
       "      <td>6.000000</td>\n",
       "      <td>9.000000</td>\n",
       "      <td>4.000000</td>\n",
       "      <td>3.000000</td>\n",
       "    </tr>\n",
       "    <tr>\n",
       "      <th>50%</th>\n",
       "      <td>22.000000</td>\n",
       "      <td>3.000000</td>\n",
       "      <td>2.00000</td>\n",
       "      <td>1.000000</td>\n",
       "      <td>4.000000</td>\n",
       "      <td>NaN</td>\n",
       "      <td>6.000000</td>\n",
       "      <td>30.000000</td>\n",
       "      <td>1.000000</td>\n",
       "      <td>1.000000</td>\n",
       "      <td>7.000000</td>\n",
       "      <td>1.000000</td>\n",
       "      <td>1.000000</td>\n",
       "      <td>1.000000</td>\n",
       "      <td>1.000000</td>\n",
       "      <td>7.000000</td>\n",
       "      <td>9.000000</td>\n",
       "      <td>8.000000</td>\n",
       "      <td>6.000000</td>\n",
       "    </tr>\n",
       "    <tr>\n",
       "      <th>75%</th>\n",
       "      <td>45.000000</td>\n",
       "      <td>3.000000</td>\n",
       "      <td>2.00000</td>\n",
       "      <td>1.000000</td>\n",
       "      <td>6.000000</td>\n",
       "      <td>NaN</td>\n",
       "      <td>6.000000</td>\n",
       "      <td>40.000000</td>\n",
       "      <td>4.000000</td>\n",
       "      <td>1.000000</td>\n",
       "      <td>9.000000</td>\n",
       "      <td>1.000000</td>\n",
       "      <td>2.000000</td>\n",
       "      <td>2.000000</td>\n",
       "      <td>2.000000</td>\n",
       "      <td>8.000000</td>\n",
       "      <td>9.000000</td>\n",
       "      <td>13.000000</td>\n",
       "      <td>6.000000</td>\n",
       "    </tr>\n",
       "    <tr>\n",
       "      <th>max</th>\n",
       "      <td>99.000000</td>\n",
       "      <td>3.000000</td>\n",
       "      <td>16.00000</td>\n",
       "      <td>22.000000</td>\n",
       "      <td>7.000000</td>\n",
       "      <td>NaN</td>\n",
       "      <td>9.000000</td>\n",
       "      <td>70.000000</td>\n",
       "      <td>7.000000</td>\n",
       "      <td>9.000000</td>\n",
       "      <td>9.000000</td>\n",
       "      <td>9.000000</td>\n",
       "      <td>2.000000</td>\n",
       "      <td>3.000000</td>\n",
       "      <td>3.000000</td>\n",
       "      <td>11.000000</td>\n",
       "      <td>99.000000</td>\n",
       "      <td>122.000000</td>\n",
       "      <td>6.000000</td>\n",
       "    </tr>\n",
       "  </tbody>\n",
       "</table>\n",
       "</div>"
      ],
      "text/plain": [
       "        police_force  accident_severity  number_of_vehicles  \\\n",
       "count  379912.000000      379912.000000        379912.00000   \n",
       "mean       27.181271           2.766388             2.09021   \n",
       "std        23.989873           0.455940             0.82749   \n",
       "min         1.000000           1.000000             1.00000   \n",
       "25%         4.000000           3.000000             2.00000   \n",
       "50%        22.000000           3.000000             2.00000   \n",
       "75%        45.000000           3.000000             2.00000   \n",
       "max        99.000000           3.000000            16.00000   \n",
       "\n",
       "       number_of_casualties    day_of_week  local_authority_district  \\\n",
       "count         379912.000000  379912.000000                       0.0   \n",
       "mean               1.327750       4.154375                       NaN   \n",
       "std                0.766101       1.937424                       NaN   \n",
       "min                1.000000       1.000000                       NaN   \n",
       "25%                1.000000       3.000000                       NaN   \n",
       "50%                1.000000       4.000000                       NaN   \n",
       "75%                1.000000       6.000000                       NaN   \n",
       "max               22.000000       7.000000                       NaN   \n",
       "\n",
       "           road_type    speed_limit  light_conditions  weather_conditions  \\\n",
       "count  379912.000000  379912.000000     379888.000000       379886.000000   \n",
       "mean        5.213973      36.419776          1.951433            1.618249   \n",
       "std         1.717988      14.414090          1.651119            1.814362   \n",
       "min         1.000000      20.000000          1.000000            1.000000   \n",
       "25%         6.000000      30.000000          1.000000            1.000000   \n",
       "50%         6.000000      30.000000          1.000000            1.000000   \n",
       "75%         6.000000      40.000000          4.000000            1.000000   \n",
       "max         9.000000      70.000000          7.000000            9.000000   \n",
       "\n",
       "       road_surface_conditions  carriageway_hazards  urban_or_rural_area  \\\n",
       "count             13036.000000        377900.000000        379912.000000   \n",
       "mean                  5.572645             1.346795             1.326878   \n",
       "std                   3.330097             0.934109             0.469073   \n",
       "min                   1.000000             1.000000             1.000000   \n",
       "25%                   2.000000             1.000000             1.000000   \n",
       "50%                   7.000000             1.000000             1.000000   \n",
       "75%                   9.000000             1.000000             2.000000   \n",
       "max                   9.000000             9.000000             2.000000   \n",
       "\n",
       "       did_police_officer_attend_scene_of_accident  sex_of_driver  \\\n",
       "count                                379912.000000  379910.000000   \n",
       "mean                                      1.463299       1.501958   \n",
       "std                                       0.750713       0.705462   \n",
       "min                                       1.000000       1.000000   \n",
       "25%                                       1.000000       1.000000   \n",
       "50%                                       1.000000       1.000000   \n",
       "75%                                       2.000000       2.000000   \n",
       "max                                       3.000000       3.000000   \n",
       "\n",
       "       age_band_of_driver   vehicle_type  age_of_vehicle  \\\n",
       "count       324533.000000  379590.000000   281292.000000   \n",
       "mean             6.929619      10.496625        8.688303   \n",
       "std              1.792990      12.691233        5.632000   \n",
       "min              1.000000       1.000000        1.000000   \n",
       "25%              6.000000       9.000000        4.000000   \n",
       "50%              7.000000       9.000000        8.000000   \n",
       "75%              8.000000       9.000000       13.000000   \n",
       "max             11.000000      99.000000      122.000000   \n",
       "\n",
       "       journey_purpose_of_driver  \n",
       "count              379910.000000  \n",
       "mean                    4.687671  \n",
       "std                     1.916590  \n",
       "min                     1.000000  \n",
       "25%                     3.000000  \n",
       "50%                     6.000000  \n",
       "75%                     6.000000  \n",
       "max                     6.000000  "
      ]
     },
     "execution_count": 33,
     "metadata": {},
     "output_type": "execute_result"
    }
   ],
   "source": [
    "combined_data.describe()"
   ]
  },
  {
   "cell_type": "markdown",
   "id": "25932478",
   "metadata": {},
   "source": [
    "##### Making A Data Copy"
   ]
  },
  {
   "cell_type": "code",
   "execution_count": 34,
   "id": "a4d13b5d-621f-44e9-b804-45cf34cc4d4d",
   "metadata": {},
   "outputs": [],
   "source": [
    "combined_data_copy = combined_data_clean.copy()"
   ]
  },
  {
   "cell_type": "code",
   "execution_count": 35,
   "id": "a02b6e79-490c-4945-aa98-ee65db9d6e04",
   "metadata": {},
   "outputs": [
    {
     "data": {
      "text/html": [
       "<div>\n",
       "<style scoped>\n",
       "    .dataframe tbody tr th:only-of-type {\n",
       "        vertical-align: middle;\n",
       "    }\n",
       "\n",
       "    .dataframe tbody tr th {\n",
       "        vertical-align: top;\n",
       "    }\n",
       "\n",
       "    .dataframe thead th {\n",
       "        text-align: right;\n",
       "    }\n",
       "</style>\n",
       "<table border=\"1\" class=\"dataframe\">\n",
       "  <thead>\n",
       "    <tr style=\"text-align: right;\">\n",
       "      <th></th>\n",
       "      <th>accident_index</th>\n",
       "      <th>police_force</th>\n",
       "      <th>accident_severity</th>\n",
       "      <th>number_of_vehicles</th>\n",
       "      <th>number_of_casualties</th>\n",
       "      <th>date</th>\n",
       "      <th>day_of_week</th>\n",
       "      <th>time</th>\n",
       "      <th>local_authority_district</th>\n",
       "      <th>road_type</th>\n",
       "      <th>...</th>\n",
       "      <th>weather_conditions</th>\n",
       "      <th>road_surface_conditions</th>\n",
       "      <th>carriageway_hazards</th>\n",
       "      <th>urban_or_rural_area</th>\n",
       "      <th>did_police_officer_attend_scene_of_accident</th>\n",
       "      <th>sex_of_driver</th>\n",
       "      <th>age_band_of_driver</th>\n",
       "      <th>vehicle_type</th>\n",
       "      <th>age_of_vehicle</th>\n",
       "      <th>journey_purpose_of_driver</th>\n",
       "    </tr>\n",
       "  </thead>\n",
       "  <tbody>\n",
       "    <tr>\n",
       "      <th>0</th>\n",
       "      <td>2021010287148</td>\n",
       "      <td>1</td>\n",
       "      <td>3</td>\n",
       "      <td>3</td>\n",
       "      <td>1</td>\n",
       "      <td>01/01/2021</td>\n",
       "      <td>6</td>\n",
       "      <td>02:05</td>\n",
       "      <td>NaN</td>\n",
       "      <td>6</td>\n",
       "      <td>...</td>\n",
       "      <td>7.0</td>\n",
       "      <td>NaN</td>\n",
       "      <td>4.0</td>\n",
       "      <td>1</td>\n",
       "      <td>1</td>\n",
       "      <td>1.0</td>\n",
       "      <td>4.0</td>\n",
       "      <td>9.0</td>\n",
       "      <td>3.0</td>\n",
       "      <td>6.0</td>\n",
       "    </tr>\n",
       "    <tr>\n",
       "      <th>1</th>\n",
       "      <td>2021010287148</td>\n",
       "      <td>1</td>\n",
       "      <td>3</td>\n",
       "      <td>3</td>\n",
       "      <td>1</td>\n",
       "      <td>01/01/2021</td>\n",
       "      <td>6</td>\n",
       "      <td>02:05</td>\n",
       "      <td>NaN</td>\n",
       "      <td>6</td>\n",
       "      <td>...</td>\n",
       "      <td>7.0</td>\n",
       "      <td>NaN</td>\n",
       "      <td>4.0</td>\n",
       "      <td>1</td>\n",
       "      <td>1</td>\n",
       "      <td>3.0</td>\n",
       "      <td>NaN</td>\n",
       "      <td>9.0</td>\n",
       "      <td>2.0</td>\n",
       "      <td>6.0</td>\n",
       "    </tr>\n",
       "    <tr>\n",
       "      <th>2</th>\n",
       "      <td>2021010287148</td>\n",
       "      <td>1</td>\n",
       "      <td>3</td>\n",
       "      <td>3</td>\n",
       "      <td>1</td>\n",
       "      <td>01/01/2021</td>\n",
       "      <td>6</td>\n",
       "      <td>02:05</td>\n",
       "      <td>NaN</td>\n",
       "      <td>6</td>\n",
       "      <td>...</td>\n",
       "      <td>7.0</td>\n",
       "      <td>NaN</td>\n",
       "      <td>4.0</td>\n",
       "      <td>1</td>\n",
       "      <td>1</td>\n",
       "      <td>3.0</td>\n",
       "      <td>NaN</td>\n",
       "      <td>9.0</td>\n",
       "      <td>1.0</td>\n",
       "      <td>6.0</td>\n",
       "    </tr>\n",
       "    <tr>\n",
       "      <th>3</th>\n",
       "      <td>2021010287149</td>\n",
       "      <td>1</td>\n",
       "      <td>2</td>\n",
       "      <td>2</td>\n",
       "      <td>3</td>\n",
       "      <td>01/01/2021</td>\n",
       "      <td>6</td>\n",
       "      <td>03:30</td>\n",
       "      <td>NaN</td>\n",
       "      <td>3</td>\n",
       "      <td>...</td>\n",
       "      <td>1.0</td>\n",
       "      <td>NaN</td>\n",
       "      <td>1.0</td>\n",
       "      <td>1</td>\n",
       "      <td>1</td>\n",
       "      <td>1.0</td>\n",
       "      <td>6.0</td>\n",
       "      <td>9.0</td>\n",
       "      <td>11.0</td>\n",
       "      <td>6.0</td>\n",
       "    </tr>\n",
       "    <tr>\n",
       "      <th>4</th>\n",
       "      <td>2021010287149</td>\n",
       "      <td>1</td>\n",
       "      <td>2</td>\n",
       "      <td>2</td>\n",
       "      <td>3</td>\n",
       "      <td>01/01/2021</td>\n",
       "      <td>6</td>\n",
       "      <td>03:30</td>\n",
       "      <td>NaN</td>\n",
       "      <td>3</td>\n",
       "      <td>...</td>\n",
       "      <td>1.0</td>\n",
       "      <td>NaN</td>\n",
       "      <td>1.0</td>\n",
       "      <td>1</td>\n",
       "      <td>1</td>\n",
       "      <td>1.0</td>\n",
       "      <td>5.0</td>\n",
       "      <td>9.0</td>\n",
       "      <td>11.0</td>\n",
       "      <td>6.0</td>\n",
       "    </tr>\n",
       "  </tbody>\n",
       "</table>\n",
       "<p>5 rows × 22 columns</p>\n",
       "</div>"
      ],
      "text/plain": [
       "  accident_index  police_force  accident_severity  number_of_vehicles  \\\n",
       "0  2021010287148             1                  3                   3   \n",
       "1  2021010287148             1                  3                   3   \n",
       "2  2021010287148             1                  3                   3   \n",
       "3  2021010287149             1                  2                   2   \n",
       "4  2021010287149             1                  2                   2   \n",
       "\n",
       "   number_of_casualties        date  day_of_week   time  \\\n",
       "0                     1  01/01/2021            6  02:05   \n",
       "1                     1  01/01/2021            6  02:05   \n",
       "2                     1  01/01/2021            6  02:05   \n",
       "3                     3  01/01/2021            6  03:30   \n",
       "4                     3  01/01/2021            6  03:30   \n",
       "\n",
       "   local_authority_district  road_type  ...  weather_conditions  \\\n",
       "0                       NaN          6  ...                 7.0   \n",
       "1                       NaN          6  ...                 7.0   \n",
       "2                       NaN          6  ...                 7.0   \n",
       "3                       NaN          3  ...                 1.0   \n",
       "4                       NaN          3  ...                 1.0   \n",
       "\n",
       "   road_surface_conditions  carriageway_hazards  urban_or_rural_area  \\\n",
       "0                      NaN                  4.0                    1   \n",
       "1                      NaN                  4.0                    1   \n",
       "2                      NaN                  4.0                    1   \n",
       "3                      NaN                  1.0                    1   \n",
       "4                      NaN                  1.0                    1   \n",
       "\n",
       "   did_police_officer_attend_scene_of_accident  sex_of_driver  \\\n",
       "0                                            1            1.0   \n",
       "1                                            1            3.0   \n",
       "2                                            1            3.0   \n",
       "3                                            1            1.0   \n",
       "4                                            1            1.0   \n",
       "\n",
       "   age_band_of_driver  vehicle_type  age_of_vehicle  journey_purpose_of_driver  \n",
       "0                 4.0           9.0             3.0                        6.0  \n",
       "1                 NaN           9.0             2.0                        6.0  \n",
       "2                 NaN           9.0             1.0                        6.0  \n",
       "3                 6.0           9.0            11.0                        6.0  \n",
       "4                 5.0           9.0            11.0                        6.0  \n",
       "\n",
       "[5 rows x 22 columns]"
      ]
     },
     "execution_count": 35,
     "metadata": {},
     "output_type": "execute_result"
    }
   ],
   "source": [
    "combined_data_copy.head()"
   ]
  },
  {
   "cell_type": "code",
   "execution_count": 36,
   "id": "b823e91e-976a-4246-b88f-c45dd7c8d40e",
   "metadata": {},
   "outputs": [
    {
     "name": "stdout",
     "output_type": "stream",
     "text": [
      "number_of_vehicles      16\n",
      "number_of_casualties    22\n",
      "dtype: int64\n",
      "number_of_vehicles      1\n",
      "number_of_casualties    1\n",
      "dtype: int64\n"
     ]
    }
   ],
   "source": [
    "## assessing the numerical data\n",
    "print(combined_data_copy[['number_of_vehicles','number_of_casualties']].max())\n",
    "print(combined_data_copy[['number_of_vehicles','number_of_casualties']].min())"
   ]
  },
  {
   "cell_type": "code",
   "execution_count": 37,
   "id": "70f54ccb-22cb-4326-8cb9-6388ba5968f7",
   "metadata": {},
   "outputs": [],
   "source": [
    "### Aggrating values\n",
    "def aggregate_values(value):\n",
    "    if value == 1:\n",
    "        return \"1\"\n",
    "    if value == 2:\n",
    "        return \"2\"\n",
    "    if value == 3:\n",
    "        return \"3\"\n",
    "    if value == 4:\n",
    "        return \"4\"\n",
    "    else:\n",
    "        return \"5 and more\"\n",
    "    \n",
    "### Applying the function\n",
    "\n",
    "combined_data_copy['number_of_vehicles']= combined_data_copy['number_of_vehicles'].apply(aggregate_values)\n",
    "combined_data_copy['number_of_casualties'] = combined_data_copy['number_of_casualties'].apply(aggregate_values)"
   ]
  },
  {
   "cell_type": "markdown",
   "id": "e0dbf33e",
   "metadata": {},
   "source": [
    "##### Data Imputing"
   ]
  },
  {
   "cell_type": "code",
   "execution_count": 38,
   "id": "3d115639-2f64-449e-93d9-b6f9f8147f1d",
   "metadata": {},
   "outputs": [],
   "source": [
    "# #### data Imputing\n",
    "# ### Urban_or_rural_area\n",
    "combined_data_copy['urban_or_rural_area'][combined_data_copy['urban_or_rural_area']==1]='Urban area'\n",
    "combined_data_copy['urban_or_rural_area'][combined_data_copy['urban_or_rural_area']==2]='Small town'\n",
    "combined_data_copy['urban_or_rural_area'][combined_data_copy['urban_or_rural_area']==3]='Rural'\n",
    "\n",
    "#### Road type\n",
    "combined_data_copy['road_type'][combined_data_copy['road_type']==1.0]='Roundabout'\n",
    "combined_data_copy['road_type'][combined_data_copy['road_type']==2.0]='One way street'\n",
    "combined_data_copy['road_type'][combined_data_copy['road_type']==3.0]='Dual carriageway'\n",
    "combined_data_copy['road_type'][combined_data_copy['road_type']==6.0]='Single carriageway'\n",
    "combined_data_copy['road_type'][combined_data_copy['road_type']==7.0]='Slip road'\n",
    "combined_data_copy['road_type'][combined_data_copy['road_type']==9.0]='Unknown'\n",
    "combined_data_copy['road_type'][combined_data_copy['road_type']==12.0]='One way street/Slip road'\n",
    "\n",
    "\n",
    "### Light Condition\n",
    "combined_data_copy['light_conditions'][combined_data_copy['light_conditions']==1]='Daylight'\n",
    "combined_data_copy['light_conditions'][combined_data_copy['light_conditions']==4]='Darkness - lights lit'\n",
    "combined_data_copy['light_conditions'][combined_data_copy['light_conditions']==5]='Darkness - lights unlit'\n",
    "combined_data_copy['light_conditions'][combined_data_copy['light_conditions']==6]='Darkness - no lighting'\n",
    "combined_data_copy['light_conditions'][combined_data_copy['light_conditions']==7]='Darkness - lighting unknown'\n",
    "\n",
    "### Weather Conditions\n",
    "combined_data_copy['weather_conditions'][combined_data_copy['weather_conditions']==1]='Fine no high winds'\n",
    "combined_data_copy['weather_conditions'][combined_data_copy['weather_conditions']==2]='Raining no high winds'\n",
    "combined_data_copy['weather_conditions'][combined_data_copy['weather_conditions']==3]='Snowing no high winds'\n",
    "combined_data_copy['weather_conditions'][combined_data_copy['weather_conditions']==4]='Fine + high winds'\n",
    "combined_data_copy['weather_conditions'][combined_data_copy['weather_conditions']==5]='Raining + high winds'\n",
    "combined_data_copy['weather_conditions'][combined_data_copy['weather_conditions']==6]='Snowing + high winds'\n",
    "combined_data_copy['weather_conditions'][combined_data_copy['weather_conditions']==7]='Fog or mist'\n",
    "combined_data_copy['weather_conditions'][combined_data_copy['weather_conditions']==8]='Other'\n",
    "combined_data_copy['weather_conditions'][combined_data_copy['weather_conditions']==9]='Unknown'\n",
    "\n",
    "\n",
    "### road surface conditons\n",
    "combined_data_copy['road_surface_conditions'][combined_data_copy['road_surface_conditions']==1]='Dry'\n",
    "combined_data_copy['road_surface_conditions'][combined_data_copy['road_surface_conditions']==2]='Wet or damp'\n",
    "combined_data_copy['road_surface_conditions'][combined_data_copy['road_surface_conditions']==3]='Snow'\n",
    "combined_data_copy['road_surface_conditions'][combined_data_copy['road_surface_conditions']==4]='Frost or ice'\n",
    "combined_data_copy['road_surface_conditions'][combined_data_copy['road_surface_conditions']==5]='Flood over 3cm. deep'\n",
    "combined_data_copy['road_surface_conditions'][combined_data_copy['road_surface_conditions']==6]='Oil or diesel'\n",
    "combined_data_copy['road_surface_conditions'][combined_data_copy['road_surface_conditions']==7]='Mud'\n",
    "combined_data_copy['road_surface_conditions'][combined_data_copy['road_surface_conditions']==9]='unknown (self reported)'\n",
    "\n",
    "\n",
    "### Cariage Hazard\n",
    "combined_data_copy['carriageway_hazards'][combined_data_copy['carriageway_hazards']==1]='Vehicle load on road'\n",
    "combined_data_copy['carriageway_hazards'][combined_data_copy['carriageway_hazards']==2]='Other object on road'\n",
    "combined_data_copy['carriageway_hazards'][combined_data_copy['carriageway_hazards']==3]='Previous accident'\n",
    "combined_data_copy['carriageway_hazards'][combined_data_copy['carriageway_hazards']==4]='Dog on road'\n",
    "combined_data_copy['carriageway_hazards'][combined_data_copy['carriageway_hazards']==5]='Other animal on road'\n",
    "combined_data_copy['carriageway_hazards'][combined_data_copy['carriageway_hazards']==6]='Pedestrian in carriageway - not injured'\n",
    "combined_data_copy['carriageway_hazards'][combined_data_copy['carriageway_hazards']==7]='Any animal in carriageway'\n",
    "combined_data_copy['carriageway_hazards'][combined_data_copy['carriageway_hazards']==9]='unknown (self reported)'\n",
    "\n",
    "##  Accident severity \n",
    "combined_data_copy['accident_severity'][combined_data_copy['accident_severity']==1]='Fatal'\n",
    "combined_data_copy['accident_severity'][combined_data_copy['accident_severity']==2]='Serious'\n",
    "combined_data_copy['accident_severity'][combined_data_copy['accident_severity']==3]='Slight'"
   ]
  },
  {
   "cell_type": "code",
   "execution_count": 39,
   "id": "aad0c230-e61f-4f4d-bf64-b946ae1d2d02",
   "metadata": {},
   "outputs": [],
   "source": [
    "\n",
    "### Sex of driver\n",
    "combined_data_copy['sex_of_driver'][combined_data_copy['sex_of_driver']==1]='Male'\n",
    "combined_data_copy['sex_of_driver'][combined_data_copy['sex_of_driver']==2]='Female'\n",
    "combined_data_copy['sex_of_driver'][combined_data_copy['sex_of_driver']==3]='Unknown'\n",
    "\n",
    "#### age band of driver\n",
    "combined_data_copy['age_band_of_driver'][combined_data_copy['age_band_of_driver']==1.0]='0-5'\n",
    "combined_data_copy['age_band_of_driver'][combined_data_copy['age_band_of_driver']==2.0]='6-10'\n",
    "combined_data_copy['age_band_of_driver'][combined_data_copy['age_band_of_driver']==3.0]='11-15'\n",
    "combined_data_copy['age_band_of_driver'][combined_data_copy['age_band_of_driver']==4.0]='16-20'\n",
    "combined_data_copy['age_band_of_driver'][combined_data_copy['age_band_of_driver']==5.0]='21-25'\n",
    "combined_data_copy['age_band_of_driver'][combined_data_copy['age_band_of_driver']==6.0]='26-35'\n",
    "combined_data_copy['age_band_of_driver'][combined_data_copy['age_band_of_driver']==7.0]='36-45'\n",
    "combined_data_copy['age_band_of_driver'][combined_data_copy['age_band_of_driver']==8.0]='46-55'\n",
    "combined_data_copy['age_band_of_driver'][combined_data_copy['age_band_of_driver']==9.0]='56-65'\n",
    "combined_data_copy['age_band_of_driver'][combined_data_copy['age_band_of_driver']==10.0]='66-75'\n",
    "combined_data_copy['age_band_of_driver'][combined_data_copy['age_band_of_driver']==11.0]='Over 75'"
   ]
  },
  {
   "cell_type": "code",
   "execution_count": 40,
   "id": "9fd4a5a0-7e72-4d6b-91ca-e5c2128813a8",
   "metadata": {},
   "outputs": [],
   "source": [
    "def fill_journey(value):\n",
    "    if value == 1.0:\n",
    "        return 'Journey as part of work'\n",
    "    elif value == 2.0:\n",
    "        return 'Commuting to/from work'\n",
    "    elif value == 3.0:\n",
    "        return 'Taking pupil to/from school'\n",
    "    elif value == 4.0:\n",
    "        return 'Pupil riding to/from school'\n",
    "    elif value == 5.0:\n",
    "        return 'Others'\n",
    "    elif value == 6.0:\n",
    "        return 'Not known'\n",
    "    elif value == 15.0:\n",
    "        return 'Others'\n",
    "    else:\n",
    "        return np.nan"
   ]
  },
  {
   "cell_type": "code",
   "execution_count": 41,
   "id": "830ee137-2a58-4e6a-9b57-ae5e42673a3e",
   "metadata": {},
   "outputs": [],
   "source": [
    "combined_data_copy['journey_purpose_of_driver'] = combined_data_copy['journey_purpose_of_driver'].apply(fill_journey)"
   ]
  },
  {
   "cell_type": "markdown",
   "id": "eb5f16b1",
   "metadata": {},
   "source": [
    "##### Assessing the Values of Features"
   ]
  },
  {
   "cell_type": "code",
   "execution_count": 42,
   "id": "69af65d4-e9b2-453b-8317-43d90fa7e33f",
   "metadata": {},
   "outputs": [
    {
     "data": {
      "text/plain": [
       "Single carriageway    269158\n",
       "Dual carriageway       62044\n",
       "Roundabout             22961\n",
       "Unknown                 9394\n",
       "One way street          8033\n",
       "Slip road               7119\n",
       "Name: road_type, dtype: int64"
      ]
     },
     "execution_count": 42,
     "metadata": {},
     "output_type": "execute_result"
    }
   ],
   "source": [
    "combined_data_copy['road_type'].value_counts()"
   ]
  },
  {
   "cell_type": "code",
   "execution_count": 43,
   "id": "6c115faa-a040-4b93-b98a-5eab636d2062",
   "metadata": {},
   "outputs": [
    {
     "data": {
      "text/plain": [
       "Daylight                       277208\n",
       "Darkness - lights lit           75676\n",
       "Darkness - no lighting          16713\n",
       "Darkness - lighting unknown      6471\n",
       "Darkness - lights unlit          2617\n",
       "Name: light_conditions, dtype: int64"
      ]
     },
     "execution_count": 43,
     "metadata": {},
     "output_type": "execute_result"
    }
   ],
   "source": [
    "combined_data_copy['light_conditions'].value_counts()"
   ]
  },
  {
   "cell_type": "code",
   "execution_count": 44,
   "id": "5a8897fe-4d9a-4803-83e2-be9b47e2af10",
   "metadata": {},
   "outputs": [
    {
     "data": {
      "text/plain": [
       "Not known                      218723\n",
       "Others                          62478\n",
       "Journey as part of work         52293\n",
       "Commuting to/from work          39461\n",
       "Taking pupil to/from school      4315\n",
       "Pupil riding to/from school      1437\n",
       "Name: journey_purpose_of_driver, dtype: int64"
      ]
     },
     "execution_count": 44,
     "metadata": {},
     "output_type": "execute_result"
    }
   ],
   "source": [
    "combined_data_copy['journey_purpose_of_driver'].value_counts()"
   ]
  },
  {
   "cell_type": "code",
   "execution_count": 45,
   "id": "9130af95-feda-4499-93ac-64c0ef7e45d5",
   "metadata": {},
   "outputs": [],
   "source": [
    "lst = [20,30,40,50,60,70]\n",
    "def speed(value):\n",
    "    if value in lst:\n",
    "        return value\n",
    "    else:\n",
    "        return np.nan"
   ]
  },
  {
   "cell_type": "code",
   "execution_count": 46,
   "id": "b795a920-a304-4b8e-a250-196b37eaa88a",
   "metadata": {},
   "outputs": [],
   "source": [
    "combined_data_copy['speed_limit'] = combined_data_copy['speed_limit'].apply(speed)"
   ]
  },
  {
   "cell_type": "code",
   "execution_count": 47,
   "id": "e06c1deb-f69b-4a52-be4e-2b0e9a37978d",
   "metadata": {},
   "outputs": [
    {
     "data": {
      "text/plain": [
       "Slight     295719\n",
       "Serious     77537\n",
       "Fatal        5453\n",
       "Name: accident_severity, dtype: int64"
      ]
     },
     "execution_count": 47,
     "metadata": {},
     "output_type": "execute_result"
    }
   ],
   "source": [
    "combined_data_copy['accident_severity'].value_counts()"
   ]
  },
  {
   "cell_type": "code",
   "execution_count": 48,
   "id": "1ce236a4-f3ef-49b7-90f2-b84108d54757",
   "metadata": {},
   "outputs": [
    {
     "data": {
      "text/plain": [
       "Male       235717\n",
       "Female      96472\n",
       "Unknown     46518\n",
       "Name: sex_of_driver, dtype: int64"
      ]
     },
     "execution_count": 48,
     "metadata": {},
     "output_type": "execute_result"
    }
   ],
   "source": [
    "combined_data_copy['sex_of_driver'].value_counts()"
   ]
  },
  {
   "cell_type": "code",
   "execution_count": 49,
   "id": "9a9bb948-b860-40ee-acdf-b3cf9b64d54c",
   "metadata": {},
   "outputs": [
    {
     "data": {
      "text/html": [
       "<div>\n",
       "<style scoped>\n",
       "    .dataframe tbody tr th:only-of-type {\n",
       "        vertical-align: middle;\n",
       "    }\n",
       "\n",
       "    .dataframe tbody tr th {\n",
       "        vertical-align: top;\n",
       "    }\n",
       "\n",
       "    .dataframe thead th {\n",
       "        text-align: right;\n",
       "    }\n",
       "</style>\n",
       "<table border=\"1\" class=\"dataframe\">\n",
       "  <thead>\n",
       "    <tr style=\"text-align: right;\">\n",
       "      <th></th>\n",
       "      <th>accident_index</th>\n",
       "      <th>police_force</th>\n",
       "      <th>accident_severity</th>\n",
       "      <th>number_of_vehicles</th>\n",
       "      <th>number_of_casualties</th>\n",
       "      <th>date</th>\n",
       "      <th>day_of_week</th>\n",
       "      <th>time</th>\n",
       "      <th>local_authority_district</th>\n",
       "      <th>road_type</th>\n",
       "      <th>...</th>\n",
       "      <th>weather_conditions</th>\n",
       "      <th>road_surface_conditions</th>\n",
       "      <th>carriageway_hazards</th>\n",
       "      <th>urban_or_rural_area</th>\n",
       "      <th>did_police_officer_attend_scene_of_accident</th>\n",
       "      <th>sex_of_driver</th>\n",
       "      <th>age_band_of_driver</th>\n",
       "      <th>vehicle_type</th>\n",
       "      <th>age_of_vehicle</th>\n",
       "      <th>journey_purpose_of_driver</th>\n",
       "    </tr>\n",
       "  </thead>\n",
       "  <tbody>\n",
       "    <tr>\n",
       "      <th>0</th>\n",
       "      <td>2021010287148</td>\n",
       "      <td>1</td>\n",
       "      <td>Slight</td>\n",
       "      <td>3</td>\n",
       "      <td>1</td>\n",
       "      <td>01/01/2021</td>\n",
       "      <td>6</td>\n",
       "      <td>02:05</td>\n",
       "      <td>NaN</td>\n",
       "      <td>Single carriageway</td>\n",
       "      <td>...</td>\n",
       "      <td>Fog or mist</td>\n",
       "      <td>NaN</td>\n",
       "      <td>Dog on road</td>\n",
       "      <td>Urban area</td>\n",
       "      <td>1</td>\n",
       "      <td>Male</td>\n",
       "      <td>16-20</td>\n",
       "      <td>9.0</td>\n",
       "      <td>3.0</td>\n",
       "      <td>Not known</td>\n",
       "    </tr>\n",
       "    <tr>\n",
       "      <th>1</th>\n",
       "      <td>2021010287148</td>\n",
       "      <td>1</td>\n",
       "      <td>Slight</td>\n",
       "      <td>3</td>\n",
       "      <td>1</td>\n",
       "      <td>01/01/2021</td>\n",
       "      <td>6</td>\n",
       "      <td>02:05</td>\n",
       "      <td>NaN</td>\n",
       "      <td>Single carriageway</td>\n",
       "      <td>...</td>\n",
       "      <td>Fog or mist</td>\n",
       "      <td>NaN</td>\n",
       "      <td>Dog on road</td>\n",
       "      <td>Urban area</td>\n",
       "      <td>1</td>\n",
       "      <td>Unknown</td>\n",
       "      <td>NaN</td>\n",
       "      <td>9.0</td>\n",
       "      <td>2.0</td>\n",
       "      <td>Not known</td>\n",
       "    </tr>\n",
       "    <tr>\n",
       "      <th>2</th>\n",
       "      <td>2021010287148</td>\n",
       "      <td>1</td>\n",
       "      <td>Slight</td>\n",
       "      <td>3</td>\n",
       "      <td>1</td>\n",
       "      <td>01/01/2021</td>\n",
       "      <td>6</td>\n",
       "      <td>02:05</td>\n",
       "      <td>NaN</td>\n",
       "      <td>Single carriageway</td>\n",
       "      <td>...</td>\n",
       "      <td>Fog or mist</td>\n",
       "      <td>NaN</td>\n",
       "      <td>Dog on road</td>\n",
       "      <td>Urban area</td>\n",
       "      <td>1</td>\n",
       "      <td>Unknown</td>\n",
       "      <td>NaN</td>\n",
       "      <td>9.0</td>\n",
       "      <td>1.0</td>\n",
       "      <td>Not known</td>\n",
       "    </tr>\n",
       "    <tr>\n",
       "      <th>3</th>\n",
       "      <td>2021010287149</td>\n",
       "      <td>1</td>\n",
       "      <td>Serious</td>\n",
       "      <td>2</td>\n",
       "      <td>3</td>\n",
       "      <td>01/01/2021</td>\n",
       "      <td>6</td>\n",
       "      <td>03:30</td>\n",
       "      <td>NaN</td>\n",
       "      <td>Dual carriageway</td>\n",
       "      <td>...</td>\n",
       "      <td>Fine no high winds</td>\n",
       "      <td>NaN</td>\n",
       "      <td>Vehicle load on road</td>\n",
       "      <td>Urban area</td>\n",
       "      <td>1</td>\n",
       "      <td>Male</td>\n",
       "      <td>26-35</td>\n",
       "      <td>9.0</td>\n",
       "      <td>11.0</td>\n",
       "      <td>Not known</td>\n",
       "    </tr>\n",
       "    <tr>\n",
       "      <th>4</th>\n",
       "      <td>2021010287149</td>\n",
       "      <td>1</td>\n",
       "      <td>Serious</td>\n",
       "      <td>2</td>\n",
       "      <td>3</td>\n",
       "      <td>01/01/2021</td>\n",
       "      <td>6</td>\n",
       "      <td>03:30</td>\n",
       "      <td>NaN</td>\n",
       "      <td>Dual carriageway</td>\n",
       "      <td>...</td>\n",
       "      <td>Fine no high winds</td>\n",
       "      <td>NaN</td>\n",
       "      <td>Vehicle load on road</td>\n",
       "      <td>Urban area</td>\n",
       "      <td>1</td>\n",
       "      <td>Male</td>\n",
       "      <td>21-25</td>\n",
       "      <td>9.0</td>\n",
       "      <td>11.0</td>\n",
       "      <td>Not known</td>\n",
       "    </tr>\n",
       "  </tbody>\n",
       "</table>\n",
       "<p>5 rows × 22 columns</p>\n",
       "</div>"
      ],
      "text/plain": [
       "  accident_index  police_force accident_severity number_of_vehicles  \\\n",
       "0  2021010287148             1            Slight                  3   \n",
       "1  2021010287148             1            Slight                  3   \n",
       "2  2021010287148             1            Slight                  3   \n",
       "3  2021010287149             1           Serious                  2   \n",
       "4  2021010287149             1           Serious                  2   \n",
       "\n",
       "  number_of_casualties        date  day_of_week   time  \\\n",
       "0                    1  01/01/2021            6  02:05   \n",
       "1                    1  01/01/2021            6  02:05   \n",
       "2                    1  01/01/2021            6  02:05   \n",
       "3                    3  01/01/2021            6  03:30   \n",
       "4                    3  01/01/2021            6  03:30   \n",
       "\n",
       "   local_authority_district           road_type  ...  weather_conditions  \\\n",
       "0                       NaN  Single carriageway  ...         Fog or mist   \n",
       "1                       NaN  Single carriageway  ...         Fog or mist   \n",
       "2                       NaN  Single carriageway  ...         Fog or mist   \n",
       "3                       NaN    Dual carriageway  ...  Fine no high winds   \n",
       "4                       NaN    Dual carriageway  ...  Fine no high winds   \n",
       "\n",
       "  road_surface_conditions   carriageway_hazards urban_or_rural_area  \\\n",
       "0                     NaN           Dog on road          Urban area   \n",
       "1                     NaN           Dog on road          Urban area   \n",
       "2                     NaN           Dog on road          Urban area   \n",
       "3                     NaN  Vehicle load on road          Urban area   \n",
       "4                     NaN  Vehicle load on road          Urban area   \n",
       "\n",
       "  did_police_officer_attend_scene_of_accident sex_of_driver  \\\n",
       "0                                           1          Male   \n",
       "1                                           1       Unknown   \n",
       "2                                           1       Unknown   \n",
       "3                                           1          Male   \n",
       "4                                           1          Male   \n",
       "\n",
       "   age_band_of_driver vehicle_type age_of_vehicle  journey_purpose_of_driver  \n",
       "0               16-20          9.0            3.0                  Not known  \n",
       "1                 NaN          9.0            2.0                  Not known  \n",
       "2                 NaN          9.0            1.0                  Not known  \n",
       "3               26-35          9.0           11.0                  Not known  \n",
       "4               21-25          9.0           11.0                  Not known  \n",
       "\n",
       "[5 rows x 22 columns]"
      ]
     },
     "execution_count": 49,
     "metadata": {},
     "output_type": "execute_result"
    }
   ],
   "source": [
    "combined_data_copy.head()"
   ]
  },
  {
   "cell_type": "markdown",
   "id": "824a770d-3fa7-45d9-8fc9-7e606ae49119",
   "metadata": {},
   "source": [
    "### Extracting Date"
   ]
  },
  {
   "cell_type": "code",
   "execution_count": 50,
   "id": "e3bf7374-a50a-4796-9a62-38ab829e53ee",
   "metadata": {},
   "outputs": [],
   "source": [
    "df_date = combined_data_copy[['date','accident_severity','time','day_of_week', 'weather_conditions','light_conditions','speed_limit']]\n",
    "df_date.dropna(inplace = True)"
   ]
  },
  {
   "cell_type": "code",
   "execution_count": 51,
   "id": "4447d982-3946-469d-8f42-e21602909503",
   "metadata": {},
   "outputs": [],
   "source": [
    "df_date[\"day\"] = df_date.date.apply(lambda x: str(x).split(\"/\")[0]).values.astype(\"int64\")\n",
    "df_date[\"Month\"] = df_date.date.apply(lambda x: str(x).split(\"/\")[1]).values.astype(\"int64\")\n",
    "df_date.drop({\"date\"}, axis=1, inplace=True)"
   ]
  },
  {
   "cell_type": "code",
   "execution_count": 52,
   "id": "bb0946de-0424-43ea-b88b-82fe222f12d5",
   "metadata": {},
   "outputs": [
    {
     "data": {
      "text/plain": [
       "array([6, 7, 1, 2, 3, 4, 5], dtype=int64)"
      ]
     },
     "execution_count": 52,
     "metadata": {},
     "output_type": "execute_result"
    }
   ],
   "source": [
    "df_date['day_of_week'].unique()"
   ]
  },
  {
   "cell_type": "code",
   "execution_count": 53,
   "id": "32aa4cad-e7d0-42fc-852c-f5ad73cfae18",
   "metadata": {},
   "outputs": [
    {
     "data": {
      "text/plain": [
       "0    Friday\n",
       "1    Friday\n",
       "2    Friday\n",
       "3    Friday\n",
       "4    Friday\n",
       "Name: day_of_week, dtype: object"
      ]
     },
     "execution_count": 53,
     "metadata": {},
     "output_type": "execute_result"
    }
   ],
   "source": [
    "days = {2:\"Monday\", 3:\"Tuesday\", 4:\"Wednesday\", 5:\"Thursday\", 6:\"Friday\", \n",
    "       7:\"Saturday\", 1:\"Sunday\"}\n",
    "\n",
    "df_date.day_of_week = df_date.day_of_week.apply(lambda x: days[x])\n",
    "df_date.day_of_week.head()"
   ]
  },
  {
   "cell_type": "code",
   "execution_count": 54,
   "id": "5bece797-bd46-439e-9af4-9b1ecc215199",
   "metadata": {},
   "outputs": [],
   "source": [
    "##time\n",
    "df_date[\"Hour\"] = df_date.time.apply(lambda x: str(x).split(\":\")[0]).values.astype(\"int64\")\n",
    "df_date.drop({\"time\"}, axis=1, inplace=True)"
   ]
  },
  {
   "cell_type": "code",
   "execution_count": 55,
   "id": "ff5dc24e-576e-4035-b720-766c61897863",
   "metadata": {},
   "outputs": [
    {
     "data": {
      "text/html": [
       "<div>\n",
       "<style scoped>\n",
       "    .dataframe tbody tr th:only-of-type {\n",
       "        vertical-align: middle;\n",
       "    }\n",
       "\n",
       "    .dataframe tbody tr th {\n",
       "        vertical-align: top;\n",
       "    }\n",
       "\n",
       "    .dataframe thead th {\n",
       "        text-align: right;\n",
       "    }\n",
       "</style>\n",
       "<table border=\"1\" class=\"dataframe\">\n",
       "  <thead>\n",
       "    <tr style=\"text-align: right;\">\n",
       "      <th></th>\n",
       "      <th>accident_severity</th>\n",
       "      <th>day_of_week</th>\n",
       "      <th>weather_conditions</th>\n",
       "      <th>light_conditions</th>\n",
       "      <th>speed_limit</th>\n",
       "      <th>day</th>\n",
       "      <th>Month</th>\n",
       "      <th>Hour</th>\n",
       "    </tr>\n",
       "  </thead>\n",
       "  <tbody>\n",
       "    <tr>\n",
       "      <th>0</th>\n",
       "      <td>Slight</td>\n",
       "      <td>Friday</td>\n",
       "      <td>Fog or mist</td>\n",
       "      <td>Darkness - lights lit</td>\n",
       "      <td>30</td>\n",
       "      <td>1</td>\n",
       "      <td>1</td>\n",
       "      <td>2</td>\n",
       "    </tr>\n",
       "    <tr>\n",
       "      <th>1</th>\n",
       "      <td>Slight</td>\n",
       "      <td>Friday</td>\n",
       "      <td>Fog or mist</td>\n",
       "      <td>Darkness - lights lit</td>\n",
       "      <td>30</td>\n",
       "      <td>1</td>\n",
       "      <td>1</td>\n",
       "      <td>2</td>\n",
       "    </tr>\n",
       "    <tr>\n",
       "      <th>2</th>\n",
       "      <td>Slight</td>\n",
       "      <td>Friday</td>\n",
       "      <td>Fog or mist</td>\n",
       "      <td>Darkness - lights lit</td>\n",
       "      <td>30</td>\n",
       "      <td>1</td>\n",
       "      <td>1</td>\n",
       "      <td>2</td>\n",
       "    </tr>\n",
       "    <tr>\n",
       "      <th>3</th>\n",
       "      <td>Serious</td>\n",
       "      <td>Friday</td>\n",
       "      <td>Fine no high winds</td>\n",
       "      <td>Darkness - lights lit</td>\n",
       "      <td>30</td>\n",
       "      <td>1</td>\n",
       "      <td>1</td>\n",
       "      <td>3</td>\n",
       "    </tr>\n",
       "    <tr>\n",
       "      <th>4</th>\n",
       "      <td>Serious</td>\n",
       "      <td>Friday</td>\n",
       "      <td>Fine no high winds</td>\n",
       "      <td>Darkness - lights lit</td>\n",
       "      <td>30</td>\n",
       "      <td>1</td>\n",
       "      <td>1</td>\n",
       "      <td>3</td>\n",
       "    </tr>\n",
       "  </tbody>\n",
       "</table>\n",
       "</div>"
      ],
      "text/plain": [
       "  accident_severity day_of_week  weather_conditions       light_conditions  \\\n",
       "0            Slight      Friday         Fog or mist  Darkness - lights lit   \n",
       "1            Slight      Friday         Fog or mist  Darkness - lights lit   \n",
       "2            Slight      Friday         Fog or mist  Darkness - lights lit   \n",
       "3           Serious      Friday  Fine no high winds  Darkness - lights lit   \n",
       "4           Serious      Friday  Fine no high winds  Darkness - lights lit   \n",
       "\n",
       "   speed_limit  day  Month  Hour  \n",
       "0           30    1      1     2  \n",
       "1           30    1      1     2  \n",
       "2           30    1      1     2  \n",
       "3           30    1      1     3  \n",
       "4           30    1      1     3  "
      ]
     },
     "execution_count": 55,
     "metadata": {},
     "output_type": "execute_result"
    }
   ],
   "source": [
    "df_date.head()"
   ]
  },
  {
   "cell_type": "code",
   "execution_count": 56,
   "id": "709b588f-9048-408c-bf36-cd3bf20bc81b",
   "metadata": {},
   "outputs": [
    {
     "data": {
      "text/html": [
       "<div>\n",
       "<style scoped>\n",
       "    .dataframe tbody tr th:only-of-type {\n",
       "        vertical-align: middle;\n",
       "    }\n",
       "\n",
       "    .dataframe tbody tr th {\n",
       "        vertical-align: top;\n",
       "    }\n",
       "\n",
       "    .dataframe thead th {\n",
       "        text-align: right;\n",
       "    }\n",
       "</style>\n",
       "<table border=\"1\" class=\"dataframe\">\n",
       "  <thead>\n",
       "    <tr style=\"text-align: right;\">\n",
       "      <th></th>\n",
       "      <th>accident_severity</th>\n",
       "      <th>day_of_week</th>\n",
       "      <th>weather_conditions</th>\n",
       "      <th>light_conditions</th>\n",
       "      <th>speed_limit</th>\n",
       "      <th>day</th>\n",
       "      <th>Month</th>\n",
       "      <th>Hour</th>\n",
       "      <th>day_of_week_num</th>\n",
       "    </tr>\n",
       "  </thead>\n",
       "  <tbody>\n",
       "    <tr>\n",
       "      <th>32254</th>\n",
       "      <td>Serious</td>\n",
       "      <td>Sunday</td>\n",
       "      <td>Fine no high winds</td>\n",
       "      <td>Daylight</td>\n",
       "      <td>30</td>\n",
       "      <td>10</td>\n",
       "      <td>10</td>\n",
       "      <td>14</td>\n",
       "      <td>1</td>\n",
       "    </tr>\n",
       "    <tr>\n",
       "      <th>353569</th>\n",
       "      <td>Slight</td>\n",
       "      <td>Sunday</td>\n",
       "      <td>Fine no high winds</td>\n",
       "      <td>Darkness - no lighting</td>\n",
       "      <td>60</td>\n",
       "      <td>21</td>\n",
       "      <td>8</td>\n",
       "      <td>5</td>\n",
       "      <td>1</td>\n",
       "    </tr>\n",
       "    <tr>\n",
       "      <th>353560</th>\n",
       "      <td>Slight</td>\n",
       "      <td>Sunday</td>\n",
       "      <td>Raining no high winds</td>\n",
       "      <td>Darkness - lights lit</td>\n",
       "      <td>60</td>\n",
       "      <td>21</td>\n",
       "      <td>8</td>\n",
       "      <td>22</td>\n",
       "      <td>1</td>\n",
       "    </tr>\n",
       "    <tr>\n",
       "      <th>353559</th>\n",
       "      <td>Slight</td>\n",
       "      <td>Sunday</td>\n",
       "      <td>Raining no high winds</td>\n",
       "      <td>Darkness - lights lit</td>\n",
       "      <td>60</td>\n",
       "      <td>21</td>\n",
       "      <td>8</td>\n",
       "      <td>22</td>\n",
       "      <td>1</td>\n",
       "    </tr>\n",
       "    <tr>\n",
       "      <th>296859</th>\n",
       "      <td>Serious</td>\n",
       "      <td>Sunday</td>\n",
       "      <td>Fine no high winds</td>\n",
       "      <td>Daylight</td>\n",
       "      <td>30</td>\n",
       "      <td>6</td>\n",
       "      <td>11</td>\n",
       "      <td>13</td>\n",
       "      <td>1</td>\n",
       "    </tr>\n",
       "  </tbody>\n",
       "</table>\n",
       "</div>"
      ],
      "text/plain": [
       "       accident_severity day_of_week     weather_conditions  \\\n",
       "32254            Serious      Sunday     Fine no high winds   \n",
       "353569            Slight      Sunday     Fine no high winds   \n",
       "353560            Slight      Sunday  Raining no high winds   \n",
       "353559            Slight      Sunday  Raining no high winds   \n",
       "296859           Serious      Sunday     Fine no high winds   \n",
       "\n",
       "              light_conditions  speed_limit  day  Month  Hour  day_of_week_num  \n",
       "32254                 Daylight           30   10     10    14                1  \n",
       "353569  Darkness - no lighting           60   21      8     5                1  \n",
       "353560   Darkness - lights lit           60   21      8    22                1  \n",
       "353559   Darkness - lights lit           60   21      8    22                1  \n",
       "296859                Daylight           30    6     11    13                1  "
      ]
     },
     "execution_count": 56,
     "metadata": {},
     "output_type": "execute_result"
    }
   ],
   "source": [
    "days = {\"Monday\":2, \"Tuesday\":3, \"Wednesday\":4, \"Thursday\":5, \"Friday\":6, \n",
    "       \"Saturday\":7, \"Sunday\":1}\n",
    "\n",
    "df_date['day_of_week_num'] = df_date.day_of_week.apply(lambda x: days[x])\n",
    "df_date.sort_values(by  = ['day_of_week_num'], inplace = True)\n",
    "df_date.head()"
   ]
  },
  {
   "cell_type": "markdown",
   "id": "336c5dfd-e4db-4c83-83c4-144e5222434f",
   "metadata": {},
   "source": [
    "### Data Exploration"
   ]
  },
  {
   "cell_type": "code",
   "execution_count": 57,
   "id": "795f1128-7f19-4354-b86c-82cd7760f58c",
   "metadata": {},
   "outputs": [
    {
     "data": {
      "image/png": "[encoded data removed]",
      "text/plain": [
       "<Figure size 1008x360 with 1 Axes>"
      ]
     },
     "metadata": {
      "needs_background": "light"
     },
     "output_type": "display_data"
    },
    {
     "data": {
      "image/png": "[encoded data removed]",
      "text/plain": [
       "<Figure size 1008x360 with 1 Axes>"
      ]
     },
     "metadata": {
      "needs_background": "light"
     },
     "output_type": "display_data"
    }
   ],
   "source": [
    "for column in [\"number_of_vehicles\", \"number_of_casualties\"]:\n",
    "    var_value = combined_data_copy[column].value_counts()\n",
    "    \n",
    "    plt.figure(figsize=(14,5))\n",
    "    \n",
    "    plt.grid(False)\n",
    "    sns.barplot(x=var_value.index, y=var_value, order=var_value.index, \n",
    "                palette = sns.color_palette(\"rocket\"))    \n",
    "    \n",
    "    plt.title(\" \".join(column.split(\"_\")), weight=\"bold\")\n",
    "    plt.ylabel(\"Freqeuncy\")\n",
    "    plt.ticklabel_format(style='plain', axis='y')"
   ]
  },
  {
   "cell_type": "code",
   "execution_count": 58,
   "id": "d9d1b079-b71a-4027-b9ae-bf31ab21d2d9",
   "metadata": {},
   "outputs": [],
   "source": [
    "data_plot1 = combined_data_copy[['accident_severity','urban_or_rural_area']]"
   ]
  },
  {
   "cell_type": "code",
   "execution_count": 59,
   "id": "03f01d40-03b3-40a8-a8d7-ba447c904c4f",
   "metadata": {},
   "outputs": [
    {
     "data": {
      "image/png": "[encoded data removed]",
      "text/plain": [
       "<Figure size 432x288 with 1 Axes>"
      ]
     },
     "metadata": {
      "needs_background": "light"
     },
     "output_type": "display_data"
    },
    {
     "data": {
      "image/png": "[encoded data removed]",
      "text/plain": [
       "<Figure size 432x288 with 1 Axes>"
      ]
     },
     "metadata": {
      "needs_background": "light"
     },
     "output_type": "display_data"
    }
   ],
   "source": [
    "###ploting the categoricals\n",
    "def plot_features(df):\n",
    "    for feature in df.columns:\n",
    "        var_value = df[feature].value_counts()\n",
    "        #plt.figure(figsize=(8,6))\n",
    "        plt.grid(False)\n",
    "        sns.barplot(x=var_value.index, y=var_value, order=var_value.index, \n",
    "                    palette = sns.color_palette(\"rocket\"))\n",
    "        plt.title(\" \".join(feature.split(\"_\")), weight=\"bold\")\n",
    "        plt.ylabel(\"Freqeuncy\")\n",
    "        plt.xticks(rotation=60)\n",
    "        plt.ticklabel_format(style='plain', axis='y')\n",
    "        plt.show()\n",
    "    \n",
    "plot_features(data_plot1)"
   ]
  },
  {
   "cell_type": "code",
   "execution_count": 60,
   "id": "1fc1196b-6082-4c1d-a36f-8bc9a8f49b7e",
   "metadata": {},
   "outputs": [],
   "source": [
    "data_plot2 = combined_data_copy[['weather_conditions']]"
   ]
  },
  {
   "cell_type": "code",
   "execution_count": 61,
   "id": "53ceedd1-b5d2-43ba-ad28-f8fef432a410",
   "metadata": {},
   "outputs": [
    {
     "data": {
      "image/png": "[encoded data removed]",
      "text/plain": [
       "<Figure size 1440x720 with 1 Axes>"
      ]
     },
     "metadata": {
      "needs_background": "light"
     },
     "output_type": "display_data"
    }
   ],
   "source": [
    "def plot_features(df):\n",
    "    for feature in df.columns:\n",
    "        var_value = df[feature].value_counts(ascending =False)\n",
    "        plt.figure(figsize=(20,10))\n",
    "        plt.grid(False)\n",
    "        # sns.barplot(x=var_value.index, y=var_value, order=var_value.index, \n",
    "        #             palette = sns.color_palette(\"rocket\"))\n",
    "        plt.bar(var_value.index,var_value.values,\n",
    "         color = sns.color_palette(\"rocket\"))\n",
    "        plt.title(\" \".join(feature.split(\"_\")), weight=\"bold\")\n",
    "        plt.ylabel(\"Freqeuncy\")\n",
    "        #plt.xticks(rotation=60)\n",
    "        #plt.ticklabel_format(style='plain', axis='y')\n",
    "        plt.show()\n",
    "    \n",
    "plot_features(data_plot2)"
   ]
  },
  {
   "cell_type": "code",
   "execution_count": 62,
   "id": "3b602d4e-127b-45e5-8036-b4691fecf777",
   "metadata": {},
   "outputs": [],
   "source": [
    "data_plot3 = combined_data_copy[['road_surface_conditions']]"
   ]
  },
  {
   "cell_type": "code",
   "execution_count": 63,
   "id": "25d24d26-7fb3-4a71-a484-a8f437b94089",
   "metadata": {},
   "outputs": [
    {
     "data": {
      "image/png": "[encoded data removed]",
      "text/plain": [
       "<Figure size 1440x720 with 1 Axes>"
      ]
     },
     "metadata": {
      "needs_background": "light"
     },
     "output_type": "display_data"
    }
   ],
   "source": [
    "def plot_features(df):\n",
    "    for feature in df.columns:\n",
    "        var_value = df[feature].value_counts(ascending =False)\n",
    "        plt.figure(figsize=(20,10))\n",
    "        plt.grid(False)\n",
    "        # sns.barplot(x=var_value.index, y=var_value, order=var_value.index, \n",
    "        #             palette = sns.color_palette(\"rocket\"))\n",
    "        plt.bar(var_value.index,var_value.values,\n",
    "         color = sns.color_palette(\"rocket\"))\n",
    "        plt.title(\" \".join(feature.split(\"_\")), weight=\"bold\")\n",
    "        plt.ylabel(\"Freqeuncy\")\n",
    "        #plt.xticks(rotation=60)\n",
    "        #plt.ticklabel_format(style='plain', axis='y')\n",
    "        plt.show()\n",
    "    \n",
    "plot_features(data_plot3)"
   ]
  },
  {
   "cell_type": "code",
   "execution_count": 64,
   "id": "af27808c-3a1e-42bd-9c24-2161a1eb3e8f",
   "metadata": {},
   "outputs": [],
   "source": [
    "data_plot4 = combined_data_copy[['road_type','light_conditions']]"
   ]
  },
  {
   "cell_type": "code",
   "execution_count": 65,
   "id": "7dd82829-c16a-411b-af35-2ee3bb0f0281",
   "metadata": {},
   "outputs": [
    {
     "data": {
      "image/png": "[encoded data removed]",
      "text/plain": [
       "<Figure size 576x432 with 1 Axes>"
      ]
     },
     "metadata": {
      "needs_background": "light"
     },
     "output_type": "display_data"
    },
    {
     "data": {
      "image/png": "[encoded data removed]",
      "text/plain": [
       "<Figure size 576x432 with 1 Axes>"
      ]
     },
     "metadata": {
      "needs_background": "light"
     },
     "output_type": "display_data"
    }
   ],
   "source": [
    "def plot_features(df):\n",
    "    for feature in df.columns:\n",
    "        var_value = df[feature].value_counts(ascending =True)\n",
    "        plt.figure(figsize=(8,6))\n",
    "        plt.grid(False)\n",
    "        # sns.barplot(x=var_value.index, y=var_value, order=var_value.index, \n",
    "        #             palette = sns.color_palette(\"rocket\"))\n",
    "        plt.barh(var_value.index,var_value.values,\n",
    "         color = sns.color_palette(\"rocket\"))\n",
    "        plt.title(\" \".join(feature.split(\"_\")), weight=\"bold\")\n",
    "        plt.ylabel(\"Freqeuncy\")\n",
    "        #plt.xticks(rotation=60)\n",
    "        #plt.ticklabel_format(style='plain', axis='y')\n",
    "        plt.show()\n",
    "    \n",
    "plot_features(data_plot4)"
   ]
  },
  {
   "cell_type": "code",
   "execution_count": 66,
   "id": "92d933f1-fc90-43a9-8f05-6ce08da8932c",
   "metadata": {},
   "outputs": [
    {
     "data": {
      "image/png": "[encoded data removed]",
      "text/plain": [
       "<Figure size 1440x720 with 1 Axes>"
      ]
     },
     "metadata": {
      "needs_background": "light"
     },
     "output_type": "display_data"
    }
   ],
   "source": [
    "plt.figure(figsize=(20, 10))\n",
    "sns.countplot(x='weather_conditions', hue='accident_severity', data=df_date, palette=sns.color_palette(\"rocket\"))\n",
    "plt.title('Accident Severity by Weather Condition')\n",
    "plt.legend(title='Accident Severity', loc='upper right')\n",
    "plt.xlabel('Weather Conditions')\n",
    "plt.ylabel('Count')\n",
    "plt.show()\n",
    "\n",
    "\n",
    "import seaborn as sns\n",
    "import matplotlib.pyplot as plt\n",
    "\n"
   ]
  },
  {
   "cell_type": "code",
   "execution_count": 67,
   "id": "d2c4abdb-813c-4836-99a2-0c5de27709b6",
   "metadata": {},
   "outputs": [
    {
     "data": {
      "image/png": "[encoded data removed]",
      "text/plain": [
       "<Figure size 1440x648 with 1 Axes>"
      ]
     },
     "metadata": {
      "needs_background": "light"
     },
     "output_type": "display_data"
    }
   ],
   "source": [
    "plt.figure(figsize=(20, 9))\n",
    "sns.countplot(x='light_conditions', hue=\"accident_severity\",data=df_date,palette = sns.color_palette(\"rocket\"))\n",
    "\n",
    "plt.title('Accident severity by Light Conditions')\n",
    "plt.legend(title='Accident Severity', loc='upper right')\n",
    "plt.xlabel('light_conditions')\n",
    "plt.ylabel('Count')\n",
    "plt.show()"
   ]
  },
  {
   "cell_type": "code",
   "execution_count": 68,
   "id": "69b11555-4d09-4db2-be1e-09542e0c7720",
   "metadata": {},
   "outputs": [
    {
     "data": {
      "image/png": "[encoded data removed]",
      "text/plain": [
       "<Figure size 1440x648 with 1 Axes>"
      ]
     },
     "metadata": {
      "needs_background": "light"
     },
     "output_type": "display_data"
    }
   ],
   "source": [
    "\n",
    "plt.figure(figsize=(20, 9))\n",
    "sns.countplot(x='speed_limit', hue=\"accident_severity\",data=df_date,palette = sns.color_palette(\"rocket\"))\n",
    "plt.title('Accident severity by Speed Limit')\n",
    "plt.legend(title='Accident Severity', loc='upper right')\n",
    "plt.xlabel('Speed Limit')\n",
    "plt.ylabel('Count')\n",
    "plt.show()\n"
   ]
  },
  {
   "cell_type": "code",
   "execution_count": 69,
   "id": "a7fa0261-9501-4468-93dd-a39a6ff76f62",
   "metadata": {},
   "outputs": [
    {
     "data": {
      "image/png": "[encoded data removed]",
      "text/plain": [
       "<Figure size 1440x648 with 1 Axes>"
      ]
     },
     "metadata": {
      "needs_background": "light"
     },
     "output_type": "display_data"
    }
   ],
   "source": [
    "plt.figure(figsize=(20, 9))\n",
    "sns.countplot(x='Hour', hue=\"accident_severity\",data=df_date,palette = sns.color_palette(\"rocket\"))\n",
    "plt.title('Accident severity by Hour')\n",
    "plt.legend(title='Accident Severity', loc='upper right')\n",
    "plt.xlabel('Hour')\n",
    "plt.ylabel('Count')\n",
    "plt.show()\n"
   ]
  },
  {
   "cell_type": "code",
   "execution_count": 70,
   "id": "ef3449aa-ecf9-4940-a9a1-a8bcd687e87a",
   "metadata": {},
   "outputs": [
    {
     "data": {
      "image/png": "[encoded data removed]",
      "text/plain": [
       "<Figure size 1440x648 with 1 Axes>"
      ]
     },
     "metadata": {
      "needs_background": "light"
     },
     "output_type": "display_data"
    }
   ],
   "source": [
    "plt.figure(figsize=(20, 9))\n",
    "sns.countplot(x='day_of_week', hue=\"accident_severity\",data=df_date,palette = sns.color_palette(\"rocket\"))\n",
    "plt.title('Accident severity by day_of_week')\n",
    "plt.legend(title='Accident Severity', loc='upper right')\n",
    "plt.xlabel('Day of The Week')\n",
    "plt.ylabel('Count')\n",
    "plt.show()\n"
   ]
  },
  {
   "cell_type": "code",
   "execution_count": 71,
   "id": "483fd992-6641-4e39-b8a8-3db960de1028",
   "metadata": {},
   "outputs": [
    {
     "data": {
      "image/png": "[encoded data removed]",
      "text/plain": [
       "<Figure size 1440x360 with 1 Axes>"
      ]
     },
     "metadata": {},
     "output_type": "display_data"
    }
   ],
   "source": [
    "plt.figure(figsize=(20, 5))\n",
    "plt.pie(combined_data_copy['sex_of_driver'].value_counts().values,\n",
    "        labels = combined_data_copy['sex_of_driver'].value_counts().index,\n",
    "         autopct = '%.2f', colors= sns.color_palette(\"rocket_r\"))\n",
    "plt.title('Sex of driver');\n",
    "\n"
   ]
  },
  {
   "cell_type": "code",
   "execution_count": 72,
   "id": "0fcd5fcb-379d-4ff3-9089-58a31519e80b",
   "metadata": {},
   "outputs": [
    {
     "data": {
      "image/png": "[encoded data removed]",
      "text/plain": [
       "<Figure size 1440x720 with 1 Axes>"
      ]
     },
     "metadata": {
      "needs_background": "light"
     },
     "output_type": "display_data"
    }
   ],
   "source": [
    "plt.figure(figsize=(20, 10))\n",
    "plt.barh(combined_data_copy['age_band_of_driver'].value_counts().index,\n",
    "        combined_data_copy['age_band_of_driver'].value_counts().values,\n",
    "        color= sns.color_palette(\"inferno\"))\n",
    "plt.xlabel('Count')\n",
    "plt.ylabel('Age Group')\n",
    "\n",
    "plt.title('Age of driver');"
   ]
  },
  {
   "cell_type": "code",
   "execution_count": 73,
   "id": "d2f40d62-b53e-4269-a881-a14c49bf979d",
   "metadata": {},
   "outputs": [
    {
     "data": {
      "text/plain": [
       "Text(0.5, 1.0, 'Age of Vehicle')"
      ]
     },
     "execution_count": 73,
     "metadata": {},
     "output_type": "execute_result"
    },
    {
     "data": {
      "image/png": "[encoded data removed]",
      "text/plain": [
       "<Figure size 1440x720 with 1 Axes>"
      ]
     },
     "metadata": {
      "needs_background": "light"
     },
     "output_type": "display_data"
    }
   ],
   "source": [
    "plt.figure(figsize=(20, 10))\n",
    "sns.kdeplot(combined_data_copy['age_of_vehicle'])\n",
    "plt.title('Age of Vehicle')"
   ]
  },
  {
   "cell_type": "code",
   "execution_count": 74,
   "id": "e37a40e0",
   "metadata": {},
   "outputs": [
    {
     "data": {
      "text/plain": [
       "Text(0.5, 1.0, 'Age of Vehicle')"
      ]
     },
     "execution_count": 74,
     "metadata": {},
     "output_type": "execute_result"
    },
    {
     "data": {
      "image/png": "[encoded data removed]",
      "text/plain": [
       "<Figure size 1440x720 with 1 Axes>"
      ]
     },
     "metadata": {
      "needs_background": "light"
     },
     "output_type": "display_data"
    }
   ],
   "source": [
    "plt.figure(figsize=(20, 10))\n",
    "sns.kdeplot(combined_data_copy['age_of_vehicle'])\n",
    "plt.title('Age of Vehicle')"
   ]
  },
  {
   "cell_type": "code",
   "execution_count": 75,
   "id": "75a25a8e-143c-4a72-bcaf-e786996e0114",
   "metadata": {},
   "outputs": [
    {
     "data": {
      "text/plain": [
       "Slight     295719\n",
       "Serious     77537\n",
       "Fatal        5453\n",
       "Name: accident_severity, dtype: int64"
      ]
     },
     "execution_count": 75,
     "metadata": {},
     "output_type": "execute_result"
    }
   ],
   "source": [
    "combined_data_copy['accident_severity'].value_counts()"
   ]
  },
  {
   "cell_type": "markdown",
   "id": "48a2a359-21a1-4e59-a52b-43e69ee19dbb",
   "metadata": {},
   "source": [
    "### Modeling"
   ]
  },
  {
   "cell_type": "code",
   "execution_count": 76,
   "id": "3e10185d-26a1-4558-a4d1-31fa114f98e4",
   "metadata": {},
   "outputs": [
    {
     "data": {
      "text/plain": [
       "Index(['accident_index', 'police_force', 'accident_severity',\n",
       "       'number_of_vehicles', 'number_of_casualties', 'date', 'day_of_week',\n",
       "       'time', 'local_authority_district', 'road_type', 'speed_limit',\n",
       "       'light_conditions', 'weather_conditions', 'road_surface_conditions',\n",
       "       'carriageway_hazards', 'urban_or_rural_area',\n",
       "       'did_police_officer_attend_scene_of_accident', 'sex_of_driver',\n",
       "       'age_band_of_driver', 'vehicle_type', 'age_of_vehicle',\n",
       "       'journey_purpose_of_driver'],\n",
       "      dtype='object')"
      ]
     },
     "execution_count": 76,
     "metadata": {},
     "output_type": "execute_result"
    }
   ],
   "source": [
    "combined_data_clean.columns"
   ]
  },
  {
   "cell_type": "markdown",
   "id": "4bed545b-fb08-4ad6-b6d0-726366da4ea7",
   "metadata": {},
   "source": [
    "### ## checking for Percentage of Missing Values"
   ]
  },
  {
   "cell_type": "code",
   "execution_count": 77,
   "id": "19f1a5c9-0a32-4ef1-b4a8-855e269a0d48",
   "metadata": {},
   "outputs": [
    {
     "data": {
      "text/html": [
       "<div>\n",
       "<style scoped>\n",
       "    .dataframe tbody tr th:only-of-type {\n",
       "        vertical-align: middle;\n",
       "    }\n",
       "\n",
       "    .dataframe tbody tr th {\n",
       "        vertical-align: top;\n",
       "    }\n",
       "\n",
       "    .dataframe thead th {\n",
       "        text-align: right;\n",
       "    }\n",
       "</style>\n",
       "<table border=\"1\" class=\"dataframe\">\n",
       "  <thead>\n",
       "    <tr style=\"text-align: right;\">\n",
       "      <th></th>\n",
       "      <th>Percent Missing</th>\n",
       "    </tr>\n",
       "  </thead>\n",
       "  <tbody>\n",
       "    <tr>\n",
       "      <th>local_authority_district</th>\n",
       "      <td>1.000000</td>\n",
       "    </tr>\n",
       "    <tr>\n",
       "      <th>road_surface_conditions</th>\n",
       "      <td>0.965678</td>\n",
       "    </tr>\n",
       "    <tr>\n",
       "      <th>age_of_vehicle</th>\n",
       "      <td>0.258613</td>\n",
       "    </tr>\n",
       "    <tr>\n",
       "      <th>age_band_of_driver</th>\n",
       "      <td>0.144705</td>\n",
       "    </tr>\n",
       "    <tr>\n",
       "      <th>carriageway_hazards</th>\n",
       "      <td>0.005302</td>\n",
       "    </tr>\n",
       "    <tr>\n",
       "      <th>vehicle_type</th>\n",
       "      <td>0.000829</td>\n",
       "    </tr>\n",
       "    <tr>\n",
       "      <th>weather_conditions</th>\n",
       "      <td>0.000069</td>\n",
       "    </tr>\n",
       "    <tr>\n",
       "      <th>light_conditions</th>\n",
       "      <td>0.000063</td>\n",
       "    </tr>\n",
       "    <tr>\n",
       "      <th>sex_of_driver</th>\n",
       "      <td>0.000005</td>\n",
       "    </tr>\n",
       "    <tr>\n",
       "      <th>journey_purpose_of_driver</th>\n",
       "      <td>0.000005</td>\n",
       "    </tr>\n",
       "    <tr>\n",
       "      <th>speed_limit</th>\n",
       "      <td>0.000000</td>\n",
       "    </tr>\n",
       "    <tr>\n",
       "      <th>police_force</th>\n",
       "      <td>0.000000</td>\n",
       "    </tr>\n",
       "    <tr>\n",
       "      <th>road_type</th>\n",
       "      <td>0.000000</td>\n",
       "    </tr>\n",
       "    <tr>\n",
       "      <th>time</th>\n",
       "      <td>0.000000</td>\n",
       "    </tr>\n",
       "    <tr>\n",
       "      <th>day_of_week</th>\n",
       "      <td>0.000000</td>\n",
       "    </tr>\n",
       "    <tr>\n",
       "      <th>urban_or_rural_area</th>\n",
       "      <td>0.000000</td>\n",
       "    </tr>\n",
       "    <tr>\n",
       "      <th>did_police_officer_attend_scene_of_accident</th>\n",
       "      <td>0.000000</td>\n",
       "    </tr>\n",
       "    <tr>\n",
       "      <th>date</th>\n",
       "      <td>0.000000</td>\n",
       "    </tr>\n",
       "    <tr>\n",
       "      <th>number_of_casualties</th>\n",
       "      <td>0.000000</td>\n",
       "    </tr>\n",
       "    <tr>\n",
       "      <th>number_of_vehicles</th>\n",
       "      <td>0.000000</td>\n",
       "    </tr>\n",
       "    <tr>\n",
       "      <th>accident_severity</th>\n",
       "      <td>0.000000</td>\n",
       "    </tr>\n",
       "    <tr>\n",
       "      <th>accident_index</th>\n",
       "      <td>0.000000</td>\n",
       "    </tr>\n",
       "  </tbody>\n",
       "</table>\n",
       "</div>"
      ],
      "text/plain": [
       "                                             Percent Missing\n",
       "local_authority_district                            1.000000\n",
       "road_surface_conditions                             0.965678\n",
       "age_of_vehicle                                      0.258613\n",
       "age_band_of_driver                                  0.144705\n",
       "carriageway_hazards                                 0.005302\n",
       "vehicle_type                                        0.000829\n",
       "weather_conditions                                  0.000069\n",
       "light_conditions                                    0.000063\n",
       "sex_of_driver                                       0.000005\n",
       "journey_purpose_of_driver                           0.000005\n",
       "speed_limit                                         0.000000\n",
       "police_force                                        0.000000\n",
       "road_type                                           0.000000\n",
       "time                                                0.000000\n",
       "day_of_week                                         0.000000\n",
       "urban_or_rural_area                                 0.000000\n",
       "did_police_officer_attend_scene_of_accident         0.000000\n",
       "date                                                0.000000\n",
       "number_of_casualties                                0.000000\n",
       "number_of_vehicles                                  0.000000\n",
       "accident_severity                                   0.000000\n",
       "accident_index                                      0.000000"
      ]
     },
     "execution_count": 77,
     "metadata": {},
     "output_type": "execute_result"
    }
   ],
   "source": [
    "## checking for mising\n",
    "# count missing data\n",
    "person_missing_count = combined_data_clean.isnull().sum().sort_values(ascending=False)\n",
    "pd.DataFrame({'Percent Missing':person_missing_count/len(combined_data_clean)})"
   ]
  },
  {
   "cell_type": "markdown",
   "id": "97044c18-38bf-4229-be7f-448863c10a26",
   "metadata": {},
   "source": [
    "### dropping columns that have high missing values"
   ]
  },
  {
   "cell_type": "code",
   "execution_count": 78,
   "id": "e2e99c32-aff7-4ede-a236-f8e9e031dc56",
   "metadata": {},
   "outputs": [],
   "source": [
    "combined_data_model = combined_data_clean.drop(['accident_index','date', 'day_of_week','time','carriageway_hazards','journey_purpose_of_driver',\n",
    "                                               'local_authority_district','road_surface_conditions',\n",
    "                                               'road_surface_conditions','did_police_officer_attend_scene_of_accident','age_band_of_driver',\n",
    "                                               'age_of_vehicle','urban_or_rural_area'],axis =1)"
   ]
  },
  {
   "cell_type": "code",
   "execution_count": 79,
   "id": "0d03da72-2015-4d43-b9bd-595d9241d6df",
   "metadata": {},
   "outputs": [
    {
     "data": {
      "text/html": [
       "<div>\n",
       "<style scoped>\n",
       "    .dataframe tbody tr th:only-of-type {\n",
       "        vertical-align: middle;\n",
       "    }\n",
       "\n",
       "    .dataframe tbody tr th {\n",
       "        vertical-align: top;\n",
       "    }\n",
       "\n",
       "    .dataframe thead th {\n",
       "        text-align: right;\n",
       "    }\n",
       "</style>\n",
       "<table border=\"1\" class=\"dataframe\">\n",
       "  <thead>\n",
       "    <tr style=\"text-align: right;\">\n",
       "      <th></th>\n",
       "      <th>police_force</th>\n",
       "      <th>accident_severity</th>\n",
       "      <th>number_of_vehicles</th>\n",
       "      <th>number_of_casualties</th>\n",
       "      <th>road_type</th>\n",
       "      <th>speed_limit</th>\n",
       "      <th>light_conditions</th>\n",
       "      <th>weather_conditions</th>\n",
       "      <th>sex_of_driver</th>\n",
       "      <th>vehicle_type</th>\n",
       "    </tr>\n",
       "  </thead>\n",
       "  <tbody>\n",
       "    <tr>\n",
       "      <th>0</th>\n",
       "      <td>1</td>\n",
       "      <td>3</td>\n",
       "      <td>3</td>\n",
       "      <td>1</td>\n",
       "      <td>6</td>\n",
       "      <td>30</td>\n",
       "      <td>4.0</td>\n",
       "      <td>7.0</td>\n",
       "      <td>1.0</td>\n",
       "      <td>9.0</td>\n",
       "    </tr>\n",
       "    <tr>\n",
       "      <th>1</th>\n",
       "      <td>1</td>\n",
       "      <td>3</td>\n",
       "      <td>3</td>\n",
       "      <td>1</td>\n",
       "      <td>6</td>\n",
       "      <td>30</td>\n",
       "      <td>4.0</td>\n",
       "      <td>7.0</td>\n",
       "      <td>3.0</td>\n",
       "      <td>9.0</td>\n",
       "    </tr>\n",
       "    <tr>\n",
       "      <th>2</th>\n",
       "      <td>1</td>\n",
       "      <td>3</td>\n",
       "      <td>3</td>\n",
       "      <td>1</td>\n",
       "      <td>6</td>\n",
       "      <td>30</td>\n",
       "      <td>4.0</td>\n",
       "      <td>7.0</td>\n",
       "      <td>3.0</td>\n",
       "      <td>9.0</td>\n",
       "    </tr>\n",
       "    <tr>\n",
       "      <th>3</th>\n",
       "      <td>1</td>\n",
       "      <td>2</td>\n",
       "      <td>2</td>\n",
       "      <td>3</td>\n",
       "      <td>3</td>\n",
       "      <td>30</td>\n",
       "      <td>4.0</td>\n",
       "      <td>1.0</td>\n",
       "      <td>1.0</td>\n",
       "      <td>9.0</td>\n",
       "    </tr>\n",
       "    <tr>\n",
       "      <th>4</th>\n",
       "      <td>1</td>\n",
       "      <td>2</td>\n",
       "      <td>2</td>\n",
       "      <td>3</td>\n",
       "      <td>3</td>\n",
       "      <td>30</td>\n",
       "      <td>4.0</td>\n",
       "      <td>1.0</td>\n",
       "      <td>1.0</td>\n",
       "      <td>9.0</td>\n",
       "    </tr>\n",
       "  </tbody>\n",
       "</table>\n",
       "</div>"
      ],
      "text/plain": [
       "   police_force  accident_severity  number_of_vehicles  number_of_casualties  \\\n",
       "0             1                  3                   3                     1   \n",
       "1             1                  3                   3                     1   \n",
       "2             1                  3                   3                     1   \n",
       "3             1                  2                   2                     3   \n",
       "4             1                  2                   2                     3   \n",
       "\n",
       "   road_type  speed_limit  light_conditions  weather_conditions  \\\n",
       "0          6           30               4.0                 7.0   \n",
       "1          6           30               4.0                 7.0   \n",
       "2          6           30               4.0                 7.0   \n",
       "3          3           30               4.0                 1.0   \n",
       "4          3           30               4.0                 1.0   \n",
       "\n",
       "   sex_of_driver  vehicle_type  \n",
       "0            1.0           9.0  \n",
       "1            3.0           9.0  \n",
       "2            3.0           9.0  \n",
       "3            1.0           9.0  \n",
       "4            1.0           9.0  "
      ]
     },
     "execution_count": 79,
     "metadata": {},
     "output_type": "execute_result"
    }
   ],
   "source": [
    "combined_data_model.head()"
   ]
  },
  {
   "cell_type": "markdown",
   "id": "cd50aae0",
   "metadata": {},
   "source": [
    "### Removing Null Values"
   ]
  },
  {
   "cell_type": "code",
   "execution_count": 80,
   "id": "7fc43f67-b375-486b-8e42-19ff3482ff9b",
   "metadata": {},
   "outputs": [],
   "source": [
    "###removing the mising\n",
    "combined_data_model.dropna(inplace =True)"
   ]
  },
  {
   "cell_type": "code",
   "execution_count": 81,
   "id": "0dc61027-00e9-48a9-bff5-954f114c62fc",
   "metadata": {},
   "outputs": [
    {
     "data": {
      "text/plain": [
       "police_force            0\n",
       "accident_severity       0\n",
       "number_of_vehicles      0\n",
       "number_of_casualties    0\n",
       "road_type               0\n",
       "speed_limit             0\n",
       "light_conditions        0\n",
       "weather_conditions      0\n",
       "sex_of_driver           0\n",
       "vehicle_type            0\n",
       "dtype: int64"
      ]
     },
     "execution_count": 81,
     "metadata": {},
     "output_type": "execute_result"
    }
   ],
   "source": [
    "combined_data_model.isnull().sum()"
   ]
  },
  {
   "cell_type": "code",
   "execution_count": 82,
   "id": "3b8bbbd3-c959-477c-a2a0-1ed40cd3c471",
   "metadata": {},
   "outputs": [
    {
     "data": {
      "text/html": [
       "<div>\n",
       "<style scoped>\n",
       "    .dataframe tbody tr th:only-of-type {\n",
       "        vertical-align: middle;\n",
       "    }\n",
       "\n",
       "    .dataframe tbody tr th {\n",
       "        vertical-align: top;\n",
       "    }\n",
       "\n",
       "    .dataframe thead th {\n",
       "        text-align: right;\n",
       "    }\n",
       "</style>\n",
       "<table border=\"1\" class=\"dataframe\">\n",
       "  <thead>\n",
       "    <tr style=\"text-align: right;\">\n",
       "      <th></th>\n",
       "      <th>police_force</th>\n",
       "      <th>accident_severity</th>\n",
       "      <th>number_of_vehicles</th>\n",
       "      <th>number_of_casualties</th>\n",
       "      <th>road_type</th>\n",
       "      <th>speed_limit</th>\n",
       "      <th>light_conditions</th>\n",
       "      <th>weather_conditions</th>\n",
       "      <th>sex_of_driver</th>\n",
       "      <th>vehicle_type</th>\n",
       "    </tr>\n",
       "  </thead>\n",
       "  <tbody>\n",
       "    <tr>\n",
       "      <th>0</th>\n",
       "      <td>1</td>\n",
       "      <td>3</td>\n",
       "      <td>3</td>\n",
       "      <td>1</td>\n",
       "      <td>6</td>\n",
       "      <td>30</td>\n",
       "      <td>4.0</td>\n",
       "      <td>7.0</td>\n",
       "      <td>1.0</td>\n",
       "      <td>9.0</td>\n",
       "    </tr>\n",
       "    <tr>\n",
       "      <th>1</th>\n",
       "      <td>1</td>\n",
       "      <td>3</td>\n",
       "      <td>3</td>\n",
       "      <td>1</td>\n",
       "      <td>6</td>\n",
       "      <td>30</td>\n",
       "      <td>4.0</td>\n",
       "      <td>7.0</td>\n",
       "      <td>3.0</td>\n",
       "      <td>9.0</td>\n",
       "    </tr>\n",
       "    <tr>\n",
       "      <th>2</th>\n",
       "      <td>1</td>\n",
       "      <td>3</td>\n",
       "      <td>3</td>\n",
       "      <td>1</td>\n",
       "      <td>6</td>\n",
       "      <td>30</td>\n",
       "      <td>4.0</td>\n",
       "      <td>7.0</td>\n",
       "      <td>3.0</td>\n",
       "      <td>9.0</td>\n",
       "    </tr>\n",
       "    <tr>\n",
       "      <th>3</th>\n",
       "      <td>1</td>\n",
       "      <td>2</td>\n",
       "      <td>2</td>\n",
       "      <td>3</td>\n",
       "      <td>3</td>\n",
       "      <td>30</td>\n",
       "      <td>4.0</td>\n",
       "      <td>1.0</td>\n",
       "      <td>1.0</td>\n",
       "      <td>9.0</td>\n",
       "    </tr>\n",
       "    <tr>\n",
       "      <th>4</th>\n",
       "      <td>1</td>\n",
       "      <td>2</td>\n",
       "      <td>2</td>\n",
       "      <td>3</td>\n",
       "      <td>3</td>\n",
       "      <td>30</td>\n",
       "      <td>4.0</td>\n",
       "      <td>1.0</td>\n",
       "      <td>1.0</td>\n",
       "      <td>9.0</td>\n",
       "    </tr>\n",
       "  </tbody>\n",
       "</table>\n",
       "</div>"
      ],
      "text/plain": [
       "   police_force  accident_severity  number_of_vehicles  number_of_casualties  \\\n",
       "0             1                  3                   3                     1   \n",
       "1             1                  3                   3                     1   \n",
       "2             1                  3                   3                     1   \n",
       "3             1                  2                   2                     3   \n",
       "4             1                  2                   2                     3   \n",
       "\n",
       "   road_type  speed_limit  light_conditions  weather_conditions  \\\n",
       "0          6           30               4.0                 7.0   \n",
       "1          6           30               4.0                 7.0   \n",
       "2          6           30               4.0                 7.0   \n",
       "3          3           30               4.0                 1.0   \n",
       "4          3           30               4.0                 1.0   \n",
       "\n",
       "   sex_of_driver  vehicle_type  \n",
       "0            1.0           9.0  \n",
       "1            3.0           9.0  \n",
       "2            3.0           9.0  \n",
       "3            1.0           9.0  \n",
       "4            1.0           9.0  "
      ]
     },
     "execution_count": 82,
     "metadata": {},
     "output_type": "execute_result"
    }
   ],
   "source": [
    "combined_data_model.head()"
   ]
  },
  {
   "cell_type": "markdown",
   "id": "9d63a7e4-81d3-41c5-aed5-13b01082b543",
   "metadata": {},
   "source": [
    "### Extracting and standardizing numerical features"
   ]
  },
  {
   "cell_type": "code",
   "execution_count": 83,
   "id": "ad8b44fc-18df-4b86-a161-db797eac0b91",
   "metadata": {},
   "outputs": [],
   "source": [
    "numerical_features = ['police_force','number_of_vehicles', 'number_of_casualties',\n",
    "                      'speed_limit','vehicle_type']"
   ]
  },
  {
   "cell_type": "code",
   "execution_count": 84,
   "id": "74f587e4-1a71-4b12-b406-5c89b8afa1d3",
   "metadata": {},
   "outputs": [],
   "source": [
    "scaler = StandardScaler()\n",
    "combined_data_model[numerical_features] = scaler.fit_transform(combined_data_model[numerical_features])"
   ]
  },
  {
   "cell_type": "markdown",
   "id": "4a7f4882-bd4f-494b-a50d-0f279ba4bf40",
   "metadata": {},
   "source": [
    "### Creating Dummy Data"
   ]
  },
  {
   "cell_type": "code",
   "execution_count": 85,
   "id": "87672ce3-8cd6-487e-958e-257c2c6022ee",
   "metadata": {},
   "outputs": [
    {
     "data": {
      "text/plain": [
       "['police_force',\n",
       " 'accident_severity',\n",
       " 'number_of_vehicles',\n",
       " 'number_of_casualties',\n",
       " 'speed_limit',\n",
       " 'vehicle_type',\n",
       " 'road_type_2',\n",
       " 'road_type_3',\n",
       " 'road_type_6',\n",
       " 'road_type_7',\n",
       " 'road_type_9',\n",
       " 'light_conditions_4.0',\n",
       " 'light_conditions_5.0',\n",
       " 'light_conditions_6.0',\n",
       " 'light_conditions_7.0',\n",
       " 'weather_conditions_2.0',\n",
       " 'weather_conditions_3.0',\n",
       " 'weather_conditions_4.0',\n",
       " 'weather_conditions_5.0',\n",
       " 'weather_conditions_6.0',\n",
       " 'weather_conditions_7.0',\n",
       " 'weather_conditions_8.0',\n",
       " 'weather_conditions_9.0',\n",
       " 'sex_of_driver_2.0',\n",
       " 'sex_of_driver_3.0']"
      ]
     },
     "execution_count": 85,
     "metadata": {},
     "output_type": "execute_result"
    }
   ],
   "source": [
    "def prepare_data_for_model(raw_dataframe, target_columns,drop_first = True):\n",
    "    # dummy all categorical fields \n",
    "    dataframe_dummy = pd.get_dummies(raw_dataframe,columns=target_columns,\n",
    "                                     drop_first=drop_first)\n",
    "    return (dataframe_dummy)\n",
    "\n",
    "# create dummy features \n",
    "combined_data_model = prepare_data_for_model(combined_data_model,\n",
    "                                          target_columns=['road_type', 'light_conditions', 'weather_conditions', 'sex_of_driver']) \n",
    "list(combined_data_model)"
   ]
  },
  {
   "cell_type": "code",
   "execution_count": 86,
   "id": "7c25f6ea-cd9b-42c2-822a-7c675e159637",
   "metadata": {},
   "outputs": [
    {
     "data": {
      "text/html": [
       "<div>\n",
       "<style scoped>\n",
       "    .dataframe tbody tr th:only-of-type {\n",
       "        vertical-align: middle;\n",
       "    }\n",
       "\n",
       "    .dataframe tbody tr th {\n",
       "        vertical-align: top;\n",
       "    }\n",
       "\n",
       "    .dataframe thead th {\n",
       "        text-align: right;\n",
       "    }\n",
       "</style>\n",
       "<table border=\"1\" class=\"dataframe\">\n",
       "  <thead>\n",
       "    <tr style=\"text-align: right;\">\n",
       "      <th></th>\n",
       "      <th>police_force</th>\n",
       "      <th>accident_severity</th>\n",
       "      <th>number_of_vehicles</th>\n",
       "      <th>number_of_casualties</th>\n",
       "      <th>speed_limit</th>\n",
       "      <th>vehicle_type</th>\n",
       "      <th>road_type_2</th>\n",
       "      <th>road_type_3</th>\n",
       "      <th>road_type_6</th>\n",
       "      <th>road_type_7</th>\n",
       "      <th>...</th>\n",
       "      <th>weather_conditions_2.0</th>\n",
       "      <th>weather_conditions_3.0</th>\n",
       "      <th>weather_conditions_4.0</th>\n",
       "      <th>weather_conditions_5.0</th>\n",
       "      <th>weather_conditions_6.0</th>\n",
       "      <th>weather_conditions_7.0</th>\n",
       "      <th>weather_conditions_8.0</th>\n",
       "      <th>weather_conditions_9.0</th>\n",
       "      <th>sex_of_driver_2.0</th>\n",
       "      <th>sex_of_driver_3.0</th>\n",
       "    </tr>\n",
       "  </thead>\n",
       "  <tbody>\n",
       "    <tr>\n",
       "      <th>0</th>\n",
       "      <td>-1.090842</td>\n",
       "      <td>3</td>\n",
       "      <td>1.116530</td>\n",
       "      <td>-0.427559</td>\n",
       "      <td>-0.445196</td>\n",
       "      <td>-0.118029</td>\n",
       "      <td>0</td>\n",
       "      <td>0</td>\n",
       "      <td>1</td>\n",
       "      <td>0</td>\n",
       "      <td>...</td>\n",
       "      <td>0</td>\n",
       "      <td>0</td>\n",
       "      <td>0</td>\n",
       "      <td>0</td>\n",
       "      <td>0</td>\n",
       "      <td>1</td>\n",
       "      <td>0</td>\n",
       "      <td>0</td>\n",
       "      <td>0</td>\n",
       "      <td>0</td>\n",
       "    </tr>\n",
       "    <tr>\n",
       "      <th>1</th>\n",
       "      <td>-1.090842</td>\n",
       "      <td>3</td>\n",
       "      <td>1.116530</td>\n",
       "      <td>-0.427559</td>\n",
       "      <td>-0.445196</td>\n",
       "      <td>-0.118029</td>\n",
       "      <td>0</td>\n",
       "      <td>0</td>\n",
       "      <td>1</td>\n",
       "      <td>0</td>\n",
       "      <td>...</td>\n",
       "      <td>0</td>\n",
       "      <td>0</td>\n",
       "      <td>0</td>\n",
       "      <td>0</td>\n",
       "      <td>0</td>\n",
       "      <td>1</td>\n",
       "      <td>0</td>\n",
       "      <td>0</td>\n",
       "      <td>0</td>\n",
       "      <td>1</td>\n",
       "    </tr>\n",
       "    <tr>\n",
       "      <th>2</th>\n",
       "      <td>-1.090842</td>\n",
       "      <td>3</td>\n",
       "      <td>1.116530</td>\n",
       "      <td>-0.427559</td>\n",
       "      <td>-0.445196</td>\n",
       "      <td>-0.118029</td>\n",
       "      <td>0</td>\n",
       "      <td>0</td>\n",
       "      <td>1</td>\n",
       "      <td>0</td>\n",
       "      <td>...</td>\n",
       "      <td>0</td>\n",
       "      <td>0</td>\n",
       "      <td>0</td>\n",
       "      <td>0</td>\n",
       "      <td>0</td>\n",
       "      <td>1</td>\n",
       "      <td>0</td>\n",
       "      <td>0</td>\n",
       "      <td>0</td>\n",
       "      <td>1</td>\n",
       "    </tr>\n",
       "    <tr>\n",
       "      <th>3</th>\n",
       "      <td>-1.090842</td>\n",
       "      <td>2</td>\n",
       "      <td>-0.104491</td>\n",
       "      <td>2.186282</td>\n",
       "      <td>-0.445196</td>\n",
       "      <td>-0.118029</td>\n",
       "      <td>0</td>\n",
       "      <td>1</td>\n",
       "      <td>0</td>\n",
       "      <td>0</td>\n",
       "      <td>...</td>\n",
       "      <td>0</td>\n",
       "      <td>0</td>\n",
       "      <td>0</td>\n",
       "      <td>0</td>\n",
       "      <td>0</td>\n",
       "      <td>0</td>\n",
       "      <td>0</td>\n",
       "      <td>0</td>\n",
       "      <td>0</td>\n",
       "      <td>0</td>\n",
       "    </tr>\n",
       "    <tr>\n",
       "      <th>4</th>\n",
       "      <td>-1.090842</td>\n",
       "      <td>2</td>\n",
       "      <td>-0.104491</td>\n",
       "      <td>2.186282</td>\n",
       "      <td>-0.445196</td>\n",
       "      <td>-0.118029</td>\n",
       "      <td>0</td>\n",
       "      <td>1</td>\n",
       "      <td>0</td>\n",
       "      <td>0</td>\n",
       "      <td>...</td>\n",
       "      <td>0</td>\n",
       "      <td>0</td>\n",
       "      <td>0</td>\n",
       "      <td>0</td>\n",
       "      <td>0</td>\n",
       "      <td>0</td>\n",
       "      <td>0</td>\n",
       "      <td>0</td>\n",
       "      <td>0</td>\n",
       "      <td>0</td>\n",
       "    </tr>\n",
       "  </tbody>\n",
       "</table>\n",
       "<p>5 rows × 25 columns</p>\n",
       "</div>"
      ],
      "text/plain": [
       "   police_force  accident_severity  number_of_vehicles  number_of_casualties  \\\n",
       "0     -1.090842                  3            1.116530             -0.427559   \n",
       "1     -1.090842                  3            1.116530             -0.427559   \n",
       "2     -1.090842                  3            1.116530             -0.427559   \n",
       "3     -1.090842                  2           -0.104491              2.186282   \n",
       "4     -1.090842                  2           -0.104491              2.186282   \n",
       "\n",
       "   speed_limit  vehicle_type  road_type_2  road_type_3  road_type_6  \\\n",
       "0    -0.445196     -0.118029            0            0            1   \n",
       "1    -0.445196     -0.118029            0            0            1   \n",
       "2    -0.445196     -0.118029            0            0            1   \n",
       "3    -0.445196     -0.118029            0            1            0   \n",
       "4    -0.445196     -0.118029            0            1            0   \n",
       "\n",
       "   road_type_7  ...  weather_conditions_2.0  weather_conditions_3.0  \\\n",
       "0            0  ...                       0                       0   \n",
       "1            0  ...                       0                       0   \n",
       "2            0  ...                       0                       0   \n",
       "3            0  ...                       0                       0   \n",
       "4            0  ...                       0                       0   \n",
       "\n",
       "   weather_conditions_4.0  weather_conditions_5.0  weather_conditions_6.0  \\\n",
       "0                       0                       0                       0   \n",
       "1                       0                       0                       0   \n",
       "2                       0                       0                       0   \n",
       "3                       0                       0                       0   \n",
       "4                       0                       0                       0   \n",
       "\n",
       "   weather_conditions_7.0  weather_conditions_8.0  weather_conditions_9.0  \\\n",
       "0                       1                       0                       0   \n",
       "1                       1                       0                       0   \n",
       "2                       1                       0                       0   \n",
       "3                       0                       0                       0   \n",
       "4                       0                       0                       0   \n",
       "\n",
       "   sex_of_driver_2.0  sex_of_driver_3.0  \n",
       "0                  0                  0  \n",
       "1                  0                  1  \n",
       "2                  0                  1  \n",
       "3                  0                  0  \n",
       "4                  0                  0  \n",
       "\n",
       "[5 rows x 25 columns]"
      ]
     },
     "execution_count": 86,
     "metadata": {},
     "output_type": "execute_result"
    }
   ],
   "source": [
    "combined_data_model.head()"
   ]
  },
  {
   "cell_type": "markdown",
   "id": "c9defb64-2cb7-4cb5-b111-3bd216c608c2",
   "metadata": {},
   "source": [
    "### Spliting The Data"
   ]
  },
  {
   "cell_type": "code",
   "execution_count": 87,
   "id": "6381e3bf",
   "metadata": {},
   "outputs": [],
   "source": [
    "x = combined_data_model.drop('accident_severity', axis=1)\n",
    "y = combined_data_model['accident_severity']"
   ]
  },
  {
   "cell_type": "markdown",
   "id": "63b545c4-fe1e-4597-9603-560bb83a4a8b",
   "metadata": {},
   "source": [
    "### Applying SMOTE"
   ]
  },
  {
   "cell_type": "code",
   "execution_count": 88,
   "id": "04897283",
   "metadata": {},
   "outputs": [
    {
     "data": {
      "text/plain": [
       "0         3\n",
       "1         3\n",
       "2         3\n",
       "3         2\n",
       "4         2\n",
       "         ..\n",
       "379907    2\n",
       "379908    2\n",
       "379909    3\n",
       "379910    2\n",
       "379911    2\n",
       "Name: accident_severity, Length: 378362, dtype: int64"
      ]
     },
     "execution_count": 88,
     "metadata": {},
     "output_type": "execute_result"
    }
   ],
   "source": [
    "y"
   ]
  },
  {
   "cell_type": "code",
   "execution_count": 89,
   "id": "62b3c76b-1858-4b7c-b9a0-7164ff1a204b",
   "metadata": {},
   "outputs": [],
   "source": [
    "## Using SMOTE for the class imbalance in the target variable distribution using KNN\n",
    "# RESAMPLED DATA\n",
    "from imblearn.over_sampling import SMOTE\n",
    "seed = 101\n",
    "k = 1 \n",
    "sm = SMOTE(sampling_strategy = 'minority', k_neighbors = k, random_state = seed)\n",
    "res_X, res_y = sm.fit_resample(x, y)\n",
    "X_train,X_test,y_train,y_test = train_test_split(res_X, res_y,test_size=0.3,random_state=0)"
   ]
  },
  {
   "cell_type": "markdown",
   "id": "3575c042-93f8-46b5-b933-d1c325212c78",
   "metadata": {},
   "source": [
    "### Random Forest"
   ]
  },
  {
   "cell_type": "code",
   "execution_count": 90,
   "id": "573dfb33-4c31-4e95-9836-0d1973e22d5f",
   "metadata": {},
   "outputs": [
    {
     "name": "stdout",
     "output_type": "stream",
     "text": [
      "[3 2 1]\n",
      "[3 1 2]\n"
     ]
    }
   ],
   "source": [
    "print(y_train.unique())\n",
    "print(y_test.unique())"
   ]
  },
  {
   "cell_type": "code",
   "execution_count": 91,
   "id": "981bf296-b0e9-4b3a-9b33-c5113e8ff5cf",
   "metadata": {},
   "outputs": [],
   "source": [
    "y_train[y_train ==1]= 0\n",
    "y_train[y_train ==2]= 1\n",
    "y_train[y_train ==3]= 2"
   ]
  },
  {
   "cell_type": "code",
   "execution_count": 92,
   "id": "7a3abe5f-bde1-474c-8390-dc9d9216d880",
   "metadata": {},
   "outputs": [],
   "source": [
    "y_test[y_test ==1]= 0\n",
    "y_test[y_test ==2]= 1\n",
    "y_test[y_test ==3]= 2"
   ]
  },
  {
   "cell_type": "markdown",
   "id": "a09373da-77d9-4a58-af4f-567c2349d619",
   "metadata": {},
   "source": [
    "### Importing Random Forest Algorithm"
   ]
  },
  {
   "cell_type": "code",
   "execution_count": 93,
   "id": "176f445c-3719-4202-b1ea-3c10a6ea5a12",
   "metadata": {},
   "outputs": [],
   "source": [
    "from sklearn.model_selection import RandomizedSearchCV\n",
    "from sklearn.ensemble import RandomForestRegressor"
   ]
  },
  {
   "cell_type": "markdown",
   "id": "a71427d7-6491-47b5-b14f-79ac802b0ee2",
   "metadata": {},
   "source": [
    "### Hyperparameter Tunning"
   ]
  },
  {
   "cell_type": "code",
   "execution_count": 94,
   "id": "3b5ea18d-f33a-48ae-9c2c-6b9bcf00235c",
   "metadata": {},
   "outputs": [],
   "source": [
    "n_estimators = [25]\n",
    "max_depth = [25]\n",
    "min_samples_leaf = [2]\n",
    "bootstrap = [True, False]\n",
    "\n",
    "param_grid = {\n",
    "    \"n_estimators\": n_estimators,\n",
    "    \"max_depth\": max_depth,\n",
    "    \"min_samples_leaf\": min_samples_leaf,\n",
    "    \"bootstrap\": bootstrap,\n",
    "}"
   ]
  },
  {
   "cell_type": "markdown",
   "id": "0f34ebe0-6f51-41c1-b51f-f7b3c8badda2",
   "metadata": {},
   "source": [
    "### Training the Model"
   ]
  },
  {
   "cell_type": "code",
   "execution_count": 95,
   "id": "66ed60d3-440e-4595-8b85-994da66654e6",
   "metadata": {},
   "outputs": [
    {
     "data": {
      "text/html": [
       "<style>#sk-container-id-1 {color: black;}#sk-container-id-1 pre{padding: 0;}#sk-container-id-1 div.sk-toggleable {background-color: white;}#sk-container-id-1 label.sk-toggleable__label {cursor: pointer;display: block;width: 100%;margin-bottom: 0;padding: 0.3em;box-sizing: border-box;text-align: center;}#sk-container-id-1 label.sk-toggleable__label-arrow:before {content: \"▸\";float: left;margin-right: 0.25em;color: #696969;}#sk-container-id-1 label.sk-toggleable__label-arrow:hover:before {color: black;}#sk-container-id-1 div.sk-estimator:hover label.sk-toggleable__label-arrow:before {color: black;}#sk-container-id-1 div.sk-toggleable__content {max-height: 0;max-width: 0;overflow: hidden;text-align: left;background-color: #f0f8ff;}#sk-container-id-1 div.sk-toggleable__content pre {margin: 0.2em;color: black;border-radius: 0.25em;background-color: #f0f8ff;}#sk-container-id-1 input.sk-toggleable__control:checked~div.sk-toggleable__content {max-height: 200px;max-width: 100%;overflow: auto;}#sk-container-id-1 input.sk-toggleable__control:checked~label.sk-toggleable__label-arrow:before {content: \"▾\";}#sk-container-id-1 div.sk-estimator input.sk-toggleable__control:checked~label.sk-toggleable__label {background-color: #d4ebff;}#sk-container-id-1 div.sk-label input.sk-toggleable__control:checked~label.sk-toggleable__label {background-color: #d4ebff;}#sk-container-id-1 input.sk-hidden--visually {border: 0;clip: rect(1px 1px 1px 1px);clip: rect(1px, 1px, 1px, 1px);height: 1px;margin: -1px;overflow: hidden;padding: 0;position: absolute;width: 1px;}#sk-container-id-1 div.sk-estimator {font-family: monospace;background-color: #f0f8ff;border: 1px dotted black;border-radius: 0.25em;box-sizing: border-box;margin-bottom: 0.5em;}#sk-container-id-1 div.sk-estimator:hover {background-color: #d4ebff;}#sk-container-id-1 div.sk-parallel-item::after {content: \"\";width: 100%;border-bottom: 1px solid gray;flex-grow: 1;}#sk-container-id-1 div.sk-label:hover label.sk-toggleable__label {background-color: #d4ebff;}#sk-container-id-1 div.sk-serial::before {content: \"\";position: absolute;border-left: 1px solid gray;box-sizing: border-box;top: 0;bottom: 0;left: 50%;z-index: 0;}#sk-container-id-1 div.sk-serial {display: flex;flex-direction: column;align-items: center;background-color: white;padding-right: 0.2em;padding-left: 0.2em;position: relative;}#sk-container-id-1 div.sk-item {position: relative;z-index: 1;}#sk-container-id-1 div.sk-parallel {display: flex;align-items: stretch;justify-content: center;background-color: white;position: relative;}#sk-container-id-1 div.sk-item::before, #sk-container-id-1 div.sk-parallel-item::before {content: \"\";position: absolute;border-left: 1px solid gray;box-sizing: border-box;top: 0;bottom: 0;left: 50%;z-index: -1;}#sk-container-id-1 div.sk-parallel-item {display: flex;flex-direction: column;z-index: 1;position: relative;background-color: white;}#sk-container-id-1 div.sk-parallel-item:first-child::after {align-self: flex-end;width: 50%;}#sk-container-id-1 div.sk-parallel-item:last-child::after {align-self: flex-start;width: 50%;}#sk-container-id-1 div.sk-parallel-item:only-child::after {width: 0;}#sk-container-id-1 div.sk-dashed-wrapped {border: 1px dashed gray;margin: 0 0.4em 0.5em 0.4em;box-sizing: border-box;padding-bottom: 0.4em;background-color: white;}#sk-container-id-1 div.sk-label label {font-family: monospace;font-weight: bold;display: inline-block;line-height: 1.2em;}#sk-container-id-1 div.sk-label-container {text-align: center;}#sk-container-id-1 div.sk-container {/* jupyter's `normalize.less` sets `[hidden] { display: none; }` but bootstrap.min.css set `[hidden] { display: none !important; }` so we also need the `!important` here to be able to override the default hidden behavior on the sphinx rendered scikit-learn.org. See: https://github.com/scikit-learn/scikit-learn/issues/21755 */display: inline-block !important;position: relative;}#sk-container-id-1 div.sk-text-repr-fallback {display: none;}</style><div id=\"sk-container-id-1\" class=\"sk-top-container\"><div class=\"sk-text-repr-fallback\"><pre>RandomForestRegressor()</pre><b>In a Jupyter environment, please rerun this cell to show the HTML representation or trust the notebook. <br />On GitHub, the HTML representation is unable to render, please try loading this page with nbviewer.org.</b></div><div class=\"sk-container\" hidden><div class=\"sk-item\"><div class=\"sk-estimator sk-toggleable\"><input class=\"sk-toggleable__control sk-hidden--visually\" id=\"sk-estimator-id-1\" type=\"checkbox\" checked><label for=\"sk-estimator-id-1\" class=\"sk-toggleable__label sk-toggleable__label-arrow\">RandomForestRegressor</label><div class=\"sk-toggleable__content\"><pre>RandomForestRegressor()</pre></div></div></div></div></div>"
      ],
      "text/plain": [
       "RandomForestRegressor()"
      ]
     },
     "execution_count": 95,
     "metadata": {},
     "output_type": "execute_result"
    }
   ],
   "source": [
    "rf = RandomForestRegressor()\n",
    "rf_random = RandomizedSearchCV(estimator = rf, param_distributions = param_grid, n_iter=50, cv =2, verbose = 10, random_state=0, n_jobs = 10)\n",
    "rf.fit(X_train, y_train)"
   ]
  },
  {
   "cell_type": "markdown",
   "id": "b487a5fc-5bda-4443-8b81-983b8851ebe9",
   "metadata": {},
   "source": [
    "### Predicting with the Trained Model"
   ]
  },
  {
   "cell_type": "code",
   "execution_count": 96,
   "id": "9493aa3f-99e1-4702-ae23-f81085ab20d1",
   "metadata": {},
   "outputs": [],
   "source": [
    "y_pred_rf = rf.predict(X_test)\n",
    "y_pred_rf = y_pred_rf.astype(int)"
   ]
  },
  {
   "cell_type": "markdown",
   "id": "2781a598-c25b-460b-8fc1-fecd8929ea10",
   "metadata": {},
   "source": [
    "### Printing Classification Report"
   ]
  },
  {
   "cell_type": "code",
   "execution_count": 97,
   "id": "3ff27287-fcc5-4d52-92da-0a6fa63de3bd",
   "metadata": {},
   "outputs": [
    {
     "name": "stdout",
     "output_type": "stream",
     "text": [
      "Random Forest Model Classification Report \n",
      " -----------------------------\n",
      "Accuracy: 0.56\n",
      "              precision    recall  f1-score   support\n",
      "\n",
      "       Fatal       0.92      0.95      0.93     88783\n",
      "     Serious       0.20      0.87      0.33     23280\n",
      "      Slight       0.90      0.08      0.14     88446\n",
      "\n",
      "    accuracy                           0.56    200509\n",
      "   macro avg       0.67      0.63      0.47    200509\n",
      "weighted avg       0.82      0.56      0.51    200509\n",
      "\n"
     ]
    }
   ],
   "source": [
    "print('Random Forest Model Classification Report \\n -----------------------------')\n",
    "accuracy = accuracy_score(y_test, y_pred_rf)\n",
    "print(\"Accuracy: {:.2f}\".format(accuracy))\n",
    "print(classification_report(y_test, y_pred_rf,\n",
    "                            target_names=['Fatal','Serious','Slight']))"
   ]
  },
  {
   "cell_type": "markdown",
   "id": "4eb59c57-ec48-4387-98ac-312f8f2d213a",
   "metadata": {},
   "source": [
    "### Generate the confusion matrix"
   ]
  },
  {
   "cell_type": "code",
   "execution_count": 98,
   "id": "11dcdcc3-c179-47fc-99f0-9774c9d03573",
   "metadata": {},
   "outputs": [
    {
     "data": {
      "image/png": "[encoded data removed]",
      "text/plain": [
       "<Figure size 576x432 with 2 Axes>"
      ]
     },
     "metadata": {
      "needs_background": "light"
     },
     "output_type": "display_data"
    }
   ],
   "source": [
    "conf_mat = confusion_matrix(y_test, y_pred_rf)\n",
    "\n",
    "# Plot the confusion matrix as a heatmap\n",
    "plt.figure(figsize=(8, 6))\n",
    "sns.heatmap(conf_mat, cmap=\"rocket_r\", annot=True, fmt=\"d\", xticklabels=['Fatal','Serious','Slight'],\n",
    "            yticklabels=['Fatal','Serious','Slight'])\n",
    "plt.title(\"Confusion Matrix for the Random Forest Model\")\n",
    "plt.ylabel(\"True Label\")\n",
    "plt.xlabel(\"Predicted Label\");\n",
    "#plt.savefig('confusion_matrix.png')"
   ]
  },
  {
   "cell_type": "code",
   "execution_count": 99,
   "id": "4561eb96",
   "metadata": {},
   "outputs": [
    {
     "name": "stdout",
     "output_type": "stream",
     "text": [
      "Requirement already satisfied: lightgbm in c:\\users\\ojumu pc\\anaconda3\\lib\\site-packages (4.2.0)\n",
      "Requirement already satisfied: numpy in c:\\users\\ojumu pc\\anaconda3\\lib\\site-packages (from lightgbm) (1.20.3)\n",
      "Requirement already satisfied: scipy in c:\\users\\ojumu pc\\anaconda3\\lib\\site-packages (from lightgbm) (1.7.1)\n",
      "Note: you may need to restart the kernel to use updated packages.\n"
     ]
    }
   ],
   "source": [
    "pip install lightgbm"
   ]
  },
  {
   "cell_type": "markdown",
   "id": "6482d313-8b0b-4eb8-b6dc-5d61562618f3",
   "metadata": {},
   "source": [
    "### LGBM Model"
   ]
  },
  {
   "cell_type": "code",
   "execution_count": 100,
   "id": "6f09b789",
   "metadata": {},
   "outputs": [],
   "source": [
    "y[y==1]=0\n",
    "y[y==2]=1\n",
    "y[y==3]=2\n",
    "\n"
   ]
  },
  {
   "cell_type": "code",
   "execution_count": 101,
   "id": "6b1ce035",
   "metadata": {},
   "outputs": [
    {
     "data": {
      "text/plain": [
       "array([2, 1, 0], dtype=int64)"
      ]
     },
     "execution_count": 101,
     "metadata": {},
     "output_type": "execute_result"
    }
   ],
   "source": [
    "y.unique()"
   ]
  },
  {
   "cell_type": "code",
   "execution_count": 102,
   "id": "06a13296-2079-414c-8841-f8027f919ab9",
   "metadata": {},
   "outputs": [],
   "source": [
    "import lightgbm as lgb"
   ]
  },
  {
   "cell_type": "markdown",
   "id": "08dc8359-dee7-42a6-90d7-d36f31550087",
   "metadata": {},
   "source": [
    "### SMOTE"
   ]
  },
  {
   "cell_type": "code",
   "execution_count": 103,
   "id": "0a254d64",
   "metadata": {},
   "outputs": [],
   "source": [
    "## Using SMOTE for the class imbalance in the target variable distribution using KNN\n",
    "from imblearn.over_sampling import SMOTE\n",
    "seed = 101\n",
    "k = 1 \n",
    "sm = SMOTE(sampling_strategy = 'minority', k_neighbors = k, random_state = seed)\n",
    "res_X, res_y = sm.fit_resample(x, y)\n",
    "X_train,X_test,y_train,y_test = train_test_split(res_X, res_y,test_size=0.3,random_state=0)"
   ]
  },
  {
   "cell_type": "markdown",
   "id": "ffd506e1-264f-45de-9b63-12d4077a3c3f",
   "metadata": {},
   "source": [
    "### Training the Data"
   ]
  },
  {
   "cell_type": "code",
   "execution_count": 104,
   "id": "81677c2c-6e59-4454-a429-e12d36201128",
   "metadata": {},
   "outputs": [
    {
     "data": {
      "text/plain": [
       "((467853, 24), (200509, 24))"
      ]
     },
     "execution_count": 104,
     "metadata": {},
     "output_type": "execute_result"
    }
   ],
   "source": [
    "X_train, X_val,y_train, y_val = train_test_split(res_X, res_y,\n",
    "                                      random_state=0,\n",
    "                                      test_size=0.30)\n",
    "# Check the shape of both sets\n",
    "X_train.shape, X_val.shape"
   ]
  },
  {
   "cell_type": "markdown",
   "id": "fceea141-7665-4329-b194-be21a99f7c68",
   "metadata": {},
   "source": [
    "### Checking the Unique Data in the trained Data"
   ]
  },
  {
   "cell_type": "code",
   "execution_count": 105,
   "id": "d5898040",
   "metadata": {},
   "outputs": [
    {
     "data": {
      "text/plain": [
       "array([2, 1, 0], dtype=int64)"
      ]
     },
     "execution_count": 105,
     "metadata": {},
     "output_type": "execute_result"
    }
   ],
   "source": [
    "y_train.unique()"
   ]
  },
  {
   "cell_type": "markdown",
   "id": "af4a9470-28fc-42bd-90ae-381e54bd0fdf",
   "metadata": {},
   "source": [
    "### Setting the Parameters For training"
   ]
  },
  {
   "cell_type": "code",
   "execution_count": 106,
   "id": "f4cae05a-e250-48d8-b30f-7ebb5f0e2152",
   "metadata": {},
   "outputs": [],
   "source": [
    "params = {\n",
    "    'objective': 'multiclass',\n",
    "    'num_class': 3,\n",
    "    'metric': 'multi_logloss',\n",
    "    'verbose': 0\n",
    "}\n",
    "\n",
    "#Create a LightGBM Dataset\n",
    "train_data = lgb.Dataset(X_train, label=y_train)\n",
    "valid_data = lgb.Dataset(X_val, label=y_val, reference=train_data)"
   ]
  },
  {
   "cell_type": "markdown",
   "id": "23beb40b-fa8b-4c37-b3b2-92eaca5b63a1",
   "metadata": {},
   "source": [
    "### Training the Model"
   ]
  },
  {
   "cell_type": "code",
   "execution_count": 107,
   "id": "a86c40d3-cf5a-422a-935d-ec9dc028e083",
   "metadata": {},
   "outputs": [],
   "source": [
    "num_round = 150\n",
    "evals={}\n",
    "model = lgb.train(params,\n",
    "                  train_data,\n",
    "                  num_round,\n",
    "                  valid_sets=[valid_data],\n",
    "                 callbacks = [lgb.record_evaluation(evals)])"
   ]
  },
  {
   "cell_type": "markdown",
   "id": "fdb15bce-792b-4841-a488-db653f0d0563",
   "metadata": {},
   "source": [
    "### Getting the model predictions"
   ]
  },
  {
   "cell_type": "code",
   "execution_count": 108,
   "id": "2d750af4-c990-4932-a324-b6a5c5500768",
   "metadata": {},
   "outputs": [
    {
     "data": {
      "text/plain": [
       "array([[0.00380837, 0.07804714, 0.91814449],\n",
       "       [0.13097969, 0.165701  , 0.70331931],\n",
       "       [0.7591745 , 0.11580386, 0.12502164]])"
      ]
     },
     "execution_count": 108,
     "metadata": {},
     "output_type": "execute_result"
    }
   ],
   "source": [
    "y_pred = model.predict(X_val,num_iteration=model.best_iteration)\n",
    "y_pred.shape\n",
    "y_pred[:3]"
   ]
  },
  {
   "cell_type": "code",
   "execution_count": 109,
   "id": "7ecf5f4d-ad17-4e88-bddf-619d5a66c453",
   "metadata": {},
   "outputs": [
    {
     "data": {
      "text/plain": [
       "array([2, 2, 0, 2, 2, 2, 0, 2, 0, 0], dtype=int64)"
      ]
     },
     "execution_count": 109,
     "metadata": {},
     "output_type": "execute_result"
    }
   ],
   "source": [
    "# Mapping probabilities to find the class\n",
    "y_pred = np.argmax(y_pred, axis=1)\n",
    "y_pred[:10]"
   ]
  },
  {
   "cell_type": "markdown",
   "id": "2e0fdf03-4b76-4139-8a32-8e915b6d319a",
   "metadata": {},
   "source": [
    "### Get the accuracy score for the prediction values"
   ]
  },
  {
   "cell_type": "code",
   "execution_count": 110,
   "id": "5a738a31-9674-4948-ba9a-84db206ee251",
   "metadata": {},
   "outputs": [
    {
     "name": "stdout",
     "output_type": "stream",
     "text": [
      "Accuracy: 0.7780548504057174\n"
     ]
    }
   ],
   "source": [
    "accuracy = accuracy_score(y_val, y_pred)\n",
    "print(f'Accuracy: {accuracy}')"
   ]
  },
  {
   "cell_type": "markdown",
   "id": "f1fe60ee-0f71-4194-8350-998ff0310103",
   "metadata": {},
   "source": [
    "### Printing Classification Report"
   ]
  },
  {
   "cell_type": "code",
   "execution_count": 111,
   "id": "06450f10-2871-45a4-ac2a-207e53352eb1",
   "metadata": {},
   "outputs": [
    {
     "name": "stdout",
     "output_type": "stream",
     "text": [
      "Light XGBoost Model Classification Report \n",
      " -----------------------------\n",
      "Accuracy: 0.78\n",
      "              precision    recall  f1-score   support\n",
      "\n",
      "       Fatal       0.82      0.88      0.85     88783\n",
      "     Serious       0.53      0.02      0.04     23280\n",
      "      Slight       0.74      0.87      0.80     88446\n",
      "\n",
      "    accuracy                           0.78    200509\n",
      "   macro avg       0.70      0.59      0.57    200509\n",
      "weighted avg       0.75      0.78      0.74    200509\n",
      "\n"
     ]
    }
   ],
   "source": [
    "print('Light XGBoost Model Classification Report \\n -----------------------------')\n",
    "accuracy = accuracy_score(y_val, y_pred)\n",
    "print(\"Accuracy: {:.2f}\".format(accuracy))\n",
    "print(classification_report(y_val, y_pred,\n",
    "                            target_names=['Fatal','Serious','Slight']))"
   ]
  },
  {
   "cell_type": "markdown",
   "id": "0a861f93-c34d-471d-9c2f-7e31ed301b7f",
   "metadata": {},
   "source": [
    "### Generating Confusion Matrix"
   ]
  },
  {
   "cell_type": "code",
   "execution_count": 112,
   "id": "16f72046-7ce3-4947-8f3e-1fe44aa5bf7e",
   "metadata": {},
   "outputs": [
    {
     "data": {
      "image/png": "[encoded data removed]",
      "text/plain": [
       "<Figure size 576x432 with 2 Axes>"
      ]
     },
     "metadata": {
      "needs_background": "light"
     },
     "output_type": "display_data"
    }
   ],
   "source": [
    "conf_mat = confusion_matrix(y_test, y_pred_rf)\n",
    "\n",
    "# Plot the confusion matrix as a heatmap\n",
    "plt.figure(figsize=(8, 6))\n",
    "sns.heatmap(conf_mat, cmap=\"rocket_r\", annot=True, fmt=\"d\", xticklabels=['Fatal','Serious','Slight'],\n",
    "            yticklabels=['Fatal','Serious','Slight'])\n",
    "plt.title(\"Confusion Matrix for the LightGBM Model\")\n",
    "plt.ylabel(\"True Label\")\n",
    "plt.xlabel(\"Predicted Label\");\n"
   ]
  },
  {
   "cell_type": "markdown",
   "id": "6ba87431-5986-46cf-b982-419335aa9ddb",
   "metadata": {},
   "source": [
    "### LSTM Model"
   ]
  },
  {
   "cell_type": "code",
   "execution_count": 83,
   "id": "ad85b8d6-0a38-4e39-9a92-4a73e723574c",
   "metadata": {},
   "outputs": [],
   "source": [
    "x = combined_data_model.drop('accident_severity', axis=1)\n",
    "y = combined_data_model['accident_severity']"
   ]
  },
  {
   "cell_type": "code",
   "execution_count": 84,
   "id": "4b78a2e4-3215-4a74-a6b7-8a41d0ca7a20",
   "metadata": {},
   "outputs": [],
   "source": [
    "## resetting index\n",
    "x = x.reset_index(drop=True)\n",
    "y = y.reset_index(drop=True)"
   ]
  },
  {
   "cell_type": "code",
   "execution_count": 86,
   "id": "488da000-71cd-4bef-a2a1-812b2cd8d752",
   "metadata": {},
   "outputs": [
    {
     "data": {
      "text/plain": [
       "0         3\n",
       "1         3\n",
       "2         3\n",
       "3         2\n",
       "4         2\n",
       "         ..\n",
       "378357    2\n",
       "378358    2\n",
       "378359    3\n",
       "378360    2\n",
       "378361    2\n",
       "Name: accident_severity, Length: 378362, dtype: int64"
      ]
     },
     "execution_count": 86,
     "metadata": {},
     "output_type": "execute_result"
    }
   ],
   "source": [
    "y"
   ]
  },
  {
   "cell_type": "markdown",
   "id": "fe62535f-305f-4fad-b28c-551e642f80ce",
   "metadata": {},
   "source": [
    "### Selecting samples for each class for training"
   ]
  },
  {
   "cell_type": "code",
   "execution_count": 87,
   "id": "bcdf8818-7415-414c-b1cc-e4cb5e6dc09a",
   "metadata": {},
   "outputs": [],
   "source": [
    "label_class1 = np.where(y == 1)[0][:10000]\n",
    "label_class2 = np.where(y == 2)[0][:20000]\n",
    "label_class3 = np.where(y == 3)[0][:100000]"
   ]
  },
  {
   "cell_type": "code",
   "execution_count": 88,
   "id": "65b53889-39ca-4336-aa3c-ee0b898e1ea7",
   "metadata": {},
   "outputs": [],
   "source": [
    "##Combining the selected samples\n",
    "selected_labels = np.concatenate([label_class1, label_class2, label_class3])"
   ]
  },
  {
   "cell_type": "code",
   "execution_count": 89,
   "id": "ceadc39e-5ece-4a62-8fc2-e44a13c3afa8",
   "metadata": {},
   "outputs": [],
   "source": [
    "# Creating training set\n",
    "x_data = x.iloc[selected_labels,:]\n",
    "y_data = y[selected_labels]"
   ]
  },
  {
   "cell_type": "code",
   "execution_count": 90,
   "id": "3c9b1455-06ee-4b22-b3f9-f664fe81575c",
   "metadata": {},
   "outputs": [
    {
     "data": {
      "text/plain": [
       "0         3\n",
       "1         3\n",
       "2         3\n",
       "3         2\n",
       "4         2\n",
       "         ..\n",
       "378357    2\n",
       "378358    2\n",
       "378359    3\n",
       "378360    2\n",
       "378361    2\n",
       "Name: accident_severity, Length: 378362, dtype: int64"
      ]
     },
     "execution_count": 90,
     "metadata": {},
     "output_type": "execute_result"
    }
   ],
   "source": [
    "y"
   ]
  },
  {
   "cell_type": "code",
   "execution_count": 91,
   "id": "92916db2-f3bb-49b8-92f7-cf7bd745e26f",
   "metadata": {},
   "outputs": [
    {
     "data": {
      "text/plain": [
       "accident_severity\n",
       "3    100000\n",
       "2     20000\n",
       "1      5445\n",
       "Name: count, dtype: int64"
      ]
     },
     "execution_count": 91,
     "metadata": {},
     "output_type": "execute_result"
    }
   ],
   "source": [
    "y_data.value_counts()"
   ]
  },
  {
   "cell_type": "code",
   "execution_count": 92,
   "id": "bf3cf936-db20-405d-91c2-d2e1e112c0e8",
   "metadata": {},
   "outputs": [
    {
     "name": "stdout",
     "output_type": "stream",
     "text": [
      "125445\n",
      "125445\n"
     ]
    }
   ],
   "source": [
    "print(len(x.iloc[selected_labels,:]))\n",
    "print(len(y[selected_labels]))"
   ]
  },
  {
   "cell_type": "markdown",
   "id": "bbbe8227-4510-4c98-b4ac-189f536b9b52",
   "metadata": {},
   "source": [
    "### Applying SMOTE"
   ]
  },
  {
   "cell_type": "code",
   "execution_count": 93,
   "id": "7098ddde-a3cc-404f-aabe-8a22484a52c2",
   "metadata": {},
   "outputs": [],
   "source": [
    "from imblearn.over_sampling import SMOTE\n",
    "seed = 101\n",
    "k = 1 \n",
    "sm = SMOTE(sampling_strategy = 'minority', k_neighbors = k, random_state = seed)\n",
    "res_X, res_y = sm.fit_resample(x_data, y_data)\n",
    "X_train,X_test,y_train,y_test = train_test_split(res_X, res_y,test_size=0.3,random_state=0)"
   ]
  },
  {
   "cell_type": "code",
   "execution_count": 94,
   "id": "521a8f4c-f2b2-450e-9d55-388990aba602",
   "metadata": {},
   "outputs": [
    {
     "name": "stdout",
     "output_type": "stream",
     "text": [
      "154000\n",
      "154000\n",
      "154000\n",
      "154000\n"
     ]
    }
   ],
   "source": [
    "print(len(y_train==1))\n",
    "print(len(y_train==2))\n",
    "print(len(y_train==3))\n",
    "print(len(X_train))"
   ]
  },
  {
   "cell_type": "code",
   "execution_count": 95,
   "id": "80494c4a-dc5b-4521-9285-1a31d7beba53",
   "metadata": {},
   "outputs": [],
   "source": [
    "x_train = np.asarray(X_train).astype('float32')\n",
    "x_test = np.asarray(X_test).astype('float32')"
   ]
  },
  {
   "cell_type": "code",
   "execution_count": 96,
   "id": "68e3d227-1c63-44d4-8179-89655977cb25",
   "metadata": {},
   "outputs": [],
   "source": [
    "x_train = np.asarray(X_train).astype('float32')\n",
    "x_test = np.asarray(X_test).astype('float32')"
   ]
  },
  {
   "cell_type": "code",
   "execution_count": 97,
   "id": "b68bea4d-29ba-4075-ba66-77a5856c98c3",
   "metadata": {},
   "outputs": [],
   "source": [
    "x_train = x_train.reshape(X_train.shape[0],X_train.shape[1],1)\n",
    "x_test = x_test.reshape(X_test.shape[0],X_test.shape[1],1)"
   ]
  },
  {
   "cell_type": "code",
   "execution_count": 98,
   "id": "8fdba112-31e3-4a0a-9ee5-71d3f6450789",
   "metadata": {},
   "outputs": [],
   "source": [
    "y_train = np.asarray(y_train).astype('float32')\n",
    "y_test = np.asarray(y_test).astype('float32')"
   ]
  },
  {
   "cell_type": "code",
   "execution_count": 99,
   "id": "0d942839-dc37-404e-a5f2-287a22ccb30b",
   "metadata": {},
   "outputs": [],
   "source": [
    "###Reshaping the input\n",
    "y_train = y_train.reshape(-1,1)\n",
    "y_test = y_test.reshape(-1,1)"
   ]
  },
  {
   "cell_type": "code",
   "execution_count": 100,
   "id": "a1d6d7dd-70d9-4429-a26f-24234fe317d4",
   "metadata": {},
   "outputs": [],
   "source": [
    "### encding y label\n",
    "from sklearn.preprocessing import OneHotEncoder\n",
    "\n",
    "encoder = OneHotEncoder(sparse=False)\n",
    "y_train = encoder.fit_transform(y_train)"
   ]
  },
  {
   "cell_type": "code",
   "execution_count": 101,
   "id": "4dc91d62-058c-467a-ba42-91245f2d28af",
   "metadata": {},
   "outputs": [],
   "source": [
    "y_test = encoder.transform(y_test)"
   ]
  },
  {
   "cell_type": "code",
   "execution_count": 102,
   "id": "b29a04a2-4789-4ca0-baa4-74648549f39f",
   "metadata": {},
   "outputs": [
    {
     "data": {
      "text/plain": [
       "(66000, 3)"
      ]
     },
     "execution_count": 102,
     "metadata": {},
     "output_type": "execute_result"
    }
   ],
   "source": [
    "y_test.shape"
   ]
  },
  {
   "cell_type": "code",
   "execution_count": 103,
   "id": "656e112a-1677-4207-8019-f4c628589de3",
   "metadata": {},
   "outputs": [],
   "source": [
    "n_timesteps, n_features, n_outputs = x_train.shape[1],x_train.shape[2],3"
   ]
  },
  {
   "cell_type": "code",
   "execution_count": 104,
   "id": "9c4d6876-7fc5-4d0d-9473-f527c3b1c974",
   "metadata": {},
   "outputs": [
    {
     "name": "stdout",
     "output_type": "stream",
     "text": [
      "24\n",
      "1\n",
      "3\n"
     ]
    }
   ],
   "source": [
    "print(n_timesteps)\n",
    "print(n_features)\n",
    "print(n_outputs)"
   ]
  },
  {
   "cell_type": "markdown",
   "id": "a1ed88b2-9419-4387-b15d-be814e1d77f7",
   "metadata": {},
   "source": [
    "### Importing Libraries for Deep Learning"
   ]
  },
  {
   "cell_type": "code",
   "execution_count": 105,
   "id": "c2f9faf4-c93d-4452-a7a8-22565134c628",
   "metadata": {},
   "outputs": [
    {
     "name": "stdout",
     "output_type": "stream",
     "text": [
      "First conv1 layer :  (None, 23, 128)\n",
      "Second conv2 layer :  (None, 22, 64)\n",
      "pool1 :  (None, 11, 64)\n",
      "First LSTM layer :  (None, 11, 32)\n",
      "Second LSTM layer :  (None, 11, 32)\n"
     ]
    }
   ],
   "source": [
    "from tensorflow.keras.layers import Input, Conv1D, MaxPooling1D, LSTM, Dense, Flatten, Add, BatchNormalization\n",
    "import tensorflow as tf\n",
    "\n",
    "# Assuming n_timesteps and n_features are defined\n",
    "n_outputs = 3  # Number of output classes\n",
    "\n",
    "# Define the input layer\n",
    "input_layer = Input(shape=(n_timesteps, 1))\n",
    "\n",
    "# First convolutional block with batch normalization\n",
    "conv1 = Conv1D(filters=128, kernel_size=2, activation='relu')(input_layer)\n",
    "# conv1 = BatchNormalization()(conv1)\n",
    "print('First conv1 layer : ', conv1.shape)\n",
    "\n",
    "# Second convolutional block with batch normalization\n",
    "conv2 = Conv1D(filters=64, kernel_size=2, activation='relu')(conv1)\n",
    "# conv2 = BatchNormalization()(conv2)\n",
    "print('Second conv2 layer : ', conv2.shape)\n",
    "\n",
    "pool1 = MaxPooling1D(pool_size=2)(conv2)\n",
    "print('pool1 : ', pool1.shape)\n",
    "\n",
    "# First LSTM block\n",
    "lstm1 = LSTM(32, return_sequences=True)(pool1)\n",
    "print('First LSTM layer : ', lstm1.shape)\n",
    "\n",
    "# Second LSTM block with a skip connection\n",
    "lstm2 = LSTM(32, return_sequences=True)(pool1)  # Skip connection to the first LSTM block\n",
    "print('Second LSTM layer : ', lstm2.shape)\n",
    "\n",
    "combined_lstm = Add()([lstm1, lstm2])\n",
    "combined_lstm = BatchNormalization()(combined_lstm)\n",
    "\n",
    "\n",
    "# Dense layers\n",
    "dense1 = Dense(100, activation='relu')(combined_lstm)\n",
    "flatten1 = Flatten()(dense1)\n",
    "output_layer = Dense(n_outputs, activation='softmax')(flatten1)\n",
    "\n",
    "# Create the model\n",
    "model = tf.keras.Model(inputs=input_layer, outputs=output_layer)"
   ]
  },
  {
   "cell_type": "code",
   "execution_count": 106,
   "id": "63ddfb6c-c464-4721-be8b-39515fc2a497",
   "metadata": {},
   "outputs": [
    {
     "name": "stdout",
     "output_type": "stream",
     "text": [
      "Model: \"model\"\n",
      "__________________________________________________________________________________________________\n",
      " Layer (type)                   Output Shape         Param #     Connected to                     \n",
      "==================================================================================================\n",
      " input_1 (InputLayer)           [(None, 24, 1)]      0           []                               \n",
      "                                                                                                  \n",
      " conv1d (Conv1D)                (None, 23, 128)      384         ['input_1[0][0]']                \n",
      "                                                                                                  \n",
      " conv1d_1 (Conv1D)              (None, 22, 64)       16448       ['conv1d[0][0]']                 \n",
      "                                                                                                  \n",
      " max_pooling1d (MaxPooling1D)   (None, 11, 64)       0           ['conv1d_1[0][0]']               \n",
      "                                                                                                  \n",
      " lstm (LSTM)                    (None, 11, 32)       12416       ['max_pooling1d[0][0]']          \n",
      "                                                                                                  \n",
      " lstm_1 (LSTM)                  (None, 11, 32)       12416       ['max_pooling1d[0][0]']          \n",
      "                                                                                                  \n",
      " add (Add)                      (None, 11, 32)       0           ['lstm[0][0]',                   \n",
      "                                                                  'lstm_1[0][0]']                 \n",
      "                                                                                                  \n",
      " batch_normalization (BatchNorm  (None, 11, 32)      128         ['add[0][0]']                    \n",
      " alization)                                                                                       \n",
      "                                                                                                  \n",
      " dense (Dense)                  (None, 11, 100)      3300        ['batch_normalization[0][0]']    \n",
      "                                                                                                  \n",
      " flatten (Flatten)              (None, 1100)         0           ['dense[0][0]']                  \n",
      "                                                                                                  \n",
      " dense_1 (Dense)                (None, 3)            3303        ['flatten[0][0]']                \n",
      "                                                                                                  \n",
      "==================================================================================================\n",
      "Total params: 48,395\n",
      "Trainable params: 48,331\n",
      "Non-trainable params: 64\n",
      "__________________________________________________________________________________________________\n"
     ]
    }
   ],
   "source": [
    "model.summary()"
   ]
  },
  {
   "cell_type": "code",
   "execution_count": 107,
   "id": "0ed8517c-f681-443e-ba9d-89bc3818a0e0",
   "metadata": {},
   "outputs": [],
   "source": [
    "## Compiling the model train\n",
    "model.compile(loss='categorical_crossentropy', optimizer = tf.keras.optimizers.SGD(learning_rate=0.01, momentum=0.9), metrics=['accuracy'])"
   ]
  },
  {
   "cell_type": "code",
   "execution_count": 108,
   "id": "c5f97a16-8cb2-43a6-b7c7-2d41093cb832",
   "metadata": {},
   "outputs": [],
   "source": [
    "# Define the ModelCheckpoint callback\n",
    "checkpoint_filepath ='C:\\\\Users\\\\Ojumu PC'\n",
    "model_checkpoint_callback = tf.keras.callbacks.ModelCheckpoint(\n",
    "    filepath=checkpoint_filepath,\n",
    "    save_best_only=True,\n",
    "    monitor='val_accuracy',  \n",
    "    mode='max', \n",
    ")"
   ]
  },
  {
   "cell_type": "markdown",
   "id": "954eaaa1-97ec-43cb-80eb-91a7928c11c4",
   "metadata": {},
   "source": [
    "### Train your model with the ModelCheckpoint callback"
   ]
  },
  {
   "cell_type": "code",
   "execution_count": 109,
   "id": "d341186f-e05a-4520-bd27-03ab589be76c",
   "metadata": {},
   "outputs": [
    {
     "data": {
      "text/plain": [
       "0         3\n",
       "1         3\n",
       "2         3\n",
       "3         2\n",
       "4         2\n",
       "         ..\n",
       "378357    2\n",
       "378358    2\n",
       "378359    3\n",
       "378360    2\n",
       "378361    2\n",
       "Name: accident_severity, Length: 378362, dtype: int64"
      ]
     },
     "execution_count": 109,
     "metadata": {},
     "output_type": "execute_result"
    }
   ],
   "source": [
    "y"
   ]
  },
  {
   "cell_type": "code",
   "execution_count": 110,
   "id": "0e9bf128-644a-4531-8591-92058c597320",
   "metadata": {},
   "outputs": [
    {
     "name": "stdout",
     "output_type": "stream",
     "text": [
      "Epoch 1/100\n",
      "1204/1204 [==============================] - ETA: 0s - loss: 0.6515 - accuracy: 0.7330"
     ]
    },
    {
     "name": "stderr",
     "output_type": "stream",
     "text": [
      "WARNING:absl:Found untraced functions such as _jit_compiled_convolution_op, _jit_compiled_convolution_op, lstm_cell_layer_call_fn, lstm_cell_layer_call_and_return_conditional_losses, lstm_cell_1_layer_call_fn while saving (showing 5 of 6). These functions will not be directly callable after loading.\n"
     ]
    },
    {
     "name": "stdout",
     "output_type": "stream",
     "text": [
      "INFO:tensorflow:Assets written to: C:\\Users\\Ojumu PC\\assets\n"
     ]
    },
    {
     "name": "stderr",
     "output_type": "stream",
     "text": [
      "INFO:tensorflow:Assets written to: C:\\Users\\Ojumu PC\\assets\n"
     ]
    },
    {
     "name": "stdout",
     "output_type": "stream",
     "text": [
      "1204/1204 [==============================] - 111s 85ms/step - loss: 0.6515 - accuracy: 0.7330 - val_loss: 0.6431 - val_accuracy: 0.7309\n",
      "Epoch 2/100\n",
      "1203/1204 [============================>.] - ETA: 0s - loss: 0.6217 - accuracy: 0.7456"
     ]
    },
    {
     "name": "stderr",
     "output_type": "stream",
     "text": [
      "WARNING:absl:Found untraced functions such as _jit_compiled_convolution_op, _jit_compiled_convolution_op, lstm_cell_layer_call_fn, lstm_cell_layer_call_and_return_conditional_losses, lstm_cell_1_layer_call_fn while saving (showing 5 of 6). These functions will not be directly callable after loading.\n"
     ]
    },
    {
     "name": "stdout",
     "output_type": "stream",
     "text": [
      "INFO:tensorflow:Assets written to: C:\\Users\\Ojumu PC\\assets\n"
     ]
    },
    {
     "name": "stderr",
     "output_type": "stream",
     "text": [
      "INFO:tensorflow:Assets written to: C:\\Users\\Ojumu PC\\assets\n"
     ]
    },
    {
     "name": "stdout",
     "output_type": "stream",
     "text": [
      "1204/1204 [==============================] - 98s 82ms/step - loss: 0.6217 - accuracy: 0.7456 - val_loss: 0.6434 - val_accuracy: 0.7424\n",
      "Epoch 3/100\n",
      "1204/1204 [==============================] - 63s 52ms/step - loss: 0.6089 - accuracy: 0.7512 - val_loss: 0.6268 - val_accuracy: 0.7411\n",
      "Epoch 4/100\n",
      "1204/1204 [==============================] - ETA: 0s - loss: 0.6005 - accuracy: 0.7549"
     ]
    },
    {
     "name": "stderr",
     "output_type": "stream",
     "text": [
      "WARNING:absl:Found untraced functions such as _jit_compiled_convolution_op, _jit_compiled_convolution_op, lstm_cell_layer_call_fn, lstm_cell_layer_call_and_return_conditional_losses, lstm_cell_1_layer_call_fn while saving (showing 5 of 6). These functions will not be directly callable after loading.\n"
     ]
    },
    {
     "name": "stdout",
     "output_type": "stream",
     "text": [
      "INFO:tensorflow:Assets written to: C:\\Users\\Ojumu PC\\assets\n"
     ]
    },
    {
     "name": "stderr",
     "output_type": "stream",
     "text": [
      "INFO:tensorflow:Assets written to: C:\\Users\\Ojumu PC\\assets\n"
     ]
    },
    {
     "name": "stdout",
     "output_type": "stream",
     "text": [
      "1204/1204 [==============================] - 99s 82ms/step - loss: 0.6005 - accuracy: 0.7549 - val_loss: 0.6300 - val_accuracy: 0.7452\n",
      "Epoch 5/100\n",
      "1203/1204 [============================>.] - ETA: 0s - loss: 0.5932 - accuracy: 0.7581"
     ]
    },
    {
     "name": "stderr",
     "output_type": "stream",
     "text": [
      "WARNING:absl:Found untraced functions such as _jit_compiled_convolution_op, _jit_compiled_convolution_op, lstm_cell_layer_call_fn, lstm_cell_layer_call_and_return_conditional_losses, lstm_cell_1_layer_call_fn while saving (showing 5 of 6). These functions will not be directly callable after loading.\n"
     ]
    },
    {
     "name": "stdout",
     "output_type": "stream",
     "text": [
      "INFO:tensorflow:Assets written to: C:\\Users\\Ojumu PC\\assets\n"
     ]
    },
    {
     "name": "stderr",
     "output_type": "stream",
     "text": [
      "INFO:tensorflow:Assets written to: C:\\Users\\Ojumu PC\\assets\n"
     ]
    },
    {
     "name": "stdout",
     "output_type": "stream",
     "text": [
      "1204/1204 [==============================] - 99s 82ms/step - loss: 0.5932 - accuracy: 0.7581 - val_loss: 0.5999 - val_accuracy: 0.7529\n",
      "Epoch 6/100\n",
      "1203/1204 [============================>.] - ETA: 0s - loss: 0.5868 - accuracy: 0.7612"
     ]
    },
    {
     "name": "stderr",
     "output_type": "stream",
     "text": [
      "WARNING:absl:Found untraced functions such as _jit_compiled_convolution_op, _jit_compiled_convolution_op, lstm_cell_layer_call_fn, lstm_cell_layer_call_and_return_conditional_losses, lstm_cell_1_layer_call_fn while saving (showing 5 of 6). These functions will not be directly callable after loading.\n"
     ]
    },
    {
     "name": "stdout",
     "output_type": "stream",
     "text": [
      "INFO:tensorflow:Assets written to: C:\\Users\\Ojumu PC\\assets\n"
     ]
    },
    {
     "name": "stderr",
     "output_type": "stream",
     "text": [
      "INFO:tensorflow:Assets written to: C:\\Users\\Ojumu PC\\assets\n"
     ]
    },
    {
     "name": "stdout",
     "output_type": "stream",
     "text": [
      "1204/1204 [==============================] - 98s 82ms/step - loss: 0.5868 - accuracy: 0.7612 - val_loss: 0.5979 - val_accuracy: 0.7538\n",
      "Epoch 7/100\n",
      "1204/1204 [==============================] - ETA: 0s - loss: 0.5820 - accuracy: 0.7633"
     ]
    },
    {
     "name": "stderr",
     "output_type": "stream",
     "text": [
      "WARNING:absl:Found untraced functions such as _jit_compiled_convolution_op, _jit_compiled_convolution_op, lstm_cell_layer_call_fn, lstm_cell_layer_call_and_return_conditional_losses, lstm_cell_1_layer_call_fn while saving (showing 5 of 6). These functions will not be directly callable after loading.\n"
     ]
    },
    {
     "name": "stdout",
     "output_type": "stream",
     "text": [
      "INFO:tensorflow:Assets written to: C:\\Users\\Ojumu PC\\assets\n"
     ]
    },
    {
     "name": "stderr",
     "output_type": "stream",
     "text": [
      "INFO:tensorflow:Assets written to: C:\\Users\\Ojumu PC\\assets\n"
     ]
    },
    {
     "name": "stdout",
     "output_type": "stream",
     "text": [
      "1204/1204 [==============================] - 97s 80ms/step - loss: 0.5820 - accuracy: 0.7633 - val_loss: 0.5958 - val_accuracy: 0.7572\n",
      "Epoch 8/100\n",
      "1204/1204 [==============================] - 62s 52ms/step - loss: 0.5764 - accuracy: 0.7656 - val_loss: 0.5906 - val_accuracy: 0.7556\n",
      "Epoch 9/100\n",
      "1203/1204 [============================>.] - ETA: 0s - loss: 0.5733 - accuracy: 0.7665"
     ]
    },
    {
     "name": "stderr",
     "output_type": "stream",
     "text": [
      "WARNING:absl:Found untraced functions such as _jit_compiled_convolution_op, _jit_compiled_convolution_op, lstm_cell_layer_call_fn, lstm_cell_layer_call_and_return_conditional_losses, lstm_cell_1_layer_call_fn while saving (showing 5 of 6). These functions will not be directly callable after loading.\n"
     ]
    },
    {
     "name": "stdout",
     "output_type": "stream",
     "text": [
      "INFO:tensorflow:Assets written to: C:\\Users\\Ojumu PC\\assets\n"
     ]
    },
    {
     "name": "stderr",
     "output_type": "stream",
     "text": [
      "INFO:tensorflow:Assets written to: C:\\Users\\Ojumu PC\\assets\n"
     ]
    },
    {
     "name": "stdout",
     "output_type": "stream",
     "text": [
      "1204/1204 [==============================] - 97s 81ms/step - loss: 0.5733 - accuracy: 0.7665 - val_loss: 0.5736 - val_accuracy: 0.7667\n",
      "Epoch 10/100\n",
      "1204/1204 [==============================] - ETA: 0s - loss: 0.5673 - accuracy: 0.7700"
     ]
    },
    {
     "name": "stderr",
     "output_type": "stream",
     "text": [
      "WARNING:absl:Found untraced functions such as _jit_compiled_convolution_op, _jit_compiled_convolution_op, lstm_cell_layer_call_fn, lstm_cell_layer_call_and_return_conditional_losses, lstm_cell_1_layer_call_fn while saving (showing 5 of 6). These functions will not be directly callable after loading.\n"
     ]
    },
    {
     "name": "stdout",
     "output_type": "stream",
     "text": [
      "INFO:tensorflow:Assets written to: C:\\Users\\Ojumu PC\\assets\n"
     ]
    },
    {
     "name": "stderr",
     "output_type": "stream",
     "text": [
      "INFO:tensorflow:Assets written to: C:\\Users\\Ojumu PC\\assets\n"
     ]
    },
    {
     "name": "stdout",
     "output_type": "stream",
     "text": [
      "1204/1204 [==============================] - 98s 81ms/step - loss: 0.5673 - accuracy: 0.7700 - val_loss: 0.5663 - val_accuracy: 0.7692\n",
      "Epoch 11/100\n",
      "1204/1204 [==============================] - 66s 55ms/step - loss: 0.5635 - accuracy: 0.7710 - val_loss: 0.5959 - val_accuracy: 0.7632\n",
      "Epoch 12/100\n",
      "1203/1204 [============================>.] - ETA: 0s - loss: 0.5589 - accuracy: 0.7736"
     ]
    },
    {
     "name": "stderr",
     "output_type": "stream",
     "text": [
      "WARNING:absl:Found untraced functions such as _jit_compiled_convolution_op, _jit_compiled_convolution_op, lstm_cell_layer_call_fn, lstm_cell_layer_call_and_return_conditional_losses, lstm_cell_1_layer_call_fn while saving (showing 5 of 6). These functions will not be directly callable after loading.\n"
     ]
    },
    {
     "name": "stdout",
     "output_type": "stream",
     "text": [
      "INFO:tensorflow:Assets written to: C:\\Users\\Ojumu PC\\assets\n"
     ]
    },
    {
     "name": "stderr",
     "output_type": "stream",
     "text": [
      "INFO:tensorflow:Assets written to: C:\\Users\\Ojumu PC\\assets\n"
     ]
    },
    {
     "name": "stdout",
     "output_type": "stream",
     "text": [
      "1204/1204 [==============================] - 100s 83ms/step - loss: 0.5589 - accuracy: 0.7736 - val_loss: 0.5634 - val_accuracy: 0.7705\n",
      "Epoch 13/100\n",
      "1204/1204 [==============================] - 63s 52ms/step - loss: 0.5538 - accuracy: 0.7761 - val_loss: 0.5721 - val_accuracy: 0.7698\n",
      "Epoch 14/100\n",
      "1203/1204 [============================>.] - ETA: 0s - loss: 0.5503 - accuracy: 0.7776"
     ]
    },
    {
     "name": "stderr",
     "output_type": "stream",
     "text": [
      "WARNING:absl:Found untraced functions such as _jit_compiled_convolution_op, _jit_compiled_convolution_op, lstm_cell_layer_call_fn, lstm_cell_layer_call_and_return_conditional_losses, lstm_cell_1_layer_call_fn while saving (showing 5 of 6). These functions will not be directly callable after loading.\n"
     ]
    },
    {
     "name": "stdout",
     "output_type": "stream",
     "text": [
      "INFO:tensorflow:Assets written to: C:\\Users\\Ojumu PC\\assets\n"
     ]
    },
    {
     "name": "stderr",
     "output_type": "stream",
     "text": [
      "INFO:tensorflow:Assets written to: C:\\Users\\Ojumu PC\\assets\n"
     ]
    },
    {
     "name": "stdout",
     "output_type": "stream",
     "text": [
      "1204/1204 [==============================] - 98s 81ms/step - loss: 0.5503 - accuracy: 0.7776 - val_loss: 0.5589 - val_accuracy: 0.7715\n",
      "Epoch 15/100\n",
      "1204/1204 [==============================] - 63s 52ms/step - loss: 0.5469 - accuracy: 0.7792 - val_loss: 0.5773 - val_accuracy: 0.7621\n",
      "Epoch 16/100\n",
      "1204/1204 [==============================] - 64s 53ms/step - loss: 0.5431 - accuracy: 0.7813 - val_loss: 0.5764 - val_accuracy: 0.7627\n",
      "Epoch 17/100\n",
      "1204/1204 [==============================] - ETA: 0s - loss: 0.5396 - accuracy: 0.7828"
     ]
    },
    {
     "name": "stderr",
     "output_type": "stream",
     "text": [
      "WARNING:absl:Found untraced functions such as _jit_compiled_convolution_op, _jit_compiled_convolution_op, lstm_cell_layer_call_fn, lstm_cell_layer_call_and_return_conditional_losses, lstm_cell_1_layer_call_fn while saving (showing 5 of 6). These functions will not be directly callable after loading.\n"
     ]
    },
    {
     "name": "stdout",
     "output_type": "stream",
     "text": [
      "INFO:tensorflow:Assets written to: C:\\Users\\Ojumu PC\\assets\n"
     ]
    },
    {
     "name": "stderr",
     "output_type": "stream",
     "text": [
      "INFO:tensorflow:Assets written to: C:\\Users\\Ojumu PC\\assets\n"
     ]
    },
    {
     "name": "stdout",
     "output_type": "stream",
     "text": [
      "1204/1204 [==============================] - 112s 93ms/step - loss: 0.5396 - accuracy: 0.7828 - val_loss: 0.5560 - val_accuracy: 0.7769\n",
      "Epoch 18/100\n",
      "1204/1204 [==============================] - 71s 59ms/step - loss: 0.5364 - accuracy: 0.7837 - val_loss: 0.5670 - val_accuracy: 0.7694\n",
      "Epoch 19/100\n",
      "1203/1204 [============================>.] - ETA: 0s - loss: 0.5326 - accuracy: 0.7864"
     ]
    },
    {
     "name": "stderr",
     "output_type": "stream",
     "text": [
      "WARNING:absl:Found untraced functions such as _jit_compiled_convolution_op, _jit_compiled_convolution_op, lstm_cell_layer_call_fn, lstm_cell_layer_call_and_return_conditional_losses, lstm_cell_1_layer_call_fn while saving (showing 5 of 6). These functions will not be directly callable after loading.\n"
     ]
    },
    {
     "name": "stdout",
     "output_type": "stream",
     "text": [
      "INFO:tensorflow:Assets written to: C:\\Users\\Ojumu PC\\assets\n"
     ]
    },
    {
     "name": "stderr",
     "output_type": "stream",
     "text": [
      "INFO:tensorflow:Assets written to: C:\\Users\\Ojumu PC\\assets\n"
     ]
    },
    {
     "name": "stdout",
     "output_type": "stream",
     "text": [
      "1204/1204 [==============================] - 105s 87ms/step - loss: 0.5326 - accuracy: 0.7864 - val_loss: 0.5351 - val_accuracy: 0.7836\n",
      "Epoch 20/100\n",
      "1204/1204 [==============================] - 65s 54ms/step - loss: 0.5303 - accuracy: 0.7871 - val_loss: 0.5426 - val_accuracy: 0.7816\n",
      "Epoch 21/100\n",
      "1204/1204 [==============================] - 66s 55ms/step - loss: 0.5262 - accuracy: 0.7888 - val_loss: 0.5355 - val_accuracy: 0.7835\n",
      "Epoch 22/100\n",
      "1204/1204 [==============================] - 67s 55ms/step - loss: 0.5228 - accuracy: 0.7910 - val_loss: 0.5814 - val_accuracy: 0.7655\n",
      "Epoch 23/100\n",
      "1203/1204 [============================>.] - ETA: 0s - loss: 0.5202 - accuracy: 0.7921"
     ]
    },
    {
     "name": "stderr",
     "output_type": "stream",
     "text": [
      "WARNING:absl:Found untraced functions such as _jit_compiled_convolution_op, _jit_compiled_convolution_op, lstm_cell_layer_call_fn, lstm_cell_layer_call_and_return_conditional_losses, lstm_cell_1_layer_call_fn while saving (showing 5 of 6). These functions will not be directly callable after loading.\n"
     ]
    },
    {
     "name": "stdout",
     "output_type": "stream",
     "text": [
      "INFO:tensorflow:Assets written to: C:\\Users\\Ojumu PC\\assets\n"
     ]
    },
    {
     "name": "stderr",
     "output_type": "stream",
     "text": [
      "INFO:tensorflow:Assets written to: C:\\Users\\Ojumu PC\\assets\n"
     ]
    },
    {
     "name": "stdout",
     "output_type": "stream",
     "text": [
      "1204/1204 [==============================] - 102s 85ms/step - loss: 0.5202 - accuracy: 0.7921 - val_loss: 0.5313 - val_accuracy: 0.7900\n",
      "Epoch 24/100\n",
      "1204/1204 [==============================] - 67s 56ms/step - loss: 0.5179 - accuracy: 0.7928 - val_loss: 0.5360 - val_accuracy: 0.7897\n",
      "Epoch 25/100\n",
      "1204/1204 [==============================] - 65s 54ms/step - loss: 0.5134 - accuracy: 0.7949 - val_loss: 0.5379 - val_accuracy: 0.7837\n",
      "Epoch 26/100\n",
      "1204/1204 [==============================] - 65s 54ms/step - loss: 0.5122 - accuracy: 0.7956 - val_loss: 0.5548 - val_accuracy: 0.7798\n",
      "Epoch 27/100\n",
      "1204/1204 [==============================] - ETA: 0s - loss: 0.5099 - accuracy: 0.7968"
     ]
    },
    {
     "name": "stderr",
     "output_type": "stream",
     "text": [
      "WARNING:absl:Found untraced functions such as _jit_compiled_convolution_op, _jit_compiled_convolution_op, lstm_cell_layer_call_fn, lstm_cell_layer_call_and_return_conditional_losses, lstm_cell_1_layer_call_fn while saving (showing 5 of 6). These functions will not be directly callable after loading.\n"
     ]
    },
    {
     "name": "stdout",
     "output_type": "stream",
     "text": [
      "INFO:tensorflow:Assets written to: C:\\Users\\Ojumu PC\\assets\n"
     ]
    },
    {
     "name": "stderr",
     "output_type": "stream",
     "text": [
      "INFO:tensorflow:Assets written to: C:\\Users\\Ojumu PC\\assets\n"
     ]
    },
    {
     "name": "stdout",
     "output_type": "stream",
     "text": [
      "1204/1204 [==============================] - 103s 86ms/step - loss: 0.5099 - accuracy: 0.7968 - val_loss: 0.5306 - val_accuracy: 0.7926\n",
      "Epoch 28/100\n",
      "1204/1204 [==============================] - 67s 55ms/step - loss: 0.5068 - accuracy: 0.7983 - val_loss: 0.5335 - val_accuracy: 0.7876\n",
      "Epoch 29/100\n",
      "1204/1204 [==============================] - ETA: 0s - loss: 0.5039 - accuracy: 0.7987"
     ]
    },
    {
     "name": "stderr",
     "output_type": "stream",
     "text": [
      "WARNING:absl:Found untraced functions such as _jit_compiled_convolution_op, _jit_compiled_convolution_op, lstm_cell_layer_call_fn, lstm_cell_layer_call_and_return_conditional_losses, lstm_cell_1_layer_call_fn while saving (showing 5 of 6). These functions will not be directly callable after loading.\n"
     ]
    },
    {
     "name": "stdout",
     "output_type": "stream",
     "text": [
      "INFO:tensorflow:Assets written to: C:\\Users\\Ojumu PC\\assets\n"
     ]
    },
    {
     "name": "stderr",
     "output_type": "stream",
     "text": [
      "INFO:tensorflow:Assets written to: C:\\Users\\Ojumu PC\\assets\n"
     ]
    },
    {
     "name": "stdout",
     "output_type": "stream",
     "text": [
      "1204/1204 [==============================] - 101s 84ms/step - loss: 0.5039 - accuracy: 0.7987 - val_loss: 0.5116 - val_accuracy: 0.7963\n",
      "Epoch 30/100\n",
      "1204/1204 [==============================] - 65s 54ms/step - loss: 0.5013 - accuracy: 0.8001 - val_loss: 0.5284 - val_accuracy: 0.7914\n",
      "Epoch 31/100\n",
      "1203/1204 [============================>.] - ETA: 0s - loss: 0.4991 - accuracy: 0.8011"
     ]
    },
    {
     "name": "stderr",
     "output_type": "stream",
     "text": [
      "WARNING:absl:Found untraced functions such as _jit_compiled_convolution_op, _jit_compiled_convolution_op, lstm_cell_layer_call_fn, lstm_cell_layer_call_and_return_conditional_losses, lstm_cell_1_layer_call_fn while saving (showing 5 of 6). These functions will not be directly callable after loading.\n"
     ]
    },
    {
     "name": "stdout",
     "output_type": "stream",
     "text": [
      "INFO:tensorflow:Assets written to: C:\\Users\\Ojumu PC\\assets\n"
     ]
    },
    {
     "name": "stderr",
     "output_type": "stream",
     "text": [
      "INFO:tensorflow:Assets written to: C:\\Users\\Ojumu PC\\assets\n"
     ]
    },
    {
     "name": "stdout",
     "output_type": "stream",
     "text": [
      "1204/1204 [==============================] - 103s 85ms/step - loss: 0.4991 - accuracy: 0.8011 - val_loss: 0.5123 - val_accuracy: 0.7980\n",
      "Epoch 32/100\n",
      "1204/1204 [==============================] - ETA: 0s - loss: 0.4969 - accuracy: 0.8024"
     ]
    },
    {
     "name": "stderr",
     "output_type": "stream",
     "text": [
      "WARNING:absl:Found untraced functions such as _jit_compiled_convolution_op, _jit_compiled_convolution_op, lstm_cell_layer_call_fn, lstm_cell_layer_call_and_return_conditional_losses, lstm_cell_1_layer_call_fn while saving (showing 5 of 6). These functions will not be directly callable after loading.\n"
     ]
    },
    {
     "name": "stdout",
     "output_type": "stream",
     "text": [
      "INFO:tensorflow:Assets written to: C:\\Users\\Ojumu PC\\assets\n"
     ]
    },
    {
     "name": "stderr",
     "output_type": "stream",
     "text": [
      "INFO:tensorflow:Assets written to: C:\\Users\\Ojumu PC\\assets\n"
     ]
    },
    {
     "name": "stdout",
     "output_type": "stream",
     "text": [
      "1204/1204 [==============================] - 103s 85ms/step - loss: 0.4969 - accuracy: 0.8024 - val_loss: 0.5048 - val_accuracy: 0.8015\n",
      "Epoch 33/100\n",
      "1204/1204 [==============================] - 67s 56ms/step - loss: 0.4939 - accuracy: 0.8028 - val_loss: 0.5028 - val_accuracy: 0.7998\n",
      "Epoch 34/100\n",
      "1203/1204 [============================>.] - ETA: 0s - loss: 0.4927 - accuracy: 0.8042"
     ]
    },
    {
     "name": "stderr",
     "output_type": "stream",
     "text": [
      "WARNING:absl:Found untraced functions such as _jit_compiled_convolution_op, _jit_compiled_convolution_op, lstm_cell_layer_call_fn, lstm_cell_layer_call_and_return_conditional_losses, lstm_cell_1_layer_call_fn while saving (showing 5 of 6). These functions will not be directly callable after loading.\n"
     ]
    },
    {
     "name": "stdout",
     "output_type": "stream",
     "text": [
      "INFO:tensorflow:Assets written to: C:\\Users\\Ojumu PC\\assets\n"
     ]
    },
    {
     "name": "stderr",
     "output_type": "stream",
     "text": [
      "INFO:tensorflow:Assets written to: C:\\Users\\Ojumu PC\\assets\n"
     ]
    },
    {
     "name": "stdout",
     "output_type": "stream",
     "text": [
      "1204/1204 [==============================] - 103s 86ms/step - loss: 0.4927 - accuracy: 0.8042 - val_loss: 0.5010 - val_accuracy: 0.8051\n",
      "Epoch 35/100\n",
      "1204/1204 [==============================] - 66s 55ms/step - loss: 0.4895 - accuracy: 0.8052 - val_loss: 0.4964 - val_accuracy: 0.8028\n",
      "Epoch 36/100\n",
      "1204/1204 [==============================] - 65s 54ms/step - loss: 0.4879 - accuracy: 0.8061 - val_loss: 0.5320 - val_accuracy: 0.7838\n",
      "Epoch 37/100\n",
      "1204/1204 [==============================] - 65s 54ms/step - loss: 0.4863 - accuracy: 0.8069 - val_loss: 0.4983 - val_accuracy: 0.8037\n",
      "Epoch 38/100\n",
      "1204/1204 [==============================] - 65s 54ms/step - loss: 0.4838 - accuracy: 0.8079 - val_loss: 0.5054 - val_accuracy: 0.7966\n",
      "Epoch 39/100\n",
      "1204/1204 [==============================] - ETA: 0s - loss: 0.4825 - accuracy: 0.8087"
     ]
    },
    {
     "name": "stderr",
     "output_type": "stream",
     "text": [
      "WARNING:absl:Found untraced functions such as _jit_compiled_convolution_op, _jit_compiled_convolution_op, lstm_cell_layer_call_fn, lstm_cell_layer_call_and_return_conditional_losses, lstm_cell_1_layer_call_fn while saving (showing 5 of 6). These functions will not be directly callable after loading.\n"
     ]
    },
    {
     "name": "stdout",
     "output_type": "stream",
     "text": [
      "INFO:tensorflow:Assets written to: C:\\Users\\Ojumu PC\\assets\n"
     ]
    },
    {
     "name": "stderr",
     "output_type": "stream",
     "text": [
      "INFO:tensorflow:Assets written to: C:\\Users\\Ojumu PC\\assets\n"
     ]
    },
    {
     "name": "stdout",
     "output_type": "stream",
     "text": [
      "1204/1204 [==============================] - 104s 86ms/step - loss: 0.4825 - accuracy: 0.8087 - val_loss: 0.4900 - val_accuracy: 0.8057\n",
      "Epoch 40/100\n",
      "1204/1204 [==============================] - ETA: 0s - loss: 0.4803 - accuracy: 0.8100"
     ]
    },
    {
     "name": "stderr",
     "output_type": "stream",
     "text": [
      "WARNING:absl:Found untraced functions such as _jit_compiled_convolution_op, _jit_compiled_convolution_op, lstm_cell_layer_call_fn, lstm_cell_layer_call_and_return_conditional_losses, lstm_cell_1_layer_call_fn while saving (showing 5 of 6). These functions will not be directly callable after loading.\n"
     ]
    },
    {
     "name": "stdout",
     "output_type": "stream",
     "text": [
      "INFO:tensorflow:Assets written to: C:\\Users\\Ojumu PC\\assets\n"
     ]
    },
    {
     "name": "stderr",
     "output_type": "stream",
     "text": [
      "INFO:tensorflow:Assets written to: C:\\Users\\Ojumu PC\\assets\n"
     ]
    },
    {
     "name": "stdout",
     "output_type": "stream",
     "text": [
      "1204/1204 [==============================] - 99s 83ms/step - loss: 0.4803 - accuracy: 0.8100 - val_loss: 0.4895 - val_accuracy: 0.8075\n",
      "Epoch 41/100\n",
      "1204/1204 [==============================] - 65s 54ms/step - loss: 0.4775 - accuracy: 0.8105 - val_loss: 0.4993 - val_accuracy: 0.7996\n",
      "Epoch 42/100\n",
      "1204/1204 [==============================] - ETA: 0s - loss: 0.4769 - accuracy: 0.8107"
     ]
    },
    {
     "name": "stderr",
     "output_type": "stream",
     "text": [
      "WARNING:absl:Found untraced functions such as _jit_compiled_convolution_op, _jit_compiled_convolution_op, lstm_cell_layer_call_fn, lstm_cell_layer_call_and_return_conditional_losses, lstm_cell_1_layer_call_fn while saving (showing 5 of 6). These functions will not be directly callable after loading.\n"
     ]
    },
    {
     "name": "stdout",
     "output_type": "stream",
     "text": [
      "INFO:tensorflow:Assets written to: C:\\Users\\Ojumu PC\\assets\n"
     ]
    },
    {
     "name": "stderr",
     "output_type": "stream",
     "text": [
      "INFO:tensorflow:Assets written to: C:\\Users\\Ojumu PC\\assets\n"
     ]
    },
    {
     "name": "stdout",
     "output_type": "stream",
     "text": [
      "1204/1204 [==============================] - 100s 83ms/step - loss: 0.4769 - accuracy: 0.8107 - val_loss: 0.4892 - val_accuracy: 0.8090\n",
      "Epoch 43/100\n",
      "1204/1204 [==============================] - 66s 55ms/step - loss: 0.4753 - accuracy: 0.8112 - val_loss: 0.5202 - val_accuracy: 0.7969\n",
      "Epoch 44/100\n",
      "1203/1204 [============================>.] - ETA: 0s - loss: 0.4732 - accuracy: 0.8125"
     ]
    },
    {
     "name": "stderr",
     "output_type": "stream",
     "text": [
      "WARNING:absl:Found untraced functions such as _jit_compiled_convolution_op, _jit_compiled_convolution_op, lstm_cell_layer_call_fn, lstm_cell_layer_call_and_return_conditional_losses, lstm_cell_1_layer_call_fn while saving (showing 5 of 6). These functions will not be directly callable after loading.\n"
     ]
    },
    {
     "name": "stdout",
     "output_type": "stream",
     "text": [
      "INFO:tensorflow:Assets written to: C:\\Users\\Ojumu PC\\assets\n"
     ]
    },
    {
     "name": "stderr",
     "output_type": "stream",
     "text": [
      "INFO:tensorflow:Assets written to: C:\\Users\\Ojumu PC\\assets\n"
     ]
    },
    {
     "name": "stdout",
     "output_type": "stream",
     "text": [
      "1204/1204 [==============================] - 103s 86ms/step - loss: 0.4732 - accuracy: 0.8125 - val_loss: 0.4888 - val_accuracy: 0.8094\n",
      "Epoch 45/100\n",
      "1204/1204 [==============================] - 65s 54ms/step - loss: 0.4715 - accuracy: 0.8133 - val_loss: 0.4991 - val_accuracy: 0.7973\n",
      "Epoch 46/100\n",
      "1204/1204 [==============================] - ETA: 0s - loss: 0.4708 - accuracy: 0.8132"
     ]
    },
    {
     "name": "stderr",
     "output_type": "stream",
     "text": [
      "WARNING:absl:Found untraced functions such as _jit_compiled_convolution_op, _jit_compiled_convolution_op, lstm_cell_layer_call_fn, lstm_cell_layer_call_and_return_conditional_losses, lstm_cell_1_layer_call_fn while saving (showing 5 of 6). These functions will not be directly callable after loading.\n"
     ]
    },
    {
     "name": "stdout",
     "output_type": "stream",
     "text": [
      "INFO:tensorflow:Assets written to: C:\\Users\\Ojumu PC\\assets\n"
     ]
    },
    {
     "name": "stderr",
     "output_type": "stream",
     "text": [
      "INFO:tensorflow:Assets written to: C:\\Users\\Ojumu PC\\assets\n"
     ]
    },
    {
     "name": "stdout",
     "output_type": "stream",
     "text": [
      "1204/1204 [==============================] - 101s 84ms/step - loss: 0.4708 - accuracy: 0.8132 - val_loss: 0.4801 - val_accuracy: 0.8130\n",
      "Epoch 47/100\n",
      "1204/1204 [==============================] - 65s 54ms/step - loss: 0.4673 - accuracy: 0.8150 - val_loss: 0.4869 - val_accuracy: 0.8082\n",
      "Epoch 48/100\n",
      "1204/1204 [==============================] - 67s 56ms/step - loss: 0.4671 - accuracy: 0.8152 - val_loss: 0.4873 - val_accuracy: 0.8090\n",
      "Epoch 49/100\n",
      "1203/1204 [============================>.] - ETA: 0s - loss: 0.4662 - accuracy: 0.8158"
     ]
    },
    {
     "name": "stderr",
     "output_type": "stream",
     "text": [
      "WARNING:absl:Found untraced functions such as _jit_compiled_convolution_op, _jit_compiled_convolution_op, lstm_cell_layer_call_fn, lstm_cell_layer_call_and_return_conditional_losses, lstm_cell_1_layer_call_fn while saving (showing 5 of 6). These functions will not be directly callable after loading.\n"
     ]
    },
    {
     "name": "stdout",
     "output_type": "stream",
     "text": [
      "INFO:tensorflow:Assets written to: C:\\Users\\Ojumu PC\\assets\n"
     ]
    },
    {
     "name": "stderr",
     "output_type": "stream",
     "text": [
      "INFO:tensorflow:Assets written to: C:\\Users\\Ojumu PC\\assets\n"
     ]
    },
    {
     "name": "stdout",
     "output_type": "stream",
     "text": [
      "1204/1204 [==============================] - 102s 84ms/step - loss: 0.4662 - accuracy: 0.8158 - val_loss: 0.4768 - val_accuracy: 0.8143\n",
      "Epoch 50/100\n",
      "1204/1204 [==============================] - 67s 55ms/step - loss: 0.4650 - accuracy: 0.8160 - val_loss: 0.4794 - val_accuracy: 0.8101\n",
      "Epoch 51/100\n",
      "1204/1204 [==============================] - 68s 56ms/step - loss: 0.4633 - accuracy: 0.8173 - val_loss: 0.4847 - val_accuracy: 0.8093\n",
      "Epoch 52/100\n",
      "1204/1204 [==============================] - 70s 58ms/step - loss: 0.4613 - accuracy: 0.8173 - val_loss: 0.4811 - val_accuracy: 0.8140\n",
      "Epoch 53/100\n",
      "1204/1204 [==============================] - 70s 58ms/step - loss: 0.4607 - accuracy: 0.8170 - val_loss: 0.4858 - val_accuracy: 0.8110\n",
      "Epoch 54/100\n",
      "1204/1204 [==============================] - 72s 59ms/step - loss: 0.4595 - accuracy: 0.8181 - val_loss: 0.4810 - val_accuracy: 0.8111\n",
      "Epoch 55/100\n",
      "1204/1204 [==============================] - 71s 59ms/step - loss: 0.4572 - accuracy: 0.8190 - val_loss: 0.4785 - val_accuracy: 0.8106\n",
      "Epoch 56/100\n",
      "1204/1204 [==============================] - 72s 60ms/step - loss: 0.4570 - accuracy: 0.8192 - val_loss: 0.4747 - val_accuracy: 0.8112\n",
      "Epoch 57/100\n",
      "1204/1204 [==============================] - 73s 61ms/step - loss: 0.4547 - accuracy: 0.8194 - val_loss: 0.4720 - val_accuracy: 0.8136\n",
      "Epoch 58/100\n",
      "1204/1204 [==============================] - 73s 60ms/step - loss: 0.4544 - accuracy: 0.8209 - val_loss: 0.4747 - val_accuracy: 0.8132\n",
      "Epoch 59/100\n",
      "1203/1204 [============================>.] - ETA: 0s - loss: 0.4529 - accuracy: 0.8209"
     ]
    },
    {
     "name": "stderr",
     "output_type": "stream",
     "text": [
      "WARNING:absl:Found untraced functions such as _jit_compiled_convolution_op, _jit_compiled_convolution_op, lstm_cell_layer_call_fn, lstm_cell_layer_call_and_return_conditional_losses, lstm_cell_1_layer_call_fn while saving (showing 5 of 6). These functions will not be directly callable after loading.\n"
     ]
    },
    {
     "name": "stdout",
     "output_type": "stream",
     "text": [
      "INFO:tensorflow:Assets written to: C:\\Users\\Ojumu PC\\assets\n"
     ]
    },
    {
     "name": "stderr",
     "output_type": "stream",
     "text": [
      "INFO:tensorflow:Assets written to: C:\\Users\\Ojumu PC\\assets\n"
     ]
    },
    {
     "name": "stdout",
     "output_type": "stream",
     "text": [
      "1204/1204 [==============================] - 109s 91ms/step - loss: 0.4529 - accuracy: 0.8209 - val_loss: 0.4674 - val_accuracy: 0.8182\n",
      "Epoch 60/100\n",
      "1204/1204 [==============================] - 70s 58ms/step - loss: 0.4520 - accuracy: 0.8215 - val_loss: 0.4665 - val_accuracy: 0.8167\n",
      "Epoch 61/100\n",
      "1204/1204 [==============================] - 68s 56ms/step - loss: 0.4504 - accuracy: 0.8221 - val_loss: 0.4758 - val_accuracy: 0.8119\n",
      "Epoch 62/100\n",
      "1204/1204 [==============================] - ETA: 0s - loss: 0.4494 - accuracy: 0.8221"
     ]
    },
    {
     "name": "stderr",
     "output_type": "stream",
     "text": [
      "WARNING:absl:Found untraced functions such as _jit_compiled_convolution_op, _jit_compiled_convolution_op, lstm_cell_layer_call_fn, lstm_cell_layer_call_and_return_conditional_losses, lstm_cell_1_layer_call_fn while saving (showing 5 of 6). These functions will not be directly callable after loading.\n"
     ]
    },
    {
     "name": "stdout",
     "output_type": "stream",
     "text": [
      "INFO:tensorflow:Assets written to: C:\\Users\\Ojumu PC\\assets\n"
     ]
    },
    {
     "name": "stderr",
     "output_type": "stream",
     "text": [
      "INFO:tensorflow:Assets written to: C:\\Users\\Ojumu PC\\assets\n"
     ]
    },
    {
     "name": "stdout",
     "output_type": "stream",
     "text": [
      "1204/1204 [==============================] - 104s 86ms/step - loss: 0.4494 - accuracy: 0.8221 - val_loss: 0.4637 - val_accuracy: 0.8208\n",
      "Epoch 63/100\n",
      "1204/1204 [==============================] - 71s 59ms/step - loss: 0.4475 - accuracy: 0.8234 - val_loss: 0.4731 - val_accuracy: 0.8148\n",
      "Epoch 64/100\n",
      "1204/1204 [==============================] - 72s 60ms/step - loss: 0.4462 - accuracy: 0.8230 - val_loss: 0.4695 - val_accuracy: 0.8155\n",
      "Epoch 65/100\n",
      "1204/1204 [==============================] - 72s 60ms/step - loss: 0.4452 - accuracy: 0.8244 - val_loss: 0.4648 - val_accuracy: 0.8207\n",
      "Epoch 66/100\n",
      "1203/1204 [============================>.] - ETA: 0s - loss: 0.4458 - accuracy: 0.8231"
     ]
    },
    {
     "name": "stderr",
     "output_type": "stream",
     "text": [
      "WARNING:absl:Found untraced functions such as _jit_compiled_convolution_op, _jit_compiled_convolution_op, lstm_cell_layer_call_fn, lstm_cell_layer_call_and_return_conditional_losses, lstm_cell_1_layer_call_fn while saving (showing 5 of 6). These functions will not be directly callable after loading.\n"
     ]
    },
    {
     "name": "stdout",
     "output_type": "stream",
     "text": [
      "INFO:tensorflow:Assets written to: C:\\Users\\Ojumu PC\\assets\n"
     ]
    },
    {
     "name": "stderr",
     "output_type": "stream",
     "text": [
      "INFO:tensorflow:Assets written to: C:\\Users\\Ojumu PC\\assets\n"
     ]
    },
    {
     "name": "stdout",
     "output_type": "stream",
     "text": [
      "1204/1204 [==============================] - 113s 94ms/step - loss: 0.4457 - accuracy: 0.8231 - val_loss: 0.4630 - val_accuracy: 0.8221\n",
      "Epoch 67/100\n",
      "1204/1204 [==============================] - 72s 60ms/step - loss: 0.4437 - accuracy: 0.8244 - val_loss: 0.4689 - val_accuracy: 0.8167\n",
      "Epoch 68/100\n",
      "1204/1204 [==============================] - 72s 60ms/step - loss: 0.4429 - accuracy: 0.8251 - val_loss: 0.4610 - val_accuracy: 0.8167\n",
      "Epoch 69/100\n",
      "1204/1204 [==============================] - 74s 62ms/step - loss: 0.4430 - accuracy: 0.8246 - val_loss: 0.4648 - val_accuracy: 0.8183\n",
      "Epoch 70/100\n",
      "1204/1204 [==============================] - 74s 62ms/step - loss: 0.4416 - accuracy: 0.8257 - val_loss: 0.4662 - val_accuracy: 0.8183\n",
      "Epoch 72/100\n",
      "1204/1204 [==============================] - 72s 60ms/step - loss: 0.4394 - accuracy: 0.8261 - val_loss: 0.4597 - val_accuracy: 0.8195\n",
      "Epoch 73/100\n",
      "1204/1204 [==============================] - ETA: 0s - loss: 0.4387 - accuracy: 0.8266"
     ]
    },
    {
     "name": "stderr",
     "output_type": "stream",
     "text": [
      "WARNING:absl:Found untraced functions such as _jit_compiled_convolution_op, _jit_compiled_convolution_op, lstm_cell_layer_call_fn, lstm_cell_layer_call_and_return_conditional_losses, lstm_cell_1_layer_call_fn while saving (showing 5 of 6). These functions will not be directly callable after loading.\n"
     ]
    },
    {
     "name": "stdout",
     "output_type": "stream",
     "text": [
      "INFO:tensorflow:Assets written to: C:\\Users\\Ojumu PC\\assets\n"
     ]
    },
    {
     "name": "stderr",
     "output_type": "stream",
     "text": [
      "INFO:tensorflow:Assets written to: C:\\Users\\Ojumu PC\\assets\n"
     ]
    },
    {
     "name": "stdout",
     "output_type": "stream",
     "text": [
      "1204/1204 [==============================] - 118s 98ms/step - loss: 0.4387 - accuracy: 0.8266 - val_loss: 0.4573 - val_accuracy: 0.8225\n",
      "Epoch 74/100\n",
      "1203/1204 [============================>.] - ETA: 0s - loss: 0.4369 - accuracy: 0.8278"
     ]
    },
    {
     "name": "stderr",
     "output_type": "stream",
     "text": [
      "WARNING:absl:Found untraced functions such as _jit_compiled_convolution_op, _jit_compiled_convolution_op, lstm_cell_layer_call_fn, lstm_cell_layer_call_and_return_conditional_losses, lstm_cell_1_layer_call_fn while saving (showing 5 of 6). These functions will not be directly callable after loading.\n"
     ]
    },
    {
     "name": "stdout",
     "output_type": "stream",
     "text": [
      "INFO:tensorflow:Assets written to: C:\\Users\\Ojumu PC\\assets\n"
     ]
    },
    {
     "name": "stderr",
     "output_type": "stream",
     "text": [
      "INFO:tensorflow:Assets written to: C:\\Users\\Ojumu PC\\assets\n"
     ]
    },
    {
     "name": "stdout",
     "output_type": "stream",
     "text": [
      "1204/1204 [==============================] - 108s 90ms/step - loss: 0.4369 - accuracy: 0.8278 - val_loss: 0.4533 - val_accuracy: 0.8254\n",
      "Epoch 75/100\n",
      "1204/1204 [==============================] - 68s 56ms/step - loss: 0.4370 - accuracy: 0.8273 - val_loss: 0.4562 - val_accuracy: 0.8226\n",
      "Epoch 76/100\n",
      "1204/1204 [==============================] - 67s 56ms/step - loss: 0.4358 - accuracy: 0.8277 - val_loss: 0.4536 - val_accuracy: 0.8230\n",
      "Epoch 77/100\n",
      "1203/1204 [============================>.] - ETA: 0s - loss: 0.4348 - accuracy: 0.8277"
     ]
    },
    {
     "name": "stderr",
     "output_type": "stream",
     "text": [
      "WARNING:absl:Found untraced functions such as _jit_compiled_convolution_op, _jit_compiled_convolution_op, lstm_cell_layer_call_fn, lstm_cell_layer_call_and_return_conditional_losses, lstm_cell_1_layer_call_fn while saving (showing 5 of 6). These functions will not be directly callable after loading.\n"
     ]
    },
    {
     "name": "stdout",
     "output_type": "stream",
     "text": [
      "INFO:tensorflow:Assets written to: C:\\Users\\Ojumu PC\\assets\n"
     ]
    },
    {
     "name": "stderr",
     "output_type": "stream",
     "text": [
      "INFO:tensorflow:Assets written to: C:\\Users\\Ojumu PC\\assets\n"
     ]
    },
    {
     "name": "stdout",
     "output_type": "stream",
     "text": [
      "1204/1204 [==============================] - 107s 89ms/step - loss: 0.4348 - accuracy: 0.8277 - val_loss: 0.4498 - val_accuracy: 0.8263\n",
      "Epoch 78/100\n",
      "1204/1204 [==============================] - 72s 60ms/step - loss: 0.4340 - accuracy: 0.8284 - val_loss: 0.4615 - val_accuracy: 0.8192\n",
      "Epoch 79/100\n",
      "1204/1204 [==============================] - 75s 62ms/step - loss: 0.4324 - accuracy: 0.8288 - val_loss: 0.4582 - val_accuracy: 0.8191\n",
      "Epoch 80/100\n",
      "1204/1204 [==============================] - 75s 62ms/step - loss: 0.4326 - accuracy: 0.8294 - val_loss: 0.4654 - val_accuracy: 0.8209\n",
      "Epoch 81/100\n",
      "1204/1204 [==============================] - 75s 62ms/step - loss: 0.4320 - accuracy: 0.8295 - val_loss: 0.4572 - val_accuracy: 0.8236\n",
      "Epoch 82/100\n",
      "1204/1204 [==============================] - 76s 63ms/step - loss: 0.4318 - accuracy: 0.8293 - val_loss: 0.4597 - val_accuracy: 0.8229\n",
      "Epoch 83/100\n",
      "1204/1204 [==============================] - 76s 63ms/step - loss: 0.4301 - accuracy: 0.8297 - val_loss: 0.4626 - val_accuracy: 0.8215\n",
      "Epoch 84/100\n",
      "1204/1204 [==============================] - 77s 64ms/step - loss: 0.4302 - accuracy: 0.8298 - val_loss: 0.4508 - val_accuracy: 0.8228\n",
      "Epoch 85/100\n",
      "1204/1204 [==============================] - 76s 63ms/step - loss: 0.4281 - accuracy: 0.8304 - val_loss: 0.4566 - val_accuracy: 0.8206\n",
      "Epoch 86/100\n",
      "1204/1204 [==============================] - 78s 65ms/step - loss: 0.4285 - accuracy: 0.8308 - val_loss: 0.4514 - val_accuracy: 0.8256\n",
      "Epoch 87/100\n",
      "1203/1204 [============================>.] - ETA: 0s - loss: 0.4262 - accuracy: 0.8309"
     ]
    },
    {
     "name": "stderr",
     "output_type": "stream",
     "text": [
      "WARNING:absl:Found untraced functions such as _jit_compiled_convolution_op, _jit_compiled_convolution_op, lstm_cell_layer_call_fn, lstm_cell_layer_call_and_return_conditional_losses, lstm_cell_1_layer_call_fn while saving (showing 5 of 6). These functions will not be directly callable after loading.\n"
     ]
    },
    {
     "name": "stdout",
     "output_type": "stream",
     "text": [
      "INFO:tensorflow:Assets written to: C:\\Users\\Ojumu PC\\assets\n"
     ]
    },
    {
     "name": "stderr",
     "output_type": "stream",
     "text": [
      "INFO:tensorflow:Assets written to: C:\\Users\\Ojumu PC\\assets\n"
     ]
    },
    {
     "name": "stdout",
     "output_type": "stream",
     "text": [
      "1204/1204 [==============================] - 118s 98ms/step - loss: 0.4262 - accuracy: 0.8309 - val_loss: 0.4503 - val_accuracy: 0.8267\n",
      "Epoch 88/100\n",
      "1204/1204 [==============================] - 70s 59ms/step - loss: 0.4272 - accuracy: 0.8306 - val_loss: 0.4631 - val_accuracy: 0.8202\n",
      "Epoch 89/100\n",
      "1203/1204 [============================>.] - ETA: 0s - loss: 0.4262 - accuracy: 0.8312"
     ]
    },
    {
     "name": "stderr",
     "output_type": "stream",
     "text": [
      "WARNING:absl:Found untraced functions such as _jit_compiled_convolution_op, _jit_compiled_convolution_op, lstm_cell_layer_call_fn, lstm_cell_layer_call_and_return_conditional_losses, lstm_cell_1_layer_call_fn while saving (showing 5 of 6). These functions will not be directly callable after loading.\n"
     ]
    },
    {
     "name": "stdout",
     "output_type": "stream",
     "text": [
      "INFO:tensorflow:Assets written to: C:\\Users\\Ojumu PC\\assets\n"
     ]
    },
    {
     "name": "stderr",
     "output_type": "stream",
     "text": [
      "INFO:tensorflow:Assets written to: C:\\Users\\Ojumu PC\\assets\n"
     ]
    },
    {
     "name": "stdout",
     "output_type": "stream",
     "text": [
      "1204/1204 [==============================] - 110s 91ms/step - loss: 0.4262 - accuracy: 0.8312 - val_loss: 0.4511 - val_accuracy: 0.8273\n",
      "Epoch 90/100\n",
      "1203/1204 [============================>.] - ETA: 0s - loss: 0.4253 - accuracy: 0.8315"
     ]
    },
    {
     "name": "stderr",
     "output_type": "stream",
     "text": [
      "WARNING:absl:Found untraced functions such as _jit_compiled_convolution_op, _jit_compiled_convolution_op, lstm_cell_layer_call_fn, lstm_cell_layer_call_and_return_conditional_losses, lstm_cell_1_layer_call_fn while saving (showing 5 of 6). These functions will not be directly callable after loading.\n"
     ]
    },
    {
     "name": "stdout",
     "output_type": "stream",
     "text": [
      "INFO:tensorflow:Assets written to: C:\\Users\\Ojumu PC\\assets\n"
     ]
    },
    {
     "name": "stderr",
     "output_type": "stream",
     "text": [
      "INFO:tensorflow:Assets written to: C:\\Users\\Ojumu PC\\assets\n"
     ]
    },
    {
     "name": "stdout",
     "output_type": "stream",
     "text": [
      "1204/1204 [==============================] - 108s 90ms/step - loss: 0.4254 - accuracy: 0.8315 - val_loss: 0.4429 - val_accuracy: 0.8288\n",
      "Epoch 91/100\n",
      "1204/1204 [==============================] - 68s 57ms/step - loss: 0.4244 - accuracy: 0.8321 - val_loss: 0.4553 - val_accuracy: 0.8245\n",
      "Epoch 92/100\n",
      "1203/1204 [============================>.] - ETA: 0s - loss: 0.4231 - accuracy: 0.8316"
     ]
    },
    {
     "name": "stderr",
     "output_type": "stream",
     "text": [
      "WARNING:absl:Found untraced functions such as _jit_compiled_convolution_op, _jit_compiled_convolution_op, lstm_cell_layer_call_fn, lstm_cell_layer_call_and_return_conditional_losses, lstm_cell_1_layer_call_fn while saving (showing 5 of 6). These functions will not be directly callable after loading.\n"
     ]
    },
    {
     "name": "stdout",
     "output_type": "stream",
     "text": [
      "INFO:tensorflow:Assets written to: C:\\Users\\Ojumu PC\\assets\n"
     ]
    },
    {
     "name": "stderr",
     "output_type": "stream",
     "text": [
      "INFO:tensorflow:Assets written to: C:\\Users\\Ojumu PC\\assets\n"
     ]
    },
    {
     "name": "stdout",
     "output_type": "stream",
     "text": [
      "1204/1204 [==============================] - 104s 86ms/step - loss: 0.4231 - accuracy: 0.8316 - val_loss: 0.4422 - val_accuracy: 0.8298\n",
      "Epoch 93/100\n",
      "1204/1204 [==============================] - 68s 57ms/step - loss: 0.4234 - accuracy: 0.8324 - val_loss: 0.4442 - val_accuracy: 0.8274\n",
      "Epoch 94/100\n",
      "1204/1204 [==============================] - 74s 61ms/step - loss: 0.4225 - accuracy: 0.8324 - val_loss: 0.4486 - val_accuracy: 0.8241\n",
      "Epoch 95/100\n",
      "1203/1204 [============================>.] - ETA: 0s - loss: 0.4212 - accuracy: 0.8337"
     ]
    },
    {
     "name": "stderr",
     "output_type": "stream",
     "text": [
      "WARNING:absl:Found untraced functions such as _jit_compiled_convolution_op, _jit_compiled_convolution_op, lstm_cell_layer_call_fn, lstm_cell_layer_call_and_return_conditional_losses, lstm_cell_1_layer_call_fn while saving (showing 5 of 6). These functions will not be directly callable after loading.\n"
     ]
    },
    {
     "name": "stdout",
     "output_type": "stream",
     "text": [
      "INFO:tensorflow:Assets written to: C:\\Users\\Ojumu PC\\assets\n"
     ]
    },
    {
     "name": "stderr",
     "output_type": "stream",
     "text": [
      "INFO:tensorflow:Assets written to: C:\\Users\\Ojumu PC\\assets\n"
     ]
    },
    {
     "name": "stdout",
     "output_type": "stream",
     "text": [
      "1204/1204 [==============================] - 110s 91ms/step - loss: 0.4212 - accuracy: 0.8337 - val_loss: 0.4394 - val_accuracy: 0.8300\n",
      "Epoch 96/100\n",
      "1204/1204 [==============================] - 74s 62ms/step - loss: 0.4207 - accuracy: 0.8339 - val_loss: 0.4461 - val_accuracy: 0.8245\n",
      "Epoch 97/100\n",
      "1204/1204 [==============================] - 77s 64ms/step - loss: 0.4204 - accuracy: 0.8340 - val_loss: 0.4524 - val_accuracy: 0.8253\n",
      "Epoch 98/100\n",
      "1204/1204 [==============================] - 77s 64ms/step - loss: 0.4204 - accuracy: 0.8327 - val_loss: 0.4397 - val_accuracy: 0.8300\n",
      "Epoch 99/100\n",
      "1204/1204 [==============================] - 77s 64ms/step - loss: 0.4182 - accuracy: 0.8343 - val_loss: 0.4461 - val_accuracy: 0.8268\n",
      "Epoch 100/100\n",
      "1204/1204 [==============================] - 78s 65ms/step - loss: 0.4198 - accuracy: 0.8337 - val_loss: 0.4431 - val_accuracy: 0.8269\n"
     ]
    }
   ],
   "source": [
    "history = model.fit(\n",
    "    x_train,\n",
    "    y_train,\n",
    "    batch_size=128,\n",
    "    epochs=100, \n",
    "    validation_data=(x_test, y_test),\n",
    "    callbacks=[model_checkpoint_callback]  \n",
    ")"
   ]
  },
  {
   "cell_type": "code",
   "execution_count": 111,
   "id": "9e416e71-fa6b-48c7-bda5-d020ac4378a0",
   "metadata": {},
   "outputs": [
    {
     "name": "stdout",
     "output_type": "stream",
     "text": [
      "2063/2063 [==============================] - 21s 10ms/step - loss: 0.4431 - accuracy: 0.8269\n"
     ]
    },
    {
     "data": {
      "text/plain": [
       "[0.4430946111679077, 0.8268636465072632]"
      ]
     },
     "execution_count": 111,
     "metadata": {},
     "output_type": "execute_result"
    }
   ],
   "source": [
    "model.evaluate(x_test,y_test)"
   ]
  },
  {
   "cell_type": "code",
   "execution_count": 112,
   "id": "f08fdd8e-439b-4360-9b67-182454f146ec",
   "metadata": {},
   "outputs": [
    {
     "name": "stdout",
     "output_type": "stream",
     "text": [
      "4813/4813 [==============================] - 49s 10ms/step - loss: 0.4127 - accuracy: 0.8364\n"
     ]
    },
    {
     "data": {
      "text/plain": [
       "[0.4126611649990082, 0.8364025950431824]"
      ]
     },
     "execution_count": 112,
     "metadata": {},
     "output_type": "execute_result"
    }
   ],
   "source": [
    "model.evaluate(x_train,y_train)"
   ]
  },
  {
   "cell_type": "markdown",
   "id": "2e4e3713-484d-4c41-b6e4-98bfe51533e2",
   "metadata": {},
   "source": [
    "##### Using the Model to Predict"
   ]
  },
  {
   "cell_type": "code",
   "execution_count": 113,
   "id": "a0b7d63c-8bfe-4e59-bd48-57757d79507a",
   "metadata": {},
   "outputs": [
    {
     "name": "stdout",
     "output_type": "stream",
     "text": [
      "2063/2063 [==============================] - 22s 10ms/step\n"
     ]
    }
   ],
   "source": [
    "y_pred_labels = model.predict(x_test)\n",
    "lstm_y_pred  = np.argmax(y_pred_labels,axis=1)"
   ]
  },
  {
   "cell_type": "code",
   "execution_count": 114,
   "id": "fc913db5-eeb7-4a40-a451-c7718252b52d",
   "metadata": {},
   "outputs": [],
   "source": [
    "y_true = np.argmax(y_test,axis=1)"
   ]
  },
  {
   "cell_type": "markdown",
   "id": "5c89686e-7774-4d6c-8269-0319db497022",
   "metadata": {},
   "source": [
    "### calculating the F1-score, precision, and recall"
   ]
  },
  {
   "cell_type": "code",
   "execution_count": 115,
   "id": "b12a69f5-a956-458f-9604-1d9462109098",
   "metadata": {},
   "outputs": [],
   "source": [
    "f1score = f1_score(y_true, lstm_y_pred,average='weighted')\n",
    "precision = precision_score(y_true, lstm_y_pred,average='weighted')\n",
    "recall = recall_score(y_true, lstm_y_pred,average='weighted')\n",
    "accuracy = accuracy_score(y_true,lstm_y_pred)"
   ]
  },
  {
   "cell_type": "code",
   "execution_count": 116,
   "id": "d7975379-165a-47e8-96dc-e6705068a814",
   "metadata": {},
   "outputs": [
    {
     "name": "stdout",
     "output_type": "stream",
     "text": [
      "F1-score: 0.80\n",
      "Precision: 0.80\n",
      "Recall: 0.83\n",
      "Accuracy: 0.83\n"
     ]
    }
   ],
   "source": [
    "print('F1-score: {:.2f}'.format(f1score))\n",
    "print('Precision: {:.2f}'.format(precision))\n",
    "print('Recall: {:.2f}'.format(recall))\n",
    "print('Accuracy: {:.2f}'.format(accuracy))"
   ]
  },
  {
   "cell_type": "markdown",
   "id": "dce6e38a-07e6-4016-b0d5-30d04ee44752",
   "metadata": {},
   "source": [
    "### Printing Classification Report"
   ]
  },
  {
   "cell_type": "code",
   "execution_count": 117,
   "id": "400c0678-193a-4843-a327-035a1bc94521",
   "metadata": {},
   "outputs": [
    {
     "name": "stdout",
     "output_type": "stream",
     "text": [
      "LSTM Model Classification Report \n",
      " -----------------------------\n",
      "Accuracy: 0.83\n",
      "              precision    recall  f1-score   support\n",
      "\n",
      "       Fatal       0.88      0.91      0.90     30064\n",
      "     Serious       0.46      0.07      0.12      5945\n",
      "      Slight       0.79      0.89      0.84     29991\n",
      "\n",
      "    accuracy                           0.83     66000\n",
      "   macro avg       0.71      0.62      0.62     66000\n",
      "weighted avg       0.80      0.83      0.80     66000\n",
      "\n"
     ]
    }
   ],
   "source": [
    "print('LSTM Model Classification Report \\n -----------------------------')\n",
    "accuracy = accuracy_score(y_true,lstm_y_pred)\n",
    "print(\"Accuracy: {:.2f}\".format(accuracy))\n",
    "print(classification_report(y_true, lstm_y_pred,\n",
    "                            target_names=['Fatal','Serious','Slight']))"
   ]
  },
  {
   "cell_type": "markdown",
   "id": "f82fda3e-299a-47e5-973f-929eca937cc5",
   "metadata": {},
   "source": [
    "### Generating Confusion Matrix"
   ]
  },
  {
   "cell_type": "code",
   "execution_count": 118,
   "id": "d8932cc9-ad15-44be-8987-90a289dd6d27",
   "metadata": {},
   "outputs": [
    {
     "data": {
      "image/png": "[encoded data removed]",
      "text/plain": [
       "<Figure size 800x600 with 2 Axes>"
      ]
     },
     "metadata": {},
     "output_type": "display_data"
    }
   ],
   "source": [
    "# Generate the confusion matrix\n",
    "conf_mat = confusion_matrix(y_true, lstm_y_pred)\n",
    "\n",
    "# Plot the confusion matrix as a heatmap\n",
    "plt.figure(figsize=(8, 6))\n",
    "sns.heatmap(conf_mat, cmap=\"GnBu\", annot=True, fmt=\"d\", xticklabels=['Fatal','Serious','Slight'],\n",
    "            yticklabels=['Fatal','Serious','Slight'])\n",
    "plt.title(\"Confusion Matrix for the LSTM Model\")\n",
    "plt.ylabel(\"True Label\")\n",
    "plt.xlabel(\"Predicted Label\");\n",
    "#plt.savefig('confusion_matrix.png')"
   ]
  },
  {
   "cell_type": "code",
   "execution_count": null,
   "id": "c8c45424-33fb-4f14-9949-2034049ea41e",
   "metadata": {},
   "outputs": [],
   "source": []
  }
 ],
 "metadata": {
  "kernelspec": {
   "display_name": "Python 3 (ipykernel)",
   "language": "python",
   "name": "python3"
  },
  "language_info": {
   "codemirror_mode": {
    "name": "ipython",
    "version": 3
   },
   "file_extension": ".py",
   "mimetype": "text/x-python",
   "name": "python",
   "nbconvert_exporter": "python",
   "pygments_lexer": "ipython3",
   "version": "3.9.7"
  }
 },
 "nbformat": 4,
 "nbformat_minor": 5
}
